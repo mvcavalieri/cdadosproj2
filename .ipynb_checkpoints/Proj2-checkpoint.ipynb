{
 "cells": [
  {
   "cell_type": "markdown",
   "metadata": {},
   "source": [
    "#                                 Projeto 2- Ciência dos Dados\n"
   ]
  },
  {
   "cell_type": "markdown",
   "metadata": {},
   "source": [
    "##### Como os índices de suicídio são afetados por PIB ber Capita,  Índice de Desenvolvimento Humano, sexo, idade e população e qual desses fatores é o mais relevante pra determinar as taxas de suicídio de um país "
   ]
  },
  {
   "cell_type": "markdown",
   "metadata": {},
   "source": [
    "Por Maria Victória Cavalieri e Laura Perim"
   ]
  },
  {
   "cell_type": "markdown",
   "metadata": {},
   "source": [
    "## Introdução"
   ]
  },
  {
   "cell_type": "markdown",
   "metadata": {},
   "source": [
    "Na atualidade, um dos assuntos mais comentados e discutidos é o suicídio. O intuito principal desse projeto é analisar uma base de dados que contém a variação da taxa de suicídios dentre diversos países, desde 1985 até 2016, juntamente com diversos outros fatores como faixa etária, Índice de desenolvimento humano, PIB, sexo e geração, buscando investigar qual a relevância destes para os índices de suicídio."
   ]
  },
  {
   "cell_type": "markdown",
   "metadata": {},
   "source": [
    "## 1- Importando e limpando os dados\n",
    "Ness etapa, importamos a base de dados obtida no Kaggle, e a limpamos para podermos analisá-la com grau elevado de autonomia."
   ]
  },
  {
   "cell_type": "code",
   "execution_count": null,
   "metadata": {},
   "outputs": [],
   "source": []
  },
  {
   "cell_type": "code",
<<<<<<< HEAD
   "execution_count": 1,
=======
   "execution_count": 42,
>>>>>>> aad28e2814fe806928e73ec9dee5af3702053854
   "metadata": {},
   "outputs": [],
   "source": [
    "%matplotlib notebook\n",
    "%matplotlib inline\n",
    "%reset -f\n",
    "from sklearn.model_selection import train_test_split\n",
    "from scipy import stats\n",
    "import pandas as pd\n",
    "import numpy as np\n",
    "from scipy.stats import norm, probplot\n",
    "import statsmodels.api as sm\n",
    "import matplotlib.pyplot as plt\n",
    "from mpl_toolkits.mplot3d import Axes3D\n",
    "from ipywidgets import interact, FloatSlider\n"
   ]
  },
  {
   "cell_type": "markdown",
   "metadata": {},
   "source": []
  },
  {
   "cell_type": "code",
   "execution_count": 2,
   "metadata": {},
   "outputs": [
    {
     "data": {
      "text/html": [
       "<div>\n",
       "<style scoped>\n",
       "    .dataframe tbody tr th:only-of-type {\n",
       "        vertical-align: middle;\n",
       "    }\n",
       "\n",
       "    .dataframe tbody tr th {\n",
       "        vertical-align: top;\n",
       "    }\n",
       "\n",
       "    .dataframe thead th {\n",
       "        text-align: right;\n",
       "    }\n",
       "</style>\n",
       "<table border=\"1\" class=\"dataframe\">\n",
       "  <thead>\n",
       "    <tr style=\"text-align: right;\">\n",
       "      <th></th>\n",
       "      <th>country</th>\n",
       "      <th>year</th>\n",
       "      <th>sex</th>\n",
       "      <th>age</th>\n",
       "      <th>suicides_no</th>\n",
       "      <th>population</th>\n",
       "      <th>suicides_100k_pop</th>\n",
       "      <th>country-year</th>\n",
       "      <th>HDI</th>\n",
       "      <th>gdp_for_year ($)</th>\n",
       "      <th>gdp_capita</th>\n",
       "      <th>generation</th>\n",
       "    </tr>\n",
       "  </thead>\n",
       "  <tbody>\n",
       "    <tr>\n",
       "      <th>0</th>\n",
       "      <td>Albania</td>\n",
       "      <td>1987</td>\n",
       "      <td>male</td>\n",
       "      <td>15-24 years</td>\n",
       "      <td>21</td>\n",
       "      <td>312900</td>\n",
       "      <td>6.71</td>\n",
       "      <td>Albania1987</td>\n",
       "      <td>NaN</td>\n",
       "      <td>2,156,624,900</td>\n",
       "      <td>796</td>\n",
       "      <td>Generation X</td>\n",
       "    </tr>\n",
       "    <tr>\n",
       "      <th>1</th>\n",
       "      <td>Albania</td>\n",
       "      <td>1987</td>\n",
       "      <td>male</td>\n",
       "      <td>35-54 years</td>\n",
       "      <td>16</td>\n",
       "      <td>308000</td>\n",
       "      <td>5.19</td>\n",
       "      <td>Albania1987</td>\n",
       "      <td>NaN</td>\n",
       "      <td>2,156,624,900</td>\n",
       "      <td>796</td>\n",
       "      <td>Silent</td>\n",
       "    </tr>\n",
       "    <tr>\n",
       "      <th>2</th>\n",
       "      <td>Albania</td>\n",
       "      <td>1987</td>\n",
       "      <td>female</td>\n",
       "      <td>15-24 years</td>\n",
       "      <td>14</td>\n",
       "      <td>289700</td>\n",
       "      <td>4.83</td>\n",
       "      <td>Albania1987</td>\n",
       "      <td>NaN</td>\n",
       "      <td>2,156,624,900</td>\n",
       "      <td>796</td>\n",
       "      <td>Generation X</td>\n",
       "    </tr>\n",
       "    <tr>\n",
       "      <th>3</th>\n",
       "      <td>Albania</td>\n",
       "      <td>1987</td>\n",
       "      <td>male</td>\n",
       "      <td>75+ years</td>\n",
       "      <td>1</td>\n",
       "      <td>21800</td>\n",
       "      <td>4.59</td>\n",
       "      <td>Albania1987</td>\n",
       "      <td>NaN</td>\n",
       "      <td>2,156,624,900</td>\n",
       "      <td>796</td>\n",
       "      <td>G.I. Generation</td>\n",
       "    </tr>\n",
       "    <tr>\n",
       "      <th>4</th>\n",
       "      <td>Albania</td>\n",
       "      <td>1987</td>\n",
       "      <td>male</td>\n",
       "      <td>25-34 years</td>\n",
       "      <td>9</td>\n",
       "      <td>274300</td>\n",
       "      <td>3.28</td>\n",
       "      <td>Albania1987</td>\n",
       "      <td>NaN</td>\n",
       "      <td>2,156,624,900</td>\n",
       "      <td>796</td>\n",
       "      <td>Boomers</td>\n",
       "    </tr>\n",
       "  </tbody>\n",
       "</table>\n",
       "</div>"
      ],
      "text/plain": [
       "   country  year     sex          age  suicides_no  population  \\\n",
       "0  Albania  1987    male  15-24 years           21      312900   \n",
       "1  Albania  1987    male  35-54 years           16      308000   \n",
       "2  Albania  1987  female  15-24 years           14      289700   \n",
       "3  Albania  1987    male    75+ years            1       21800   \n",
       "4  Albania  1987    male  25-34 years            9      274300   \n",
       "\n",
       "   suicides_100k_pop country-year  HDI  gdp_for_year ($)   gdp_capita  \\\n",
       "0               6.71  Albania1987  NaN      2,156,624,900         796   \n",
       "1               5.19  Albania1987  NaN      2,156,624,900         796   \n",
       "2               4.83  Albania1987  NaN      2,156,624,900         796   \n",
       "3               4.59  Albania1987  NaN      2,156,624,900         796   \n",
       "4               3.28  Albania1987  NaN      2,156,624,900         796   \n",
       "\n",
       "        generation  \n",
       "0     Generation X  \n",
       "1           Silent  \n",
       "2     Generation X  \n",
       "3  G.I. Generation  \n",
       "4          Boomers  "
      ]
     },
     "execution_count": 2,
     "metadata": {},
     "output_type": "execute_result"
    }
   ],
   "source": [
    " #Abrindo o documento e renomeando as colunas de alguns elementos das colunas\n",
    "dados= pd.read_csv('suicide_.csv')\n",
    "dados.rename(columns={'gdp_per_capita ($)':'gdp_capita'}, inplace=True)\n",
    "dados.rename(columns={'HDI for year':'HDI'}, inplace=True)\n",
    "dados.rename(columns={'suicides/100k pop' :'suicides_100k_pop'}, inplace=True)\n",
    "dados.head()"
   ]
  },
  {
   "cell_type": "code",
   "execution_count": 3,
   "metadata": {},
   "outputs": [],
   "source": [
    "#A função a seguir é uma função de Regressão Linear que implemente o modelo e já retorna os resultados dele. Além disso, ele adiciona a constante 1 para que a multiplicação de matrizes possa ser feita\n",
    "def regress(X,Y):\n",
    "    '''\n",
    "    X: coluna(s) do DataFrame que serão utilizadas como variável(is) preditoras/explicativas (independente(s))\n",
    "    Y: coluna do DataFrame que será utilizada como variável resposta (dependente)\n",
    "    '''\n",
    "    X_cp = sm.add_constant(X)\n",
    "    model = sm.OLS(Y,X_cp)\n",
    "    results = model.fit()\n",
    "    return results\n",
    "#Por ser uma base com dados de 1985 e de muitos países, não possuímos algumas das informações. Por isso, vamos retirar os \"Nans\", ou seja as informações que faltam, para poder realizar a análise\n",
    "df = dados[[ 'year', 'sex', 'age','suicides_100k_pop', 'population','HDI',\n",
    "'gdp_capita','generation']].dropna()\n"
   ]
  },
  {
   "cell_type": "code",
   "execution_count": 4,
   "metadata": {},
   "outputs": [
    {
     "data": {
      "text/html": [
       "<div>\n",
       "<style scoped>\n",
       "    .dataframe tbody tr th:only-of-type {\n",
       "        vertical-align: middle;\n",
       "    }\n",
       "\n",
       "    .dataframe tbody tr th {\n",
       "        vertical-align: top;\n",
       "    }\n",
       "\n",
       "    .dataframe thead th {\n",
       "        text-align: right;\n",
       "    }\n",
       "</style>\n",
       "<table border=\"1\" class=\"dataframe\">\n",
       "  <thead>\n",
       "    <tr style=\"text-align: right;\">\n",
       "      <th></th>\n",
       "      <th>year</th>\n",
       "      <th>suicides_100k_pop</th>\n",
       "      <th>population</th>\n",
       "      <th>HDI</th>\n",
       "      <th>gdp_capita</th>\n",
       "    </tr>\n",
       "  </thead>\n",
       "  <tbody>\n",
       "    <tr>\n",
       "      <th>count</th>\n",
       "      <td>8364.000000</td>\n",
       "      <td>8364.000000</td>\n",
       "      <td>8.364000e+03</td>\n",
       "      <td>8364.000000</td>\n",
       "      <td>8364.000000</td>\n",
       "    </tr>\n",
       "    <tr>\n",
       "      <th>mean</th>\n",
       "      <td>2005.348637</td>\n",
       "      <td>11.991936</td>\n",
       "      <td>1.852173e+06</td>\n",
       "      <td>0.776601</td>\n",
       "      <td>21074.371593</td>\n",
       "    </tr>\n",
       "    <tr>\n",
       "      <th>std</th>\n",
       "      <td>8.803020</td>\n",
       "      <td>17.361772</td>\n",
       "      <td>3.969754e+06</td>\n",
       "      <td>0.093367</td>\n",
       "      <td>22579.186968</td>\n",
       "    </tr>\n",
       "    <tr>\n",
       "      <th>min</th>\n",
       "      <td>1985.000000</td>\n",
       "      <td>0.000000</td>\n",
       "      <td>8.750000e+02</td>\n",
       "      <td>0.483000</td>\n",
       "      <td>313.000000</td>\n",
       "    </tr>\n",
       "    <tr>\n",
       "      <th>25%</th>\n",
       "      <td>2000.000000</td>\n",
       "      <td>1.040000</td>\n",
       "      <td>1.216425e+05</td>\n",
       "      <td>0.713000</td>\n",
       "      <td>4862.000000</td>\n",
       "    </tr>\n",
       "    <tr>\n",
       "      <th>50%</th>\n",
       "      <td>2010.000000</td>\n",
       "      <td>5.720000</td>\n",
       "      <td>4.722505e+05</td>\n",
       "      <td>0.779000</td>\n",
       "      <td>12584.000000</td>\n",
       "    </tr>\n",
       "    <tr>\n",
       "      <th>75%</th>\n",
       "      <td>2012.000000</td>\n",
       "      <td>15.442500</td>\n",
       "      <td>1.500290e+06</td>\n",
       "      <td>0.855000</td>\n",
       "      <td>30271.000000</td>\n",
       "    </tr>\n",
       "    <tr>\n",
       "      <th>max</th>\n",
       "      <td>2014.000000</td>\n",
       "      <td>187.060000</td>\n",
       "      <td>4.350934e+07</td>\n",
       "      <td>0.944000</td>\n",
       "      <td>126352.000000</td>\n",
       "    </tr>\n",
       "  </tbody>\n",
       "</table>\n",
       "</div>"
      ],
      "text/plain": [
       "              year  suicides_100k_pop    population          HDI  \\\n",
       "count  8364.000000        8364.000000  8.364000e+03  8364.000000   \n",
       "mean   2005.348637          11.991936  1.852173e+06     0.776601   \n",
       "std       8.803020          17.361772  3.969754e+06     0.093367   \n",
       "min    1985.000000           0.000000  8.750000e+02     0.483000   \n",
       "25%    2000.000000           1.040000  1.216425e+05     0.713000   \n",
       "50%    2010.000000           5.720000  4.722505e+05     0.779000   \n",
       "75%    2012.000000          15.442500  1.500290e+06     0.855000   \n",
       "max    2014.000000         187.060000  4.350934e+07     0.944000   \n",
       "\n",
       "          gdp_capita  \n",
       "count    8364.000000  \n",
       "mean    21074.371593  \n",
       "std     22579.186968  \n",
       "min       313.000000  \n",
       "25%      4862.000000  \n",
       "50%     12584.000000  \n",
       "75%     30271.000000  \n",
       "max    126352.000000  "
      ]
     },
     "execution_count": 4,
     "metadata": {},
     "output_type": "execute_result"
    }
   ],
   "source": [
    "df.describe()"
   ]
  },
  {
   "cell_type": "markdown",
   "metadata": {},
   "source": [
    "## 2- Preparando os dados para análise\n",
    "Aqui, tivemos que substituir palavras ( variáveis qualitativas) por binários, como 1= homem e 0=mulher. Isso será feito mais pra frente com as gerações e com as faixa etárias, que se tornarão variáveis denominadas \"dummies\". Basicamente elas também se tornam variáveis binárias, mas como há mais de uma categoria, só uma torna-se 1, enquanto todo o resto se torna 0 a cada linha."
   ]
  },
  {
   "cell_type": "code",
   "execution_count": 5,
   "metadata": {},
   "outputs": [
    {
     "data": {
      "text/html": [
       "<div>\n",
       "<style scoped>\n",
       "    .dataframe tbody tr th:only-of-type {\n",
       "        vertical-align: middle;\n",
       "    }\n",
       "\n",
       "    .dataframe tbody tr th {\n",
       "        vertical-align: top;\n",
       "    }\n",
       "\n",
       "    .dataframe thead th {\n",
       "        text-align: right;\n",
       "    }\n",
       "</style>\n",
       "<table border=\"1\" class=\"dataframe\">\n",
       "  <thead>\n",
       "    <tr style=\"text-align: right;\">\n",
       "      <th></th>\n",
       "      <th>year</th>\n",
       "      <th>sex</th>\n",
       "      <th>age</th>\n",
       "      <th>suicides_100k_pop</th>\n",
       "      <th>population</th>\n",
       "      <th>HDI</th>\n",
       "      <th>gdp_capita</th>\n",
       "      <th>generation</th>\n",
       "    </tr>\n",
       "  </thead>\n",
       "  <tbody>\n",
       "    <tr>\n",
       "      <th>72</th>\n",
       "      <td>1995</td>\n",
       "      <td>1</td>\n",
       "      <td>25-34 years</td>\n",
       "      <td>5.58</td>\n",
       "      <td>232900</td>\n",
       "      <td>0.619</td>\n",
       "      <td>835</td>\n",
       "      <td>Generation X</td>\n",
       "    </tr>\n",
       "    <tr>\n",
       "      <th>73</th>\n",
       "      <td>1995</td>\n",
       "      <td>1</td>\n",
       "      <td>55-74 years</td>\n",
       "      <td>5.06</td>\n",
       "      <td>178000</td>\n",
       "      <td>0.619</td>\n",
       "      <td>835</td>\n",
       "      <td>Silent</td>\n",
       "    </tr>\n",
       "    <tr>\n",
       "      <th>74</th>\n",
       "      <td>1995</td>\n",
       "      <td>0</td>\n",
       "      <td>75+ years</td>\n",
       "      <td>4.90</td>\n",
       "      <td>40800</td>\n",
       "      <td>0.619</td>\n",
       "      <td>835</td>\n",
       "      <td>G.I. Generation</td>\n",
       "    </tr>\n",
       "    <tr>\n",
       "      <th>75</th>\n",
       "      <td>1995</td>\n",
       "      <td>0</td>\n",
       "      <td>15-24 years</td>\n",
       "      <td>4.59</td>\n",
       "      <td>283500</td>\n",
       "      <td>0.619</td>\n",
       "      <td>835</td>\n",
       "      <td>Generation X</td>\n",
       "    </tr>\n",
       "    <tr>\n",
       "      <th>76</th>\n",
       "      <td>1995</td>\n",
       "      <td>1</td>\n",
       "      <td>15-24 years</td>\n",
       "      <td>4.56</td>\n",
       "      <td>241200</td>\n",
       "      <td>0.619</td>\n",
       "      <td>835</td>\n",
       "      <td>Generation X</td>\n",
       "    </tr>\n",
       "  </tbody>\n",
       "</table>\n",
       "</div>"
      ],
      "text/plain": [
       "    year  sex          age  suicides_100k_pop  population    HDI  gdp_capita  \\\n",
       "72  1995    1  25-34 years               5.58      232900  0.619         835   \n",
       "73  1995    1  55-74 years               5.06      178000  0.619         835   \n",
       "74  1995    0    75+ years               4.90       40800  0.619         835   \n",
       "75  1995    0  15-24 years               4.59      283500  0.619         835   \n",
       "76  1995    1  15-24 years               4.56      241200  0.619         835   \n",
       "\n",
       "         generation  \n",
       "72     Generation X  \n",
       "73           Silent  \n",
       "74  G.I. Generation  \n",
       "75     Generation X  \n",
       "76     Generation X  "
      ]
     },
     "execution_count": 5,
     "metadata": {},
     "output_type": "execute_result"
    }
   ],
   "source": [
    "#Separando os sexos masculinos e femininos para a análise de dados, e os nomeando com variáveis binárias para utilizar a função de regressão\n",
    "df.loc[df.sex == 'male', 'sex'] = 1\n",
    "df.loc[df.sex == 'female', 'sex'] = 0\n",
    "df.sex = df.sex.astype('int')\n",
    "df.head()"
   ]
  },
  {
   "cell_type": "markdown",
   "metadata": {},
   "source": [
    "## 3- Análise descritiva\n",
    "Vamos começar fazendo algumas análises básicas dos dados para entender como eles interagem entre si, e como cada um afeta no Índice de Suicídio. Uma das relações que podemos calcular é a correlação entre nossas variáveis. A correlação é um índice que varia de -1 a 1 e indica o quanto uma variável depende da outra. Se a correlação for muito alta, isso pode atrapalhar na análise de regressão. "
   ]
  },
  {
   "cell_type": "code",
   "execution_count": 6,
   "metadata": {},
   "outputs": [
    {
     "name": "stdout",
     "output_type": "stream",
     "text": [
      "                   suicides_100k_pop  population       HDI  gdp_capita\n",
      "suicides_100k_pop           1.000000   -0.023197  0.074279   -0.002339\n",
      "population                 -0.023197    1.000000  0.102943    0.073701\n",
      "HDI                         0.074279    0.102943  1.000000    0.771228\n",
      "gdp_capita                 -0.002339    0.073701  0.771228    1.000000\n"
     ]
    },
    {
     "data": {
      "image/png": "iVBORw0KGgoAAAANSUhEUgAAAbEAAAFcCAYAAABGCoDtAAAABHNCSVQICAgIfAhkiAAAAAlwSFlzAAALEgAACxIB0t1+/AAAADh0RVh0U29mdHdhcmUAbWF0cGxvdGxpYiB2ZXJzaW9uMy4xLjAsIGh0dHA6Ly9tYXRwbG90bGliLm9yZy+17YcXAAAgAElEQVR4nOzdeXwU9fnA8c+TcFYukSMQThVUiAoYLkU5DTfEqyJgxWpRKEVtUdFaS9UW9adorShivQqCBwhyhvtQKxAOD1AukSshwQOIQKQkeX5/zGTZHJssmOzskufta17ufOc7M89sln32+53vzIiqYowxxkSiKK8DMMYYY86UJTFjjDERy5KYMcaYiGVJzBhjTMSyJGaMMSZiWRIzxhgTsSyJmTJDRHaLSI8S2M6/ReQrEWkoIstKIjZTOBF5WET+XUh5RxHZKiLVSmAfjUTkqIhE/9JtmdCzJGZCRkQGi8h69wvjgIgsFJFOXsd1BmoBQ4B3gfe8CKCkEnK4U9V/qOqd/mUiUhH4F/BrVc0ogX3sVdUqqpr9S7dlQq+c1wGYskFE/giMBe4GFgH/A3oBA4GPT3Nb5VQ1q7iy0qKqie7LK0OxvzMRyvejtBRxDM2BR1T1i1DHZMKPtcRMqROR6sBjwO9V9QNVPaaqJ1V1rqre79apKCLPi0iqOz3v/uJGRLqIyH4ReVBE0oA3Citz6/YTkc9E5LCI/FdELgsQUzsR+dStd0BEXhSRCn7LW4rIEhH5UUTSReThINe7UkSSReSI+/+AiU5E6ovITBH5TkS+FZHRfsvGich7IvIfEflJRLaISLy7bArQCJjrtmofEJEmIqIicoeI7AWWu3U7uO/DYRH5XES6FBHPWBH5xt3fVyJynd+yC0VklXtc34vIuwG2kSQio/KVfS4i17uv/yki+0QkQ0Q2iMjV+Y55hohMFZEMYJhbNtWvzvvAEuBdEVktIi39jjPNv0tQRK4TkS/c11F+x/eD+97WdJflvnfl3PlhIrLLfR++FZEhgd4zEwZU1SabSnXCaXFlAeWKqPMYsAaoA9QG/gs87i7r4q7/FFARqBygrA1wEGgPRAO3AbuBiu52dgM93NdXAB1weiOaAF8D97rLqgIHgD8Bldz59kGsVxM4BNzqLr/FnT+vkOONAjYAjwIVgPOBXUBPd/k44Gegj3ss44E1fuv7jsWdbwIo8B/gHPf9iAV+cLcRBVzrztcO8De4Cajv1r0ZOAbUc5dNB/7sLqsEdAqwjd8An/jNtwAO+/0NhgLnue/Pn4A0oJLfMZ8EEt39VHbLpvpt707371EReB74zG/ZN8C1fvPvA2Pd1/fifL4auOu+AkzP996Vc9+7DOAid1k9oKXX/4ZsKuL7xesAbDr7J5zzR2nF1PkG6OM33xPY7b7ugtP9WMlveWFlL+MmPr+ybUBn93WeL/589e4FZrmvbwE2BXls/uvdCqzLt/xTYFgh67UH9uYrewh4w309Dljqt6wFkOk3n+dY/L6Iz/crexCYkm8fi4Dbgjy2z4CB7uv/AJOBBsWsUxUn+TV25/8OvF5E/UPA5X7HvDrf8jxJLN+yGu4xV3fnn8jdVyFxfA1091u3Hk7CzP0x4p/EDgM3AJW9+Pdi0+lN1p1oQuEHoFZud00A9YE9fvN73LJc36nqz/nWyV/WGPiT23V2WEQOAw3zbQcAEWkuIvPcLqgM4B84AzZw1/mmsCCLWS//MeQeR2whm2oM1M8X68NAXb86aX6vjwOVinkPAfbl28dN+fbRCecLvLBj+41fV+xhIM7v2B4ABFjndm3+trBtqOpPwHxgkFs0CHjbbx9/EpGv3W7Jw0B1v33kjz9/fFFu9+IWEdmHk2TxW38acL043dDXAxtVNffv0RiY5XdsXwPZ5H2/UdVjOK3Qu4EDIjJfRC4OFJPxniUxEwqf4nSNJRZRJxXniyZXI7csV2GPW8hftg/4u6rW8Jt+parTC1n3ZWAr0ExVq+EkEPHbzgUB4ixqvfzHkHscKYVsZx/wbb5Yq6pqnwD7zS/Q4yf8y/fhtMT893GOqj6ZfyURaQy8CozC6f6sAWzOPTZVTVPV36lqfeAu4CURuTBADNOBW0SkI06X4Ap3H1fjtA5/DZzr7uMIp96/oo4LnBbyTTgt0IZA69zw3Ri/wvnR0BsYjJPU/N+L3vnei0qqWuBvo6qLVPVanGS/1X1fTJiyJGZKnaoewTn3M1FEEkXkVyJSXkR6i8jTbrXpwCMiUltEarn1pwbaZgCvAneLSHtxnCMifUWkaiF1q+Kc+zjq/tIe4bdsHhAjIveKM+Ckqoi0D2K9BUBzcS4lKCciN+N0A84rZP/rgAxxBqZUFpFoEYkTkbZBHms6znm0okwF+otIT3f7lcQZENOgkLrn4CSQ7wBE5Haclhju/E1+6x1y6wYakr4AJ5k/BryrqjlueVWc85jfAeVE5FHgdK7zquHuM1NEzsHpqsxvGjAauAbnnFiuScDf3WSN+zkbmH9lEakrIgPc7Z8AjhZxnCYMWBIzIaGqE4A/Ao/gfIntw/nVP9ut8gSwHvgC+BLY6Jadzj7WA78DXsT5ot0JDAtQfQzOr/WfcJKfb7Sd2yV2LdAfpwWZAnQNYr0fgH44AxZ+wOmC66eq3xcSa7a7/VbAt8D3wL9xuteCMR4n6R8WkTGFVVDVfTiXMDzMqff8fgr5d++2Yp7FaTWnA5cCn/hVaQusFZGjwBzgHlX9NsB+TwAfAD3I2xpaBCwEtuO0mH6miO7DQryF817tB77CGaiR33Sc86XL873v/3TjXiwiP7nrti+4OlE4f79U4EegMzDyNGI0ISaq9lBMYwJxu8ASVPUvXsdijCnIWmLGBCAiVYC9nGqFGWPCjCUxYwL7G063VWHntIwxp0lEXheRgyKyOcByEZEXRGSniHwhIm2K3aZ1JxpjjAkFEbkGZ7DMf1Q1rpDlfYA/4Fyg3x74p6oWdu7Sx1pixhhjQkJVV+MMmAlkIE6CU1VdA9QQkUKva8xlScwYY0y4iCXviNX9FH6zAB+7i32EOfn9Luv/BSrXv7r4SmVE0+oxXocQNvYfLXA1Q5mWmblHiq9VtGC/cyrUvuAuYLhf0WRVnXyauyss3iL3b0nMGGNMYDnBXevtJqzTTVr57ce57VuuBuS9c08B1p1ojDEmMM0JbioZc4DfuKMUOwBHVPVAUStYS8wYY0xgOSWWoBCR3Duq1BKR/cBfgfIAqjoJ55ZlfXDutnMcuL24bVoSM8YYE5Bml9wDwlX1lmKWK/D709mmJTFjjDGBlVxXYamwJGaMMSawIAd2eMWSmDHGmMCsJWaMMSZileDAjtJgScwYY0xAJTmwozRYEjPGGBOYdScaY4yJWDawwxhjTMSylpgxxpiIZQM7jDHGRCxriRljjIlUmn3S6xCKZEnMGGNMYNYSM8YYE7HsnJgxxpiIZS0xY4wxEcuuEzPGGBOx7LZTxhhjIlaYdydGeR2AiRyP/GMC1/QdROLQu70OpVQ9N+Extn71MRs3LKF1q7hC67RpfSmbNi5l61cf89yEx3zlT41/hM1frmLjhiXMeP/fVK9eDYC28a1Yn7yY9cmL2bB+CQMH9grJsfwSV3fryKJPZ7J03WyGjx5WYHmFCuV5/tXxLF03mxlJbxHbsB4AA27ozZwV03zTtvRkLolrnmfdSVMmMH/1u6E4jF/k2WfHsXnzKtatS6JVgM9C69ZxJCcvYvPmVTz77Dhf+bnnVmfevKl8+eVK5s2bSo0azmdh0KBE1q1LYt26JFas+IBLL70EgIoVK/LRRx+ydu1CNmxYwiOP3FfqxxeUnJzgJo9YEjNBS+xzLZMmPOF1GKWqd69uNLuwKRe36MSIEQ8y8cXxhdab+OJ4Rox4kItbdKLZhU3p1bMrAEuXrebyVt1oc8W17Nixi7EPjgJg85attO/Qm/i2CfTtN4SXJz5FdHR0yI7rdEVFRTHuybHcOWg0va+6kX7X9eTC5k3z1LlxSCIZhzPo0S6RNya9zf2PjgZgzsyFDOg6mAFdBzNm5KOk7E3l683bfesl9O3K8WOZIT2eM9GzZ1cuuKApcXGdGTXqIV54ofDP/gsv/J1Rox4iLq4zF1zQlISELgCMGTOSlSs/4dJLu7By5SeMGTMSgN2795GQ8GvatevF+PEvMHGi8xk7ceIEvXrdQvv2vWnfvjcJCZ1p1651SI61SGUpiYnIABEZW0yd/wYof1NEbiyhOC4WkU9F5ISIjMm3rJeIbBORnf6xikhTEVkrIjtE5F0RqVDScUW6+FaXUr1aVa/DKFX9+/dkytszAFi7biPVa1QnJqZOnjoxMXWoWq0qa9ZuAGDK2zMYMMBpWS1ZuprsbOdE+Jq1G4mNdVonmZk/+8orVaqIqobkeM7UZW1asmf3PvbtSeHkySzmz15M995d8tTp0bszH7w7D4CkucvoeHW7Atvpd31P5s5a5Jv/1TmVuX3EUF6a8O9Sjb8k9Ot3LdOmzQRg3bpNVK9erfDPQtUqrF27EYBp02bSv3+Cb/2pU531p049Vb5mzQYOH85wt3vqMwJw7NhxAMqXL0e5cuXD4nOimh3U5JUSTWKqOkdVnyymzpUluc8AfgRGA8/4F4pINDAR6A20AG4RkRbu4qeA51S1GXAIuCMEcZowE1s/hv37Un3zKfsPEFs/pkCdlP0HiqwDcPuwQSQtWuGbb9e2NZ9/tpzPNi5j5KixvqQWjmLq1eFASrpvPi01nbr1auepUzemNmlunezsbI5mHOXcmjXy1Ok7MIF5H5xKYveOHcHrL00lM/PnUoy+ZNSvH8P+/X6fhZQ06tevm69OXVJS0vzqHKC++1moU6cWaWkHAUhLO0jt2rUK7GPYsEEsWrTSNx8VFcWaNQvYu3cjy5d/RHLyZyV5SGcm0ltiInKOiMwXkc9FZLOI3Cwiu0Wklrs8XkRWuq+HiciL7uu6IjLLXe9zEbnSLT/q/l9E5EUR+UpE5gN1/PZ5hYisEpENIrJIROq55aPd+l+IyDuBYlbVg6qaDOS/X0o7YKeq7lLV/wHvAANFRIBuwAy33ltAYiHvxeNuy6zQ9819X54SkXXudKFb3lhElrlxLxORRm75myIySUQ+EpHtItKviD+FCQHno5BX/l/DhdYhb52Hxo4mKyuLadM+8JWtS97E5a260eHKPox9YBQVK1YsoahLwZm+D351Lm8TR2bmz+zY+g0Al8Q1p3HThixZsKLAeuHojD8LQbaerrmmI7fddjOPPHKqyzonJ4cOHfpw4YUdiI9vRYsWzYvYQohkZwU3eSSYllgvIFVVL1fVOCApyG2/AKxS1cuBNsCWfMuvAy4CLgV+B+QmufLAv4AbVfUK4HXg7+46Y4HWqnoZcCajC2KBfX7z+92y84DDqpqVr9xHRJ7GSbS3qxY5XCdDVdsBLwLPu2UvAv9x434b573J1QToDPQFJolIpfwbFJHhIrJeRNb/+z/TgzpQE7wRd9/mG3SReiCNBg3r+5bFNqhH6oH0PPX3pxwgtkG9vHVST9W59dab6NunB7f+ZlSh+9u6dSfHjmUS1/KiEj6SkpOWmk692FOtjpj6dTmY9n3eOgcOEuPWiY6Opkq1Khw+dMS3vO91CcybderronX8ZbS8/BJWbJjLO/Neo8kFjZk6+5VSPpLTc9ddv2HNmgWsWbOAAwfSadDA77MQG8OBAwfz1E9JSSM2NsavTj0OuJ+Xgwe/93U/xsTU4bvvTr1/cXEX8/LLT3HTTXfy44+HC8Rx5EgGq1d/6ju/5inNCW7ySDBJ7Eugh9vCuFpVjxS7hqMb8DKAqmYXst41wHR3WSqw3C2/CIgDlojIZ8AjQAN32RfA2yIyFDiT1F/wZxNoEeW5/gLUUNW7tPifWdP9/t/Rfd0RmOa+ngJ08qv/nqrmqOoOYBdwcYFAVCeraryqxt/5m1uK2b05XS9Peov4tgnEt01gzpxF3DrEOQXavl0bMo5k+LqEcqWlHeSnn47Svl0bAG4dciNz5zpdZj0TunD/mJEkXj8sT5dZkyYNfQM5GjWKpXnz89m9Zx/h6stNX9GkaUMaNKpP+fLl6JuYwLKkVXnqLEtaxfU3O50Hvfp3Z83Hyb5lIkLvAT2YP2uxr2zamzPodGkvul7Rn0H97mD3N3sYmnhXaA4oSK+88h86dOhDhw59mDt3MYMH3wBAu3atycj4qdDPwtGjx3wDMAYPvoF585YAMH/+UoYOddYfOvRUecOG9XnnnVe444772LnzW9+2atWq6RvNWqlSRbp168S2bTtL94CDEebdicVeJ6aq20XkCqAPMF5EFuMkkNwEWKDlcBoKSwgCbFHVjoUs64uT/AYAfxGRln6tp2DsBxr6zTcAUoHvgRoiUs7dXm55rmTgChGpqao/FrMPDfA62Dren8kN4P6/Pknypi84fDiD7olDGXnHrdzQv6fXYZWoBQuX0atXN7Z9/QnHMzO5884/+patT15MfFvn5PyoUQ/x2mvPUblSJZIWrWBhkvMb7J/PP0HFihVJWuj0dq9du5HfjxrLVVe144H7f8/Jk1nk5OQwavTD/PDDodAfYJCys7P520NP8/p7LxIdFc2M6R+yc9su7nnwbr787CuWL1rN+29/yDMvPc7SdbM5fOgI9w1/2Ld+245tSEs9yL49KR4exS+TlLScnj27smXLao4fz+Suu06NEVuzZgEdOvQBYPToPzN58rNUrlyJxYtXssg9D/rMMy8xdepL3Hbbzezbl8qQISMAeOihe6hZ81yef/5xALKysunUqT8xMXV49dUJREdHERUVxcyZ81i4cDmeC/PrxKS4hoWI1Ad+VNWfRSQRGAZUAZ5V1YUi8hxOF18XERkGxKvqKPec1RpVfd4dUHGOqmaIyFFVrSIi1wN34STHOsBXON2Kc9zXt6rqp273YnPga6CRqu52y/YDF6lqwbb4qdjHAUdV9Rl3vhywHegOpOAkp8GqukVE3gdmquo7IjIJ+EJVXxKRN4F5OMn1j0CCqv4UYH+7gUmq+qTbWrxZVfuLyBzgfVWd4r5HA1X1OnfbdYB+QFNgFXChqgY8633y+11hm+RCqXL9q70OIWw0rV5wUElZtf/o98VXKkMyM/cU1st0ettY+EJQ3zmVe4/+xfs6E8HcseNS4P9EJAdnoMQIoDLwmog8DKwNsN49wGQRuQPIdtf71G/5LJwuxy9xEssqAFX9nzuk/QURqe7G+LxbZ6pbJjgjCQtNYCISA6wHqgE5InIv0MJNoqOARUA08Lqq5p6rexB4R0SeADYBr/lvU1XfF5GqwBwR6aOqgS50qSgia3Faqrl9f6OB10XkfuA74Ha/+tvcY68L3F1UAjPGmJAL87vYF9sSM8FzW2LxqhrUz8HcVp6qziiubi5riTmsJXaKtcROsZZYXiXSEpvzTHAtsQFjwrYlZowxpqwK83NiEZ3EROR2nG5Lf5+o6u9Leb+zcM5h+XtQVZucznZUdVhJxWSMMaUizLsTIzqJqeobwBse7Pe6UO/TGGM8YS0xY4wxEctaYsYYYyJWGN/jEyyJGWOMKUqYt8TseWLGGGMCK8HbTgV6FJbf8kYiskJENrk3TO9T3DYtiRljjAmshG4AXMyjsHI9gnM/2dbAIOCl4rZrScwYY0xgJdcSK/RRWPnqKM6dlgCqk/cetoWyJGaMMSYw1aAm/0dGudPwfFsK9Cgsf+OAoSKyH1gA/KG48GxghzHGmMCygntQiKpOBiYXUaW4R16Bc7/ZN1X1WRHpCEwRkbiinuFoScwYY0xgJXexc6BHYfm7A+dBzLhPMakE1AIOEoB1JxpjjAlIczSoKQjJQDMRaSoiFXAGbszJV2cvzqOyEJFLcJ5X+V1RG7WWmDHGmMBK6DoxVc0q7FFYIvIYsF5V5wB/Al4VkftwuhqHaTGPWrEkZowxJrASvHeiqi7AGbDhX/ao3+uvgKtOZ5uWxIwxxgQWXFehZyyJGWOMCSzI0YlesSRmjDEmsKJPSXnOkpgxxpjAwvwGwJbEjDHGBGbnxExJqlz/aq9DCBuZqR95HUJYiI8b6nUIYaNBlVpeh3D2sSc7G1PyLIEZExqaZQ/FNMYYE6msO9EYY0zEsu5EY4wxEctaYsYYYyKWDbE3xhgTsawlZowxJmJl2+hEY4wxEUqtO9EYY0zEsu5EY4wxEcuSmDHGmIhl14kZY4yJWNYSM8YYE6k0y1pixhhjIpWNTjTGGBOxrDvRGGNMxLIkZowxJlKpWhIzxhgTqWxghzHGmEil1p1ojDEmYlkSM8YYE7HCuzfRkpgxxpjArDvRGGNM5ArzJBbldQAmPDw34TG2fvUxGzcsoXWruELrtGl9KZs2LmXrVx/z3ITHfOVPjX+EzV+uYuOGJcx4/99Ur14NgLbxrVifvJj1yYvZsH4JAwf2CsmxhMIj/5jANX0HkTj0bq9DCbkru7bnw4+nM/fT9/jtqFsLLG/ToRXvLH6DDftX06NfVw8iLHlXd+vIok9nsnTdbIaPHlZgeYUK5Xn+1fEsXTebGUlvEduwHgADbujNnBXTfNO29GQuiWueZ91JUyYwf/W7oTiMM6JZGtTkFUtiQRCRJiKyOYg6g/3m40XkhdKP7pfr3asbzS5sysUtOjFixINMfHF8ofUmvjieESMe5OIWnWh2YVN69XS+oJYuW83lrbrR5opr2bFjF2MfHAXA5i1bad+hN/FtE+jbbwgvT3yK6OjokB1XaUrscy2TJjzhdRghFxUVxcPjxzBy8J+47prB9LquB+c3b5KnTlpKGn+55wkWzlriTZAlLCoqinFPjuXOQaPpfdWN9LuuJxc2b5qnzo1DEsk4nEGPdom8Melt7n90NABzZi5kQNfBDOg6mDEjHyVlbypfb97uWy+hb1eOH8sM6fGctpwgJ49YEis5TQBfElPV9ao62rtwgte/f0+mvD0DgLXrNlK9RnViYurkqRMTU4eq1aqyZu0GAKa8PYMBA5yW1ZKlq8l2H2G+Zu1GYmOdX6GZmT/7yitVqhj2F02ejvhWl1K9WlWvwwi5uNYt2PftflL2ppJ1Mouk2Uvp0vPqPHVS96Wx4+tvyAnze+4F67I2Ldmzex/79qRw8mQW82cvpnvvLnnq9OjdmQ/enQdA0txldLy6XYHt9Lu+J3NnLfLN/+qcytw+YigvTfh3qcb/S2mOBjV55axIYm4raKuIvCUiX4jIDBH5lYh0F5FNIvKliLwuIhXd+rtF5CkRWedOF7rlb4rIjX7bPRpgXx+JyEZ3utJd9CRwtYh8JiL3iUgXEZnnrlNTRGa7sa0Rkcvc8nFuXCtFZJeIeJL0YuvHsH9fqm8+Zf8BYuvHFKiTsv9AkXUAbh82iKRFK3zz7dq25vPPlvPZxmWMHDXWl9RMZKpTrzZpqem++YMHvqNuvdoeRlT6YurV4UDKqWNOS00vcMx1Y2qT5tbJzs7maMZRzq1ZI0+dvgMTmPfBqSR279gRvP7SVDIzfy7F6EuAtcRC5iJgsqpeBmQAfwTeBG5W1UtxBrGM8KufoartgBeB509jPweBa1W1DXAzkNtlOBb4SFVbqepz+db5G7DJje1h4D9+yy4GegLtgL+KSPn8OxSR4SKyXkTW5+QcO41QgyMiBcryt5oKrUPeOg+NHU1WVhbTpn3gK1uXvInLW3Wjw5V9GPvAKCpWrFhCURsvFPIxOKta2IU6038ffnUubxNHZubP7Nj6DQCXxDWncdOGLFmwosB64UZzgpuCISK9RGSbiOwUkbEB6vxaRL4SkS0iMq24bZ5NSWyfqn7ivp4KdAe+VdXcDui3gGv86k/3+3/H09hPeeBVEfkSeB9oEcQ6nYApAKq6HDhPRKq7y+ar6glV/R4nQdbNv7KqTlbVeFWNj4o65zRCDWzE3bf5Bl2kHkijQcP6vmWxDeqReiA9T/39KQeIbVAvbx2/X+S33noTffv04NbfjCp0f1u37uTYsUziWl5UIvEbb6SnfkdM/VMf0Tr1anMw7XsPIyp9aanp1Is9dcwx9esWOOa0AweJcetER0dTpVoVDh864lve97oE5s1K8s23jr+MlpdfwooNc3ln3ms0uaAxU2e/UspHcmY0K7ipOCISDUwEeuN8b94iIi3y1WkGPARcpaotgXuL2+7ZlMRO9+egFvI6C/c9EeenVYVC1rsPSAcuB+ID1MmvkN+vvn2e8CvLJkSXPbw86S3i2yYQ3zaBOXMWcesQpxe1fbs2ZBzJIC3tYJ76aWkH+emno7Rv1waAW4fcyNy5TtdIz4Qu3D9mJInXD8vTNdKkSUPfQI5GjWJp3vx8du/ZF4rDM6Vky2df0+j8BsQ2qke58uXoldiDVYs/9jqsUvXlpq9o0rQhDRrVp3z5cvRNTGBZ0qo8dZYlreL6m/sB0Kt/d9Z8nOxbJiL0HtCD+bMW+8qmvTmDTpf2ousV/RnU7w52f7OHoYl3heaATlfJdSe2A3aq6i5V/R/wDjAwX53fARNV9RCAqh6kGGdTEmskIrktqluApUCT3PNdwK2A/yfvZr//f+q+3g1c4b4eiNPqyq86cEBVc9xt5g63+wkIdKZ/NTAEQES6AN+rakZQRxUCCxYuY9e3e9n29SdMmvQ0o/7wsG/Z+uRT//BGjXqIV175P7Z9/Qnf7NrDwqTlAPzz+SeoWqUKSQvfYX3yYia++CQAV13Vjo0blrA+eTEz3n+NUaMf5ocfDoX24ErJ/X99kiF33cfuvfvpnjiUmXMXFb/SWSA7O5vxD0/g5enPMfuj6Syes5xvtn3LyAfupHNCJwBatrqExRtnk9C/G395+gE+WDXV46h/mezsbP720NO8/t6LJH0yk4VzlrBz2y7uefBuuvV0Onfef/tDatSswdJ1s7l9xBCeefxfvvXbdmxDWupB9u1J8eoQfpES7E6MBfx/xe53y/w1B5qLyCfu+IFir8uRs6E/W0SaAAtwksWVwA6cBNMReAandZMMjFDVEyKyG3gD6IOTyG9R1Z0iUhf40C1bBvxBVau425+nqnFuc3cmcBxY4VenPJAE1MI5F7cJGKOq/USkpru/pu56w1X1CxEZBxxV1Wfc49gM9FPV3YGOtVyF2Mj/g5WAzJ3ckF4AACAASURBVNSPvA4hbMTHDfU6hLBxPPtE8ZXKkB3fbSisF+i0HOzeOajvnLrLV98FDPcrmqyqk3NnROQmoKeq3unO3wq0U9U/+NWZB5wEfg00AD4C4lT1cKD9nk137MhR1fxXni4DWgeoP1FV/+ZfoKrpQAe/oofc8t1AnPt6B3BZIXVO4pyH87fSXfYjBZvNqOq4fPOFX2VsjDEeCXbQhpuwJhdRZT/Q0G++AZBaSJ017vfptyKyDWiG0wgp1NnUnWiMMaakqQQ3FS8ZaCYiTUWkAjAImJOvzmygK4CI1MLpXtxV1EbPipaYf0spyPpNSi0YY4w5i+Rk/eIeSQBUNUtERgGLcMYSvK6qW0TkMWC9qs5xlyWIyFc4A93uV9UfitruWZHEjDHGlI5guxOD2pbqApzxC/5lj/q9VpxrfP8Y7DYtiRljjAlIg+sq9IwlMWOMMQGVZEusNFgSM8YYE5DmWEvMGGNMhAr3S4ktiRljjAkoJyu8r8SyJGaMMSYga4kZY4yJWHZOzBhjTMSyIfbGGGMilg2xN8YYE7Gyc2xghzHGmAhl58SMMcZELBudaIwxJmJZS8wYY0zEyrHRicYYYyKVDbE3xhgTsbKtO9EYY0ykspaYMcaYiGWjE02Jalo9xusQwkJ83FCvQwgb6zdP9TqEsHFy+jNeh3DWsYEdxhhjIpZ1JxpjjIlY1hIzxhgTsbItiRljjIlU1p1ojDEmYoX5k1gsiRljjAlMsZaYMcaYCJVj14kZY4yJVNnYQzGNMcZEKDsnZowxJmLZOTFjjDERy1pixhhjIpYlMWOMMRHLuhONMcZErCyxJGaMMSZChfllYmF+AYAxxhhP5QQ5BUNEeonINhHZKSJji6h3o4ioiMQXt01riRljjAkop4S6E0UkGpgIXAvsB5JFZI6qfpWvXlVgNLA2mO1aS8wYY0xAGuQUhHbATlXdpar/A94BBhZS73HgaeDnYDZqScwYY0xAwXYnishwEVnvNw3Pt6lYYJ/f/H63zEdEWgMNVXVesPFZd6IxxpiAgh2dqKqTgclFVClsQ75GnIhEAc8Bw04jPGuJGWOMCawEuxP3Aw395hsAqX7zVYE4YKWI7AY6AHOKG9xhLTFjjDEB5ZTcZWLJQDMRaQqkAIOAwbkLVfUIUCt3XkRWAmNUdX1RG7UkZri6W0ce+fsYoqOjeW/qbCa/8Gae5RUqlOfpiY8Rd/klHP7xCPf8biwp+w4w4Ibe3DnqVl+9i1o0I7H7EL7evN1XNmnKBBo2jqXvNTeH6nBKxZVd2/Pg4/cSFR3NrLfn8vqLU/Isb9OhFQ88dg/NWlzAg3f/laXzVngUaeg98o8JrP5kHTXPrcHsqZO8DqfUfbLnB/7vo+3kqJLYoj6/vaJJnuXPfLSd5JRDAPx8MpsfM0/y0fDOJO//kWc+3uGrt/vQcZ7sGUfX82uHMvzTVlK3nVLVLBEZBSwCooHXVXWLiDwGrFfVOWeyXUtiJUxEjqpqFb/5YUC8qo4SkXHA74DvgHOAL4FHcoeYBvvLoyRFRUUx7smxDLtpJGmp6cxcPIXlSavYuf1bX50bhySScTiDHu0S6ZuYwP2Pjube3z3EnJkLmTNzIQDNL7mQSf95Nk8CS+jblePHMkN1KKUmKiqKh8eP4a5f30P6gYNMS3qNlYs/Ytf23b46aSlp/OWeJ7ht5ODAGzpLJfa5lsE3DODhx5/xOpRSl52jPLlqGy8PbE3dKhUZ8l4ynZvW4oKavn/yjLm6ue/19M/3se37nwBo26Am7w5qD8CRn08yYMp/6dCwZmgP4AyU5MXOqroAWJCv7NEAdbsEs007JxZ6z6lqK1VtBrwLLBcRz36KXdamJXt272PfnhROnsxi/uzFdO/dJU+dHr0788G7zmChpLnL6Hh1uwLb6Xd9T+bOWuSb/9U5lbl9xFBemvDvUo0/FOJat2Dft/tJ2ZtK1skskmYvpUvPq/PUSd2Xxo6vvyEnJ9xvl1ry4ltdSvVqVb0OIyQ2p2fQsHplGlSvTPnoKHo2q8vKXd8HrJ+0I51ezeoWKF+68yBXNT6PyuWjSzPcEpElwU1esSTmIVV9F1iMX79wqMXUq8OBlHTffFpqOnXr5c2pdWNqk+bWyc7O5mjGUc6tWSNPnb4DE5j3wakkdu/YEbz+0lQyM4O61COs1alXm7TUU+/RwQPfFXiPTNlw8NjP1K1ayTdft0pFvjt2otC6qRmZpGZk0rZBwdbWoh3p9GoWU2pxlqSSvGNHabAkVvIqi8hnuRPwWDH1NwIXhyCuwhUyfFZV81Upus7lbeLIzPyZHVu/AeCSuOY0btqQJQvOjvNChY0wzv8eGZPfoh3pdL+gDtFReT9A3x07wY4fjtKxUfh3JQKoBDd5xZJYyct0uwtbqWoroND+Xj/F/vn9LyI88nPgroszkZaaTr3YU90dMfXrcjAt7z7SDhwkxq0THR1NlWpVOHzoiG953+sSmDcryTffOv4yWl5+CSs2zOWdea/R5ILGTJ39SonGHUrpqd8RU//Ue1SnXu0C75EpG+qcU4n0n071LqQfPUHtcyoWWnfRjnR6NS/YlbhkZzrdzq9N+ejI+Pq1lpgpTmvg66IqqOpkVY1X1fjqlWoVVfW0fbnpK5o0bUiDRvUpX74cfRMTWJa0Kk+dZUmruP7mfgD06t+dNR8n+5aJCL0H9GD+rMW+smlvzqDTpb3oekV/BvW7g93f7GFo4l0lGncobfnsaxqd34DYRvUoV74cvRJ7sGrxx16HZTzQsm5V9h45TkpGJiezc1i0I50uTQv+m9x96BgZJ7K4PKZ6gWVJ2wtPbuHKkpgJSERuABKA6V7FkJ2dzd8eeprX33uRpE9msnDOEnZu28U9D95Nt57XAPD+2x9So2YNlq6bze0jhvDM4//yrd+2YxvSUg+yb0+KV4dQ6rKzsxn/8ARenv4csz+azuI5y/lm27eMfOBOOid0AqBlq0tYvHE2Cf278ZenH+CDVVM9jjp07v/rkwy56z52791P98ShzJy7qPiVIlS5qCgevOYiRn64ievfXkNCszpccF4VXlr7DSu//c5XL2l7Oj2b1S3QFZ+akUna0RNcEXtuqEM/YyV4sXOpEOvbL1mnOcR+M/Dn0xli36z2FfYHA34VXXgXTlm0fnPZSZjFOTn97B/mfzp+9YeXfvHZqucaDQ3qO+e+vVM9OTNm14mVMP8E5s6/Cbzpvh4HjCti3S6lFpgxxpyBcL9oxJKYMcaYgMK968eSmDHGmIBK8N6JpcKSmDHGmICsO9EYY0zEsu5EY4wxESsrzNOYJTFjjDEBhXcKsyRmjDGmCHZOzBhjTMSy0YnGGGMiVk6YdyhaEjPGGBNQttcBFMOSmDHGmICsJWaMMSZihXcKsyRmjDGmCDY60RhjTMSy7kRjjDERK7xTmCUxY4wxRcgO8zRmScwYY0xAdk7MGGNMxLJzYsYYYyJWeKcwS2LGGGOKYC0xY4wxEcsGdpgStf/o916HEBYaVKnldQhh4+T0Z7wOIWyUv2WM1yGcdWxghzHGmIil1hIzxhgTqawlZowxJmLlaHi3xKK8DsAYY0z40iCnYIhILxHZJiI7RWRsIcv/KCJficgXIrJMRBoXt01LYsYYYwLKJieoqTgiEg1MBHoDLYBbRKRFvmqbgHhVvQyYATxd3HYtiRljjAkoJ8gpCO2Anaq6S1X/B7wDDPSvoKorVPW4O7sGaFDcRi2JGWOMCSgHDWoKQiywz29+v1sWyB3AwuI2agM7jDHGBBTsEHsRGQ4M9yuarKqT/asUuvnCtzUUiAc6F7dfS2LGGGMCCnaIvZuwJhdRZT/Q0G++AZCav5KI9AD+DHRW1RPF7deSmDHGmIC05IbYJwPNRKQpkAIMAgb7VxCR1sArQC9VPRjMRi2JGWOMCSirhO7YoapZIjIKWAREA6+r6hYReQxYr6pzgP8DqgDviwjAXlUdUNR2LYkZY4wJqCRvO6WqC4AF+coe9Xvd43S3aUnMGGNMQPYoFmOMMRGrBM+JlQpLYsYYYwKyGwAbY4yJWMHcUspLlsSMMcYEZN2JxhhjIpYN7DDGGBOx7MnOxhhjIla4PxTTkpgxxpiAwjuFWRIzxhhThCwbnWjC1bPPjqNnz64cP57J8OFj+OyzzQXqtG4dx+TJz1K5ciUWLVrBn/40DoBzz63OlCkTady4AXv27Gfo0JEcPpzBoEGJ/PGPdwNw7NhxRo/+M19++TUVK1Zk6dL3qFChAuXKlWPWrAU88cRzoTzcoFzdrSOP/H0M0dHRvDd1NpNfeDPP8goVyvP0xMeIu/wSDv94hHt+N5aUfQcYcENv7hx1q6/eRS2akdh9CF9v3u4rmzRlAg0bx9L3mptDdTgl5pM9P/B/H20nR5XEFvX57RVN8ix/5qPtJKccAuDnk9n8mHmSj4Z3Jnn/jzzz8Q5fvd2HjvNkzzi6nl87lOGHzCP/mMDqT9ZR89wazJ46yetwSkS4j060h2KWUT17duWCC5oSF9eZUaMe4oUXnii03gsv/J1Rox4iLq4zF1zQlISELgCMGTOSlSs/4dJLu7By5SeMGTMSgN2795GQ8GvatevF+PEvMHHieABOnDhBr1630L59b9q3701CQmfatWsdkmMNVlRUFOOeHMudg0bT+6ob6XddTy5s3jRPnRuHJJJxOIMe7RJ5Y9Lb3P/oaADmzFzIgK6DGdB1MGNGPkrK3tQ8CSyhb1eOH8sM6fGUlOwc5clV23ixfytmDu5A0vZ0vvnxaJ46Y65uzruD2vPuoPYMuqwh3S9wklTbBjV95ZMT21CpXBQdGtb04jBCIrHPtUyaUPi/pUhVgg/FLBVnfRITkSYiUrCJEbr91xeRGe7rViLSx6tY/PXrdy3Tps0EYN26TVSvXo2YmDp56sTE1KFq1SqsXbsRgGnTZtK/f4Jv/alTnfWnTj1VvmbNBg4fznC3u5HY2Hq+7R075jx1vHz5cpQrVz7sfuFd1qYle3bvY9+eFE6ezGL+7MV0790lT50evTvzwbvzAEiau4yOV7crsJ1+1/dk7qxFvvlfnVOZ20cM5aUJ/y7V+EvL5vQMGlavTIPqlSkfHUXPZnVZuev7gPWTdqTTq1ndAuVLdx7kqsbnUbl8dGmG66n4VpdSvVpVr8MoURrkf14565OY11Q1VVVvdGdbAWGRxOrXj2H//lPPo0tJSaN+/br56tQlJSXNr84B6tePAaBOnVqkpTmP+0lLO0jt2rUK7GPYsEEsWrTSNx8VFcWaNQvYu3cjy5d/RHLyZyV5SL9YTL06HEhJ982npaZTt17ebq+6MbVJc+tkZ2dzNOMo59askadO34EJzPvgVBK7d+wIXn9pKpmZP5di9KXn4LGfqVu1km++bpWKfHes8GcVpmZkkpqRSdsGBVtbi3ak06tZTKnFaUqHqgY1eSXik5iI/EVEtorIEhGZLiJjROQKEflcRD4Ffu9Xd5iIfCgiSSKyTUT+Wsy2fyMiX7jbmuKW9ReRtSKySUSWikhdt3yciEwRkeUiskNEfueWNxGRzSJSAXgMuFlEPhORm0WknYj8193Wf0XkolJ7owoeW4Gy/B/EYOoEcs01Hbnttpt55JHxvrKcnBw6dOjDhRd2ID6+FS1aND/NqEtZCbwnl7eJIzPzZ3Zs/QaAS+Ka07hpQ5YsWFHCwYanRTvS6X5BHaKj8r5P3x07wY4fjtKx0dnblXi2su7EUiQi8cANQGvgeiDeXfQGMFpVOxayWjtgCE6r6CZ3G4VtuyXOI7K7qerlwD3uoo+BDqraGngHeMBvtcuAvkBH4FERqZ+7QFX/BzwKvKuqrVT1XWArcI27rUeBfwSIZbiIrBeR9VlZRwurEpS77voNa9YsYM2aBRw4kE6DBr7wiI2N4cCBvA9STUlJIzY2xq9OPQ4ccFohBw9+7+t+jImpw3ffnepeiou7mJdffoqbbrqTH388XCCOI0cyWL36U9/5tXCRlppOvdhTrdGY+nU5mJa32yztwEFi3DrR0dFUqVaFw4eO+Jb3vS6BebOSfPOt4y+j5eWXsGLDXN6Z9xpNLmjM1NmvlPKRlKw651Qi/adTrcj0oyeofU7FQusu2pFOr+YFuxKX7Eyn2/m1KR8d0V85ZVK25gQ1eSXSP1GdgA9VNVNVfwLmAucANVR1lVtnSr51lqjqD6qaCXzgbqMw3YAZqvo9gKr+6JY3ABaJyJfA/UBLv3VyY/keWIGTMItSHecJppuB5/Jty0dVJ6tqvKrGlytXpZhNBvbKK/+hQ4c+dOjQh7lzFzN48A0AtGvXmoyMn3zdg7nS0g5y9Ogx3wCMwYNvYN68JQDMn7+UoUOd9YcOPVXesGF93nnnFe644z527vzWt61atWpSvXo1ACpVqki3bp3Ytm3nGR9Lafhy01c0adqQBo3qU758OfomJrAsaVWeOsuSVnH9zf0A6NW/O2s+TvYtExF6D+jB/FmLfWXT3pxBp0t70fWK/gzqdwe7v9nD0MS7QnNAJaRl3arsPXKclIxMTmbnsGhHOl2aFuw+3n3oGBknsrg8pnqBZUnbC09uJvyF+zmxSB9iX7BvB45R9PV5+ZcFqisBlv0LmKCqc0SkCzDuDLad63FghapeJyJNgJXF1C8xSUnL6dmzK1u2rOb48UzuumuMb9maNQvo0ME5dTd69J99Q+wXL17JokVOt9gzz7zE1KkvcdttN7NvXypDhowA4KGH7qFmzXN5/vnHAcjKyqZTp/7ExNTh1VcnEB0dRVRUFDNnzmPhwuWhOtygZGdn87eHnub1914kOiqaGdM/ZOe2Xdzz4N18+dlXLF+0mvff/pBnXnqcpetmc/jQEe4b/rBv/bYd25CWepB9e1I8PIqSVy4qigevuYiRH24iR2Fgi3pccF4VXlr7DS3qVKNLU+e8YdL2dHo2q1ugyzU1I5O0oye4IvZcL8IPqfv/+iTJm77g8OEMuicOZeQdt3JD/55eh/WLhPsdOyTcRoidDhFpC7wCXImTkDcArwK/AUaq6sci8hTQV1XjRGQYTpddHJAJrAV+q6rrC9l2S2AW0FFVfxCRmqr6o4hsAu5U1Q0i8gbQVFW7iMg4IBHogNMa3OS+rgDMc/d/AzBAVW9z9zELmKqqM931h6lqk6KOuXLlxpH7BytBDaoUbAmUVZ8/2t7rEMJG+VvGFF+pDClf6/zCfuiflpZ12wf1nbMlfe0v3teZiOjuRFVNBuYAn+N0Da4HjgC3AxPdgR35L875GKeL8TNgZmEJzN32FuDvwCoR+RyY4C4ah9MF+BGQf5zxOmA+sAZ4XFVT8y1fAbTIHdgBPA2MF5FPgLN33LExJmLlqAY1eSXSuxMBnlHVcSLyK2A18KyqbgQu96szzu/1QVUdFcyGVfUt4K18ZR8CHwZYZbuqDs9XfzdOyy/3vFrbfOv4D9H7SzBxGWNMqHg5aCMYZ0MSmywiLYBKwFtuAjPGGFMC7FEspUxVB59G3TeBN/3LROQ8YFkh1bur6g+nse1xwdY1xphIEe4DOyI+if1SbqJq5XUcxhgTjqwlZowxJmKpnRMzxhgTqby8pVQwLIkZY4wJyEYnGmOMiVjhfkMMS2LGGGMCstGJxhhjIpaNTjTGGBOxrDvRGGNMxLLRicYYYyJWdo6NTjTGGBOhwr07MaIfxWKMMaZ05aBBTcEQkV4isk1EdorI2EKWVxSRd93la92HBRfJkpgxxpiAVDWoqTgiEg1MBHoDLYBb3CeQ+LsDOKSqFwLPAU8Vt11LYsYYYwIqwYditgN2quouVf0f8A4wMF+dgZx6huMMoLuIFPnEaEtixhhjAsrWnKAmERkuIuv9puH5NhUL7POb3++WFVpHVbOAI8B5RcVnAzuMMcYEFOzADlWdDEwuokphLar8Gw+mTh7WEjPGGBOQBvlfEPYDDf3mGwCpgeqISDmgOvBjURu1JGaMMSagkhrYASQDzUSkqYhUAAYBc/LVmQPc5r6+EViuxWzcuhONMcYEVFLXialqloiMAhYB0cDrqrpFRB4D1qvqHOA1YIqI7MRpgQ0qbrsS7heymfAjIsPd/u8yz96LU+y9OMXei9Cx7kRzJvKPOirL7L04xd6LU+y9CBFLYsYYYyKWJTFjjDERy5KYORPW13+KvRen2Htxir0XIWIDO4wxxkQsa4kZY4yJWJbEjDHGRCxLYsYYYyKW3bHDBM29VczFODfk3OY+TsEYYzxjAztMUESkLzAJ+AbnTtNNgbtUdaGngXnEfcBfXfx+CKrqXu8iCi0RaVPUclXdGKpYwoWINAPG4zzwsVJuuaqe71lQZYAlMRMUEdkK9FPVne78BcB8Vb3Y28hCT0T+APwVSAdy3GJV1cu8iyq0RGRFEYtVVbuFLJgwISIf43wungP6A7fjfMf+1dPAznKWxExQRGS1ql7jNy/AKv+yssK9OWl7Vf3B61hM+BCRDap6hYh8qaqXumUfqerVXsd2NrNzYiZYW0RkAfAezjmxm4BkEbkeQFU/8DK4ENuH88TZMk1EzgMG45wnBfgamKaqRT7/6Sz2s4hEATvcu7WnAHU8jumsZy0xExQReaOIxaqqvw1ZMB4TkdeAi4D5wIncclWd4FlQISYilwDLcR6rsQnnPGlr4Fqgm6pu9TA8T4hIW5xEXgN4HKgGPK2qaz0N7CxnLTETFFW93esYwshed6rgTmXR48A9qvqef6GI3AD8HbjBk6i81URVk4GjOOfDEJGbAEtipchaYiYoItIA+BdwFU534sc4X2L7PQ3MQyJSFacVetTrWEJNRLap6kWnu+xsJiIbVbVNcWWmZFlLzATrDWAazrkwgKFu2bWeReQREYkDpgA13fnvgd+o6hZPAwutY2e47KwjIr2BPkCsiLzgt6gakOVNVGWHJTETrNqq6n9e7E0RudezaLw1Gfijqq4AEJEuwKvAlV4GFWJ1ROSPhZQLUDvUwXgsFVgPDAA2+JX/BNznSURliCUxE6zvRWQoMN2dvwUoq0PMz8lNYACqulJEzvEyIA+8ClQNsOzfoQzEa6r6OfC5iLytqtbyCjE7J2aCIiKNgBeBjm7RJzjnxPZ4F5U3RGQWsBGnSxGcrtV4VU30LirjFRF5T1V/LSJf4pwvzqMsXQTvBUtixpwmETkX+BvQCaf7bDUwTlUPeRpYCOU791OAqo4OVSxeE5F6qnpARBoXtrws/tALJUtiJigicj7wT6ADzq/NT4H7VHWXp4EZT4jIbX6zf8O53ZKPqr4V2ojCg4jEAO1w/o0kq2qaxyGd9SyJmaCIyBpgIqfOiQ0C/qCq7b2LKrRE5HlVvVdE5lJ4t9EAD8LynIhsUtXWXsfhNRG5E3gU5yJwAToDj6nq654GdpazJGaCIiJr8ycsEVmjqh28iinUROQKVd0gIp0LW66qq0IdUziwa6EcIrINuDL3nprubbn+WxavmQslG51ogrVCRMYC7+C0Qm4G5otITYCycL88Vc0dPt1KVf/pv0xE7gHKZBIzPvtxhtXn+gnnPpumFFlLzARFRL4tYrGWpWcmBbgzQ5nqUhORnzjVpfor4HjuIpzPQzVPAvOQiPwHuBT4EOe9GQisA7ZD2bq3ZihZS8wERVWbFrVcRK5V1SWhiscLInILzl3bm4rIHL9FVSlj18ypaqBrxMqyb9wp14fu/+29KkXWEjMloiycF3GHUDfFeXrvWL9FPwFf2IWuxoSeJTFTIspad5ox+YlIbeABoCVQKbe8LD7lOpSivA7AnDXKzK8hEekgIskiclRE/ici2SKS4XVcxnNvA1txWut/A3YDyV4GVBZYEjPm9L2Ic+/IHUBl4E6cx9SYsu08VX0NOKmqq9wHxZaZS1C8YgM7zBkTkYqqmvtk491exhJqqrpTRKJVNRt4Q0T+63VMxnMn3f8fEJG+OHe3b+BhPGWCJTETFBF53f1lmTtfBWf0VXcAVb3eq9g8cFxEKgCficjTwAGgrN3F3hT0hIhUB/6E0zKvhj2KpdTZwA4TFBF5HKilqiPcG+DOB17N94yxMsEdpXgQKI/zJVUdeElVd3oamDFlkCUxEzQReQrnC/sK4ElVnelxSMaEDRF5C+fxRIfd+XOBZ/17MEzJs+5EUyQR8e8mXAf8xf2/isj1qvqBN5GFXqDnReWy50aVeZflJjAAVT0kInbZSSmzJGaK0z/f/CacbrT+OF/oZSaJAf28DsCEtSgROTf3uXLufUXtO7aU2RtsiqSqt3sdQ7iwhxuaYjwL/FdEZuD8wPs18HdvQzr72TkxUyQRKQfcASQCsTj/OFNxRia+pqoni1j9rJTv5rcVcFqmx8riTW9NXiLSAuiGcyPkZar6ld8yXyvNlBxLYqZIIjIdOAy8hfOoCXCufbkNqKmqN3sVW7gQkUSgnao+7HUsJnyVhfuLesGSmCmSiGwL9FA/Edmuqs1DHVM4KmsPCDWnz+4vWjrsnJgpziERuQmYqao5ACISBdwElMmukXwjNqOAeMrQvSPNGbPPSCmwJGaKMwh4CnhJRA7h9PXXAJa7y8oi/xGbWTi33BroTSjGlG3WnWiCJiLn4Xxmvvc6FmMijXUnlg5LYqZYInIxTksjz+hEVd3qaWAeEZHzgX/i3KFcgU+B+1R1l6eBGc+JSBugE87n4hNV3ei3rKaq/uhZcGcpexSLKZKIPAi8g9ONuA7n+UgCvCMiY4ta9yw2DXgPqAfUB94HpnsakfGciDyKM4r3PKAWztMNHsldbgmsdFhLzBRJRLYDLfNfD+bexX2LqjbzJjLviMhaVW2fr8xGJ5ZxIvI10FpVf3bnKwP/3979hexZ13Ecf3/E5WiPhVrZOthWRiMhiqUt2ioqpIEI0j+KsJQiJtUKteVBxx0Y1IFEDYoWkoJBuSjLBLdkQtDmFCEpycyS8MADVzNKt28H1/XU7cO6n8u57t/u+3q/4OZ+ftd1C62FpgAABW1JREFU8jm44fv8rt/v+v7ur6o3tk222JyJaTUn6GYbK63v743R/iQ3JtmUZGOS3cDPkpzftxrSOD0GrJ0YnwP8oU2U8XAmpqmS7KA7yfgR4M/95Q3A64HPVdUvWmVrJckfp9yuqnrdzMLojJHkDuBS4G66NbHLgIN0x/ZQVbvapVtcFjGtqn8v7G10GztC17njN/2pxpKAJJ+cdr+qvj+rLGNiEdMpS7JUVX9vnWPWkqwBrgXe1V86AOwZYx9JqTWLmE5ZkserakPrHLOW5Dt0TX+X/7O+CjheVZ9ul0qteM5cW3bs0FRJrvtft4ClWWY5g1xaVW+eGN+T5MFmadTa8jlzn+2/b+m/Pw48M/s44+LuRK3mq8B5wLkrPkuM9/dzPMlFy4P+5WfXB0eqqv7UnzW3rap2V9VD/edG4P2t8y06Z2Jazf3AHVV1eOWNJGN9fPYlum32yx06NgEeHqp1SbZX1UGAJNuAdY0zLTzXxDRVks3AUyfrl5jkwqp6skGsppKsBa4H3tdfuhv4xvJLrhqnvuXU94CX062RPQ1cU1VHmgZbcBYxnRZJbq6qz7fOMQtJbgeOAj/oL30MOK+qPtwulVqbWD9eAo7x30J2uKoeaBZswfk4UafLttYBZmjzio0d+93YIbpz5S4BfkI3G7ucrtfoziQ/rKqbWoZbVGNdmJdejCNJ/tMnMclW4L6GeXRmuADYUlU3VNX1dAXtlXTvE17dMtgicyYmvXBbgU8kebwfbwAeXn5fyPeCRmsD8K+J8bPAxqr6R5J/Nsq08CxiOl3SOsAM7WgdQGekW4FfJ9nXj68AbkuyDvhtu1iLzY0desH6XopLVXV04trVVbW3XSqpvSRvpTsUM8DBqjrUONLCs4hpkCS3AjvpXuo9TLdw/fWq+lrTYJJGzY0dGurifuZ1JXAn3fP/q9pGkjR2FjENtabv3n4lsK/v2O40XlJTFjENtYfu5Np1wL1JNtK98CtJzbgmplOW5Oyqeq51Dknj5UxMgyS5MMl3k/y8H18MTD3JVpL+3yxiGmovcBfwmn78e+CLzdJIEhYxDfeKqrodOAHQP0b0DC1JTVnENNSxJBfQ70jsewc+3TaSpLGz7ZSGuo6uO/dFSe6ja2z6obaRJI2duxM1WJKzgc10LXV+178rJknNWMQ0VZIPTLtfVT+aVRZJWsnHiVrNFf33q4B3APf04/cABwCLmKRmLGKaqqquAUjyU7r+iX/tx+uBb7bMJknuTtRQm5YLWO9J4A2twkgSOBPTcAeS3AXcRrfN/qPA/raRJI2dGzs0WL/J45398N6q+nHLPJJkEZMkzS0fJ2qqJAeranuSv/H888MCVFW9rFE0SXImJkmaX+5O1CBJ3p7k3InxUpKtLTNJkjMxDZLkCLCl+h9MkrOAQ1W1pW0ySWPmTExDpSb+46mqE7imKqkxi5iGejTJriRr+s8XgEdbh5I0bhYxDbWTrnfiE8BfgK3AZ5omkjR6rolJkuaWaxqaKsnuqropyc08/z0xAKpqV4NYkgRYxLS6h/vvQ01TSNJJ+DhRkjS3nIlpkCT7OfnjxPc2iCNJgEVMw90w8fda4IPAc42ySBLg40S9CEl+VVXvbp1D0ng5E9MgSc6fGJ4FXAK8ulEcSQIsYhruMN2aWIBngceAT7UMJEl27NBQXwbeUlWvBW4BjgHPtI0kaewsYhrqK1V1NMl24DJgL/CttpEkjZ1FTEMd778vB75dVfuAlzTMI0kWMQ32RJI9wEeAO5Ocg78fSY25xV6DJHkpsAN4qKoeSbIeeFNV/bJxNEkjZhGTJM0tHwdJkuaWRUySNLcsYpKkuWURkyTNLYuYJGlu/RuaMPWjy8yxZAAAAABJRU5ErkJggg==\n",
      "text/plain": [
       "<Figure size 432x288 with 2 Axes>"
      ]
     },
     "metadata": {
      "needs_background": "light"
     },
     "output_type": "display_data"
    }
   ],
   "source": [
    "#Calculando a correlação entre anguns dados da tabela,  e calculando a média entre as faixas etárias \n",
    "df2= df[['suicides_100k_pop', 'population','HDI',\n",
    "'gdp_capita']]\n",
    "correlacao= df2.corr()\n",
    "print(correlacao)\n",
    "import seaborn\n",
    "\n",
    "plt.figure()\n",
    "plt.title(\"Correlação entre as variáveis\")\n",
    "seaborn.heatmap(df2.corr(), annot=True)\n",
    "plt.show()"
   ]
  },
  {
   "cell_type": "markdown",
   "metadata": {},
   "source": [
    "O gráfico acima indica a correlação por meio de um gradiente de cores. Quanto mais claro e rosa o gráfico, maior seria  os índices. Apesar de algumas correlações serem razoavelmente altas, como HDI (Índice de desenvolvimento humano) e GDP ( PIB per capita), a maior parte do gráfico é mais escura, portanto  vamos considerar todas as variáveis como possíveis influentes em nossa análise. Definimos que se a correlção superasse 0,8, ela seria\n",
    "desconsiderada da análise, mas não houve nenhum caso assim."
   ]
  },
  {
   "cell_type": "markdown",
   "metadata": {},
   "source": [
    "Agora, vamos analisar como a média da taxa de suicídios se distribui para cada faixa etária. Para isso, plotaremos um histograma\n",
    "que combina essa média com cada idade representada."
   ]
  },
  {
   "cell_type": "markdown",
   "metadata": {},
   "source": [
    "### Analisando os dados por idade"
   ]
  },
  {
   "cell_type": "code",
   "execution_count": 7,
   "metadata": {},
   "outputs": [
    {
     "data": {
      "image/png": "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\n",
      "text/plain": [
       "<Figure size 504x504 with 1 Axes>"
      ]
     },
     "metadata": {
      "needs_background": "light"
     },
     "output_type": "display_data"
    },
    {
     "name": "stdout",
     "output_type": "stream",
     "text": [
      "age\n",
      "5-14 years      0.628623\n",
      "15-24 years     8.651736\n",
      "25-34 years    11.467518\n",
      "35-54 years    14.116133\n",
      "55-74 years    15.143006\n",
      "75+ years      21.944598\n",
      "Name: suicides_100k_pop, dtype: float64\n"
     ]
    },
    {
     "data": {
      "text/plain": [
       "sex\n",
       "0     4.937198\n",
       "1    19.046674\n",
       "Name: suicides_100k_pop, dtype: float64"
      ]
     },
     "execution_count": 7,
     "metadata": {},
     "output_type": "execute_result"
    }
   ],
   "source": [
    "import seaborn as sns\n",
    "media_gender= df.suicides_100k_pop.groupby(by=df.age).mean()\n",
    "plt.figure(figsize=(7,7))\n",
    "media_gender=media_gender.sort_values()\n",
    "media_gender.plot.bar(rot=45)\n",
    "\n",
    "plt.xlabel(\"Years\",fontsize=10)\n",
    "plt.ylabel(\"Suicide rate per 100k\")\n",
    "plt.title('Suicide rate over age groups')\n",
    "plt.show()\n",
    "\n",
    "print(media_gender)\n",
    "df.suicides_100k_pop.groupby(by=df.sex).mean()"
   ]
  },
  {
   "cell_type": "code",
   "execution_count": 8,
   "metadata": {},
   "outputs": [
    {
     "data": {
      "text/plain": [
       "Text(0.5, 1.0, 'Suicide rates by age')"
      ]
     },
     "execution_count": 8,
     "metadata": {},
     "output_type": "execute_result"
    },
    {
     "data": {
<<<<<<< HEAD
      "image/png": "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\n",
=======
      "image/png": "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\n",
>>>>>>> aad28e2814fe806928e73ec9dee5af3702053854
      "text/plain": [
       "<Figure size 432x288 with 1 Axes>"
      ]
     },
     "metadata": {},
     "output_type": "display_data"
    }
   ],
   "source": [
    "years= [\"15-24 years\",\"25-34 years\",\"35-54 years\", \"5-14 years\",\"55-74 years\", \"75+ years\"]\n",
    "plt.figure()\n",
    "plt.pie(media_gender,labels=years,autopct='%1.1f%%')\n",
    "plt.title(\"Suicide rates by age\")"
   ]
  },
  {
   "cell_type": "markdown",
   "metadata": {},
   "source": [
    "Podemos observar que a menor taxa se encontra entre crianças de 5-14 anos, e que a maior encontrasse na faixa de 75+ anos. Também podemos observar que as faixas de 35-54\n",
    "e 55-74 anos são bem próximas, e que a maior discrepância ocorre entre o grupo mais novo (5-14 anos) e o mais velho (75+ anos)."
   ]
  },
  {
   "cell_type": "code",
   "execution_count": null,
   "metadata": {},
   "outputs": [],
   "source": []
  },
  {
   "cell_type": "markdown",
   "metadata": {},
   "source": []
  },
  {
   "cell_type": "code",
   "execution_count": null,
   "metadata": {},
   "outputs": [],
   "source": []
  },
  {
   "cell_type": "markdown",
   "metadata": {},
   "source": [
    "### Analisando os dados por sexo"
   ]
  },
  {
   "cell_type": "markdown",
   "metadata": {},
   "source": [
    "Agora vamos analisar os dados de acordo com sexo. Esse gráfico nos indicará a divisão entre homens e mulheres que se suicidam."
   ]
  },
  {
   "cell_type": "code",
   "execution_count": 9,
   "metadata": {},
   "outputs": [
    {
     "data": {
      "image/png": "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\n",
      "text/plain": [
       "<Figure size 504x504 with 1 Axes>"
      ]
     },
     "metadata": {},
     "output_type": "display_data"
    },
    {
     "data": {
      "text/plain": [
       "<bound method NDFrame.describe of sex\n",
       "0     4.937198\n",
       "1    19.046674\n",
       "Name: suicides_100k_pop, dtype: float64>"
      ]
     },
     "execution_count": 9,
     "metadata": {},
     "output_type": "execute_result"
    }
   ],
   "source": [
    "media= df.suicides_100k_pop.groupby(by=df.sex).mean()\n",
    "plt.figure(figsize=(7,7))\n",
    "labels= [\"Women\",\"Men\"]\n",
    "plt.pie(media,labels=labels,autopct='%1.1f%%')\n",
    "plt.title('Suicide rate over gender')\n",
    "plt.show()\n",
    "media.describe"
   ]
  },
  {
   "cell_type": "markdown",
   "metadata": {},
   "source": [
    "Observa-se que o fator de sexo é um grande influenciador nas taxas de suicídio, uma vez que as mulheres possuem uma taxa consideravelmente menor em relação aos homens. Isso já é uma pista que indica que esse provavelmente será um fator relevante para a tomada de decisão de nosso modelo."
   ]
  },
  {
   "cell_type": "markdown",
   "metadata": {},
   "source": [
    "### Plotando um histograma para analisar a média por país\n",
    "Agora vamos analisar como a taxa média de suicídios se distribui para cada país."
   ]
  },
  {
   "cell_type": "code",
   "execution_count": 10,
   "metadata": {},
   "outputs": [
    {
     "data": {
      "image/png": "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\n",
      "text/plain": [
       "<Figure size 1296x360 with 1 Axes>"
      ]
     },
     "metadata": {
      "needs_background": "light"
     },
     "output_type": "display_data"
    }
   ],
   "source": [
    "df_pais = dados[[ 'country','year', 'sex', 'age','suicides_100k_pop', 'population','HDI',\n",
    "'gdp_capita','generation']]\n",
    "mediaporpais=country_relevance= df_pais.suicides_100k_pop.groupby(by=df_pais.country).mean()\n",
    "plt.figure(figsize=(18,5))\n",
    "mediaporpais.plot.bar()\n",
    "plt.xlabel('Country')\n",
    "plt.ylabel(\"Suicide rate per 100k\")\n",
    "plt.title(\"Suicide rates by country\")\n",
    "plt.show()"
   ]
  },
  {
   "cell_type": "markdown",
   "metadata": {},
   "source": [
    "### Análise dos dados por ano"
   ]
  },
  {
   "cell_type": "markdown",
   "metadata": {},
   "source": [
    "Agora vamos analisar como a taxa de suicídios varia de acordo com o ano, desde 1985 até 2016:"
   ]
  },
  {
   "cell_type": "code",
   "execution_count": 11,
   "metadata": {},
   "outputs": [
    {
     "data": {
      "image/png": "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\n",
      "text/plain": [
       "<Figure size 720x360 with 1 Axes>"
      ]
     },
     "metadata": {
      "needs_background": "light"
     },
     "output_type": "display_data"
    }
   ],
   "source": [
    "df_ano = dados[[ 'country','year', 'sex', 'age','suicides_100k_pop', 'population','HDI',\n",
    "'gdp_capita','generation']]\n",
    "mediaporano= df_ano.suicides_100k_pop.groupby(by=df_ano.year).mean()\n",
    "plt.figure(figsize=(10,5))\n",
    "plt.scatter(mediaporano.index,mediaporano)\n",
    "plt.plot(mediaporano.index,mediaporano)\n",
    "plt.xlabel('Year')\n",
    "plt.ylabel(\"Suicide rate per 100k\")\n",
    "plt.title(\"Suicide rates by year\")\n",
    "plt.grid(True)\n",
    "plt.show()"
   ]
  },
  {
   "cell_type": "markdown",
   "metadata": {},
   "source": [
    "Pelo gráfico, observa-se que as taxas de suicídio tendem a crescer, de 1985 a 1995. Esse último ano possui alto índice de  crescimento, que dado a tendência do resto dos dados pode ser dito como anormal em comparação aos demais anos. A tendência até 2002 é descrescente novamente. Nesse ano, há um pico, que é seguido por um decrescimento até 2016, quando há um segundo pico."
   ]
  },
  {
   "cell_type": "markdown",
   "metadata": {},
   "source": [
    "### Analisando os dados por PIB"
   ]
  },
  {
   "cell_type": "code",
   "execution_count": 12,
   "metadata": {},
   "outputs": [
    {
     "data": {
      "image/png": "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\n",
      "text/plain": [
       "<Figure size 1080x360 with 1 Axes>"
      ]
     },
     "metadata": {
      "needs_background": "light"
     },
     "output_type": "display_data"
    }
   ],
   "source": [
    "df_gdp = dados[[ 'country','year', 'sex', 'age','suicides_100k_pop', 'population','HDI',\n",
    "'gdp_capita','generation']]\n",
    "mediaporpib= df_ano.suicides_100k_pop.groupby(by=df_gdp.gdp_capita).mean()\n",
    "plt.figure(figsize=(15,5))\n",
    "plt.scatter(mediaporpib.index,mediaporpib)\n",
    "plt.xlim(0,100000)\n",
    "plt.xlabel('GDP per capita')\n",
    "plt.ylabel(\"Suicide rate per 100k\")\n",
    "plt.title(\"Suicide rates by GDP capita\")\n",
    "plt.grid(True)\n",
    "plt.show()"
   ]
  },
  {
   "cell_type": "markdown",
   "metadata": {},
   "source": [
    "Como indicado no gráfico, há maior concentração de altos índices de suicídio á esquerda do gráfico, o que indica que a probabilidade de uma país com baixo PIB de ter um alto índice de suicídios é maior em comparação a países com maior PIB."
   ]
  },
  {
   "cell_type": "markdown",
   "metadata": {},
   "source": [
    "### Analisando os dados por Índice de Desenvolvimento Humano"
   ]
  },
  {
   "cell_type": "code",
   "execution_count": 13,
   "metadata": {},
   "outputs": [
    {
     "data": {
      "image/png": "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\n",
      "text/plain": [
       "<Figure size 720x360 with 1 Axes>"
      ]
     },
     "metadata": {
      "needs_background": "light"
     },
     "output_type": "display_data"
    }
   ],
   "source": [
    "df_hdi = dados[[ 'country','year', 'sex', 'age','suicides_100k_pop', 'population','HDI',\n",
    "'gdp_capita','generation']]\n",
    "mediaporhdi= df_ano.suicides_100k_pop.groupby(by=df_hdi.HDI).mean()\n",
    "plt.figure(figsize=(10,5))\n",
    "plt.scatter(mediaporhdi.index,mediaporhdi)\n",
    "plt.xlim(0.3,1)\n",
    "plt.ylim(-1,40)\n",
    "plt.xlabel('Human Development Index')\n",
    "plt.ylabel(\"Suicide rate per 100k\")\n",
    "plt.title(\"Suicide rates by HDI\")\n",
    "plt.grid(True)\n",
    "plt.show()"
   ]
  },
  {
   "cell_type": "markdown",
   "metadata": {},
   "source": [
    "Podemos observar que não há uma relação clara entre o Índice de Desenvolvimento Humano e as taxas de suicídio, uma vez que os pontos formam uma nuvem distribuída. Apesar disso, é mais difícil encontrar índices mais elevados como mais de 20 em países aonde o Índice é supeior a 0,85, e os que possuem Índice superior a 0.9 não superam a faixa de 15."
   ]
  },
  {
   "cell_type": "markdown",
   "metadata": {},
   "source": [
    "## 4- Análise por Regressão Linear Múltipla"
   ]
  },
  {
   "cell_type": "markdown",
   "metadata": {},
   "source": [
    "Agora que já temos uma noção de como as Taxas de suicídio variam de acordo com cada variável, vamos começar a analisar nosso modelo por meio de Regressão Linear. A Regressão Linear consiste em analisar como uma variável se comporta a medida que outra variável sofre alterações. Ela é frequentemente usada em análises metereológicas e na área de marketing, por exemplo, para prever o comportamento do tempo, de ações, entre outros. Nesse modelo, temos uma (ou mais, em nosso caso de Regressão Múltipla temos 7), variáveis dependentes, e nosso objetivo é analisar como estas afetam Y, a variável independente. As variáveis X, para essa análise consistem na idade (age), ano(year),população (population), Índice de desenvolvimento humano (HDI), PIB (gdp per capita), sexo (gender), e geração (generation). Já nossa variável independente (Y), será a taxa de suicídios por 100 mil habitantes. Em resumo, verificaremos qual a relação de nossas variáveis X e como elas afetam Y.\n"
   ]
  },
  {
   "cell_type": "markdown",
   "metadata": {},
   "source": [
    "Para realizar essa tarefa, o modelo de Regressão faz uma média entre os pontos de Y, por meio do Método dos Mínimos Quadrados, que busca minimizar a distância entre os valores de Y o máximo possível. Com isso, obteremos os coeficientes que guiarão nosso gráfico médio, por meio da seguinte fórmula:"
   ]
  },
  {
   "cell_type": "markdown",
   "metadata": {},
   "source": [
    "\n",
    "\n",
    "$$y_i=\\beta_0+\\beta_1x_i+\\varepsilon_i$$\n",
    "\n",
    "Onde:\n",
    "1. $\\beta_i$ são os coeficientes do modelo de regressão;\n",
    "1. $\\varepsilon_i$ representa os **erros aleatórios**. O erro aleatório tem média zero e variância (desconhecida) $\\sigma^2$. Além disso, esses erros aleatórios correspondentes as diferentes observações são também considerados variáveis aleatórias não correlacionadas.\n",
    "\n",
    "Os coeficientes são calculados por meio do Métodos dos Mínimos Quadrados,como dito préviamente. Esse Método é dado por:\n",
    "\n",
    "$$\\hat{\\beta}_0=\\bar{y}-\\hat{\\beta}_1\\bar{x}$$\n",
    "\n",
    "$$\\hat{\\beta}_1=\\frac{S_{XY}}{S_{XX}}=\\frac{\\sum_{i=1}^n(x_i-\\bar{x})(y_i-\\bar{y})}{\\sum_{i=1}^n(x_i-\\bar{x})^2}$$\n",
    "\n",
    "<div id=\"suposicoes\"></div>"
   ]
  },
  {
   "cell_type": "markdown",
   "metadata": {},
   "source": [
    "Como possuímos mais de um $\\beta_i$ , utilizaremos o modelo de Regressão Linear Múltipla do Python, que calcula esses coeficientes por meio da função OLS, contida no começo deste notebook. \n",
    "Para isso, vamos primeiro dividir nossos dados em X, Y e treinamento e teste. Essa última etapa é importante para testarmos a eficácia de nosso modelo garantindo que ele não estará enviezado, ou seja, quando o modelo for verificado, serão utilizados dados que não foram os utilizados no treinamento."
   ]
  },
  {
   "cell_type": "code",
   "execution_count": 14,
   "metadata": {
    "scrolled": true
   },
   "outputs": [
    {
     "name": "stderr",
     "output_type": "stream",
     "text": [
      "C:\\Users\\laura\\Anaconda3\\lib\\site-packages\\numpy\\core\\fromnumeric.py:2389: FutureWarning: Method .ptp is deprecated and will be removed in a future version. Use numpy.ptp instead.\n",
      "  return ptp(axis=axis, out=out, **kwargs)\n"
     ]
    },
    {
     "data": {
      "text/html": [
       "<table class=\"simpletable\">\n",
       "<caption>OLS Regression Results</caption>\n",
       "<tr>\n",
       "  <th>Dep. Variable:</th>    <td>suicides_100k_pop</td> <th>  R-squared:         </th> <td>   0.335</td> \n",
       "</tr>\n",
       "<tr>\n",
       "  <th>Model:</th>                   <td>OLS</td>        <th>  Adj. R-squared:    </th> <td>   0.333</td> \n",
       "</tr>\n",
       "<tr>\n",
       "  <th>Method:</th>             <td>Least Squares</td>   <th>  F-statistic:       </th> <td>   187.4</td> \n",
       "</tr>\n",
       "<tr>\n",
       "  <th>Date:</th>             <td>Wed, 10 Jun 2020</td>  <th>  Prob (F-statistic):</th>  <td>  0.00</td>  \n",
       "</tr>\n",
       "<tr>\n",
<<<<<<< HEAD
       "  <th>Time:</th>                 <td>14:33:38</td>      <th>  Log-Likelihood:    </th> <td> -22733.</td> \n",
=======
       "  <th>Time:</th>                 <td>13:31:17</td>      <th>  Log-Likelihood:    </th> <td> -22733.</td> \n",
>>>>>>> aad28e2814fe806928e73ec9dee5af3702053854
       "</tr>\n",
       "<tr>\n",
       "  <th>No. Observations:</th>      <td>  5603</td>       <th>  AIC:               </th> <td>4.550e+04</td>\n",
       "</tr>\n",
       "<tr>\n",
       "  <th>Df Residuals:</th>          <td>  5587</td>       <th>  BIC:               </th> <td>4.560e+04</td>\n",
       "</tr>\n",
       "<tr>\n",
       "  <th>Df Model:</th>              <td>    15</td>       <th>                     </th>     <td> </td>    \n",
       "</tr>\n",
       "<tr>\n",
       "  <th>Covariance Type:</th>      <td>nonrobust</td>     <th>                     </th>     <td> </td>    \n",
       "</tr>\n",
       "</table>\n",
       "<table class=\"simpletable\">\n",
       "<tr>\n",
       "         <td></td>            <th>coef</th>     <th>std err</th>      <th>t</th>      <th>P>|t|</th>  <th>[0.025</th>    <th>0.975]</th>  \n",
       "</tr>\n",
       "<tr>\n",
       "  <th>const</th>           <td>  351.3461</td> <td>   78.367</td> <td>    4.483</td> <td> 0.000</td> <td>  197.717</td> <td>  504.975</td>\n",
       "</tr>\n",
       "<tr>\n",
       "  <th>sex</th>             <td>   14.0193</td> <td>    0.375</td> <td>   37.427</td> <td> 0.000</td> <td>   13.285</td> <td>   14.754</td>\n",
       "</tr>\n",
       "<tr>\n",
       "  <th>year</th>            <td>   -0.2459</td> <td>    0.052</td> <td>   -4.703</td> <td> 0.000</td> <td>   -0.348</td> <td>   -0.143</td>\n",
       "</tr>\n",
       "<tr>\n",
       "  <th>population</th>      <td>-6.475e-08</td> <td> 4.87e-08</td> <td>   -1.330</td> <td> 0.184</td> <td> -1.6e-07</td> <td> 3.07e-08</td>\n",
       "</tr>\n",
       "<tr>\n",
       "  <th>HDI</th>             <td>   41.9307</td> <td>    3.271</td> <td>   12.820</td> <td> 0.000</td> <td>   35.519</td> <td>   48.343</td>\n",
       "</tr>\n",
       "<tr>\n",
       "  <th>gdp_capita</th>      <td>   -0.0001</td> <td> 1.33e-05</td> <td>   -8.543</td> <td> 0.000</td> <td>   -0.000</td> <td>-8.75e-05</td>\n",
       "</tr>\n",
       "<tr>\n",
       "  <th>15-24 years</th>     <td>   55.0835</td> <td>   12.429</td> <td>    4.432</td> <td> 0.000</td> <td>   30.718</td> <td>   79.449</td>\n",
       "</tr>\n",
       "<tr>\n",
       "  <th>25-34 years</th>     <td>   58.0441</td> <td>   12.652</td> <td>    4.588</td> <td> 0.000</td> <td>   33.240</td> <td>   82.848</td>\n",
       "</tr>\n",
       "<tr>\n",
       "  <th>35-54 years</th>     <td>   61.2293</td> <td>   13.209</td> <td>    4.635</td> <td> 0.000</td> <td>   35.334</td> <td>   87.124</td>\n",
       "</tr>\n",
       "<tr>\n",
       "  <th>5-14 years</th>      <td>   45.0859</td> <td>   11.967</td> <td>    3.767</td> <td> 0.000</td> <td>   21.626</td> <td>   68.546</td>\n",
       "</tr>\n",
       "<tr>\n",
       "  <th>55-74 years</th>     <td>   62.9450</td> <td>   13.904</td> <td>    4.527</td> <td> 0.000</td> <td>   35.687</td> <td>   90.203</td>\n",
       "</tr>\n",
       "<tr>\n",
       "  <th>75+ years</th>       <td>   68.9584</td> <td>   14.302</td> <td>    4.822</td> <td> 0.000</td> <td>   40.921</td> <td>   96.995</td>\n",
       "</tr>\n",
       "<tr>\n",
       "  <th>Boomers</th>         <td>   57.1011</td> <td>   12.738</td> <td>    4.483</td> <td> 0.000</td> <td>   32.129</td> <td>   82.073</td>\n",
       "</tr>\n",
       "<tr>\n",
       "  <th>G.I. Generation</th> <td>   60.0247</td> <td>   11.425</td> <td>    5.254</td> <td> 0.000</td> <td>   37.627</td> <td>   82.423</td>\n",
       "</tr>\n",
       "<tr>\n",
       "  <th>Generation X</th>    <td>   57.9557</td> <td>   13.384</td> <td>    4.330</td> <td> 0.000</td> <td>   31.718</td> <td>   84.193</td>\n",
       "</tr>\n",
       "<tr>\n",
       "  <th>Generation Z</th>    <td>   61.4361</td> <td>   14.653</td> <td>    4.193</td> <td> 0.000</td> <td>   32.710</td> <td>   90.162</td>\n",
       "</tr>\n",
       "<tr>\n",
       "  <th>Millenials</th>      <td>   58.7499</td> <td>   14.051</td> <td>    4.181</td> <td> 0.000</td> <td>   31.205</td> <td>   86.295</td>\n",
       "</tr>\n",
       "<tr>\n",
       "  <th>Silent</th>          <td>   56.0786</td> <td>   12.236</td> <td>    4.583</td> <td> 0.000</td> <td>   32.092</td> <td>   80.065</td>\n",
       "</tr>\n",
       "</table>\n",
       "<table class=\"simpletable\">\n",
       "<tr>\n",
       "  <th>Omnibus:</th>       <td>3126.243</td> <th>  Durbin-Watson:     </th> <td>   2.008</td> \n",
       "</tr>\n",
       "<tr>\n",
       "  <th>Prob(Omnibus):</th>  <td> 0.000</td>  <th>  Jarque-Bera (JB):  </th> <td>35341.617</td>\n",
       "</tr>\n",
       "<tr>\n",
       "  <th>Skew:</th>           <td> 2.457</td>  <th>  Prob(JB):          </th> <td>    0.00</td> \n",
       "</tr>\n",
       "<tr>\n",
       "  <th>Kurtosis:</th>       <td>14.280</td>  <th>  Cond. No.          </th> <td>5.94e+22</td> \n",
       "</tr>\n",
       "</table><br/><br/>Warnings:<br/>[1] Standard Errors assume that the covariance matrix of the errors is correctly specified.<br/>[2] The smallest eigenvalue is 2.99e-29. This might indicate that there are<br/>strong multicollinearity problems or that the design matrix is singular."
      ],
      "text/plain": [
       "<class 'statsmodels.iolib.summary.Summary'>\n",
       "\"\"\"\n",
       "                            OLS Regression Results                            \n",
       "==============================================================================\n",
       "Dep. Variable:      suicides_100k_pop   R-squared:                       0.335\n",
       "Model:                            OLS   Adj. R-squared:                  0.333\n",
       "Method:                 Least Squares   F-statistic:                     187.4\n",
       "Date:                Wed, 10 Jun 2020   Prob (F-statistic):               0.00\n",
<<<<<<< HEAD
       "Time:                        14:33:38   Log-Likelihood:                -22733.\n",
=======
       "Time:                        13:31:17   Log-Likelihood:                -22733.\n",
>>>>>>> aad28e2814fe806928e73ec9dee5af3702053854
       "No. Observations:                5603   AIC:                         4.550e+04\n",
       "Df Residuals:                    5587   BIC:                         4.560e+04\n",
       "Df Model:                          15                                         \n",
       "Covariance Type:            nonrobust                                         \n",
       "===================================================================================\n",
       "                      coef    std err          t      P>|t|      [0.025      0.975]\n",
       "-----------------------------------------------------------------------------------\n",
       "const             351.3461     78.367      4.483      0.000     197.717     504.975\n",
       "sex                14.0193      0.375     37.427      0.000      13.285      14.754\n",
       "year               -0.2459      0.052     -4.703      0.000      -0.348      -0.143\n",
       "population      -6.475e-08   4.87e-08     -1.330      0.184    -1.6e-07    3.07e-08\n",
       "HDI                41.9307      3.271     12.820      0.000      35.519      48.343\n",
       "gdp_capita         -0.0001   1.33e-05     -8.543      0.000      -0.000   -8.75e-05\n",
       "15-24 years        55.0835     12.429      4.432      0.000      30.718      79.449\n",
       "25-34 years        58.0441     12.652      4.588      0.000      33.240      82.848\n",
       "35-54 years        61.2293     13.209      4.635      0.000      35.334      87.124\n",
       "5-14 years         45.0859     11.967      3.767      0.000      21.626      68.546\n",
       "55-74 years        62.9450     13.904      4.527      0.000      35.687      90.203\n",
       "75+ years          68.9584     14.302      4.822      0.000      40.921      96.995\n",
       "Boomers            57.1011     12.738      4.483      0.000      32.129      82.073\n",
       "G.I. Generation    60.0247     11.425      5.254      0.000      37.627      82.423\n",
       "Generation X       57.9557     13.384      4.330      0.000      31.718      84.193\n",
       "Generation Z       61.4361     14.653      4.193      0.000      32.710      90.162\n",
       "Millenials         58.7499     14.051      4.181      0.000      31.205      86.295\n",
       "Silent             56.0786     12.236      4.583      0.000      32.092      80.065\n",
       "==============================================================================\n",
       "Omnibus:                     3126.243   Durbin-Watson:                   2.008\n",
       "Prob(Omnibus):                  0.000   Jarque-Bera (JB):            35341.617\n",
       "Skew:                           2.457   Prob(JB):                         0.00\n",
       "Kurtosis:                      14.280   Cond. No.                     5.94e+22\n",
       "==============================================================================\n",
       "\n",
       "Warnings:\n",
       "[1] Standard Errors assume that the covariance matrix of the errors is correctly specified.\n",
       "[2] The smallest eigenvalue is 2.99e-29. This might indicate that there are\n",
       "strong multicollinearity problems or that the design matrix is singular.\n",
       "\"\"\""
      ]
     },
     "execution_count": 14,
     "metadata": {},
     "output_type": "execute_result"
    }
   ],
   "source": [
    "#criando a variável X e suas respectivas dummies para variáveis qualitativas\n",
    "X = df[[ 'sex', 'year', 'population','HDI',\n",
    "'gdp_capita']]\n",
    "X = X.join(pd.get_dummies(df['age']))\n",
    "X = X.join(pd.get_dummies(df['generation']))\n",
    "#criando a variável Y\n",
    "Y = df['suicides_100k_pop']\n",
    "#Divisão dos dados em treinamento e teste\n",
    "X_train, X_test, y_train, y_test = train_test_split(\n",
    "X, Y, test_size=0.33, random_state=42)\n",
    "#utilizando a função regress que chama o modelo de Regressão Linear pronto do Python\n",
    "results = regress(X_train,y_train)\n",
    "results.summary()"
   ]
  },
  {
   "cell_type": "markdown",
   "metadata": {},
   "source": [
    "A coluna P>t nos indica o quão relevante aquela variável é para a nossa variável Y independente. Nesse caso, considerando alpha=10%, todas tem relevância exceto a variável de população. "
   ]
  },
  {
   "cell_type": "markdown",
   "metadata": {},
   "source": []
  },
  {
   "cell_type": "code",
   "execution_count": 15,
   "metadata": {},
   "outputs": [
    {
     "data": {
      "text/html": [
       "<table class=\"simpletable\">\n",
       "<caption>OLS Regression Results</caption>\n",
       "<tr>\n",
       "  <th>Dep. Variable:</th>    <td>suicides_100k_pop</td> <th>  R-squared:         </th> <td>   0.335</td> \n",
       "</tr>\n",
       "<tr>\n",
       "  <th>Model:</th>                   <td>OLS</td>        <th>  Adj. R-squared:    </th> <td>   0.333</td> \n",
       "</tr>\n",
       "<tr>\n",
       "  <th>Method:</th>             <td>Least Squares</td>   <th>  F-statistic:       </th> <td>   200.6</td> \n",
       "</tr>\n",
       "<tr>\n",
       "  <th>Date:</th>             <td>Wed, 10 Jun 2020</td>  <th>  Prob (F-statistic):</th>  <td>  0.00</td>  \n",
       "</tr>\n",
       "<tr>\n",
<<<<<<< HEAD
       "  <th>Time:</th>                 <td>14:33:38</td>      <th>  Log-Likelihood:    </th> <td> -22734.</td> \n",
=======
       "  <th>Time:</th>                 <td>13:31:17</td>      <th>  Log-Likelihood:    </th> <td> -22734.</td> \n",
>>>>>>> aad28e2814fe806928e73ec9dee5af3702053854
       "</tr>\n",
       "<tr>\n",
       "  <th>No. Observations:</th>      <td>  5603</td>       <th>  AIC:               </th> <td>4.550e+04</td>\n",
       "</tr>\n",
       "<tr>\n",
       "  <th>Df Residuals:</th>          <td>  5588</td>       <th>  BIC:               </th> <td>4.560e+04</td>\n",
       "</tr>\n",
       "<tr>\n",
       "  <th>Df Model:</th>              <td>    14</td>       <th>                     </th>     <td> </td>    \n",
       "</tr>\n",
       "<tr>\n",
       "  <th>Covariance Type:</th>      <td>nonrobust</td>     <th>                     </th>     <td> </td>    \n",
       "</tr>\n",
       "</table>\n",
       "<table class=\"simpletable\">\n",
       "<tr>\n",
       "         <td></td>            <th>coef</th>     <th>std err</th>      <th>t</th>      <th>P>|t|</th>  <th>[0.025</th>    <th>0.975]</th>  \n",
       "</tr>\n",
       "<tr>\n",
       "  <th>const</th>           <td>  349.5897</td> <td>   78.361</td> <td>    4.461</td> <td> 0.000</td> <td>  195.972</td> <td>  503.207</td>\n",
       "</tr>\n",
       "<tr>\n",
       "  <th>sex</th>             <td>   14.0244</td> <td>    0.375</td> <td>   37.440</td> <td> 0.000</td> <td>   13.290</td> <td>   14.759</td>\n",
       "</tr>\n",
       "<tr>\n",
       "  <th>year</th>            <td>   -0.2447</td> <td>    0.052</td> <td>   -4.680</td> <td> 0.000</td> <td>   -0.347</td> <td>   -0.142</td>\n",
       "</tr>\n",
       "<tr>\n",
       "  <th>HDI</th>             <td>   41.6010</td> <td>    3.262</td> <td>   12.755</td> <td> 0.000</td> <td>   35.207</td> <td>   47.995</td>\n",
       "</tr>\n",
       "<tr>\n",
       "  <th>gdp_capita</th>      <td>   -0.0001</td> <td> 1.33e-05</td> <td>   -8.539</td> <td> 0.000</td> <td>   -0.000</td> <td>-8.75e-05</td>\n",
       "</tr>\n",
       "<tr>\n",
       "  <th>15-24 years</th>     <td>   54.7853</td> <td>   12.428</td> <td>    4.408</td> <td> 0.000</td> <td>   30.422</td> <td>   79.149</td>\n",
       "</tr>\n",
       "<tr>\n",
       "  <th>25-34 years</th>     <td>   57.7550</td> <td>   12.651</td> <td>    4.565</td> <td> 0.000</td> <td>   32.953</td> <td>   82.557</td>\n",
       "</tr>\n",
       "<tr>\n",
       "  <th>35-54 years</th>     <td>   60.8608</td> <td>   13.207</td> <td>    4.608</td> <td> 0.000</td> <td>   34.970</td> <td>   86.752</td>\n",
       "</tr>\n",
       "<tr>\n",
       "  <th>5-14 years</th>      <td>   44.7783</td> <td>   11.966</td> <td>    3.742</td> <td> 0.000</td> <td>   21.321</td> <td>   68.236</td>\n",
       "</tr>\n",
       "<tr>\n",
       "  <th>55-74 years</th>     <td>   62.6589</td> <td>   13.904</td> <td>    4.507</td> <td> 0.000</td> <td>   35.402</td> <td>   89.916</td>\n",
       "</tr>\n",
       "<tr>\n",
       "  <th>75+ years</th>       <td>   68.7514</td> <td>   14.302</td> <td>    4.807</td> <td> 0.000</td> <td>   40.714</td> <td>   96.789</td>\n",
       "</tr>\n",
       "<tr>\n",
       "  <th>Boomers</th>         <td>   56.7900</td> <td>   12.737</td> <td>    4.459</td> <td> 0.000</td> <td>   31.820</td> <td>   81.760</td>\n",
       "</tr>\n",
       "<tr>\n",
       "  <th>G.I. Generation</th> <td>   59.7220</td> <td>   11.424</td> <td>    5.228</td> <td> 0.000</td> <td>   37.327</td> <td>   82.117</td>\n",
       "</tr>\n",
       "<tr>\n",
       "  <th>Generation X</th>    <td>   57.6607</td> <td>   13.383</td> <td>    4.309</td> <td> 0.000</td> <td>   31.425</td> <td>   83.896</td>\n",
       "</tr>\n",
       "<tr>\n",
       "  <th>Generation Z</th>    <td>   61.1791</td> <td>   14.653</td> <td>    4.175</td> <td> 0.000</td> <td>   32.454</td> <td>   89.905</td>\n",
       "</tr>\n",
       "<tr>\n",
       "  <th>Millenials</th>      <td>   58.4584</td> <td>   14.050</td> <td>    4.161</td> <td> 0.000</td> <td>   30.915</td> <td>   86.002</td>\n",
       "</tr>\n",
       "<tr>\n",
       "  <th>Silent</th>          <td>   55.7794</td> <td>   12.234</td> <td>    4.559</td> <td> 0.000</td> <td>   31.795</td> <td>   79.763</td>\n",
       "</tr>\n",
       "</table>\n",
       "<table class=\"simpletable\">\n",
       "<tr>\n",
       "  <th>Omnibus:</th>       <td>3132.930</td> <th>  Durbin-Watson:     </th> <td>   2.008</td> \n",
       "</tr>\n",
       "<tr>\n",
       "  <th>Prob(Omnibus):</th>  <td> 0.000</td>  <th>  Jarque-Bera (JB):  </th> <td>35492.784</td>\n",
       "</tr>\n",
       "<tr>\n",
       "  <th>Skew:</th>           <td> 2.463</td>  <th>  Prob(JB):          </th> <td>    0.00</td> \n",
       "</tr>\n",
       "<tr>\n",
       "  <th>Kurtosis:</th>       <td>14.303</td>  <th>  Cond. No.          </th> <td>2.61e+20</td> \n",
       "</tr>\n",
       "</table><br/><br/>Warnings:<br/>[1] Standard Errors assume that the covariance matrix of the errors is correctly specified.<br/>[2] The smallest eigenvalue is 7.64e-29. This might indicate that there are<br/>strong multicollinearity problems or that the design matrix is singular."
      ],
      "text/plain": [
       "<class 'statsmodels.iolib.summary.Summary'>\n",
       "\"\"\"\n",
       "                            OLS Regression Results                            \n",
       "==============================================================================\n",
       "Dep. Variable:      suicides_100k_pop   R-squared:                       0.335\n",
       "Model:                            OLS   Adj. R-squared:                  0.333\n",
       "Method:                 Least Squares   F-statistic:                     200.6\n",
       "Date:                Wed, 10 Jun 2020   Prob (F-statistic):               0.00\n",
<<<<<<< HEAD
       "Time:                        14:33:38   Log-Likelihood:                -22734.\n",
=======
       "Time:                        13:31:17   Log-Likelihood:                -22734.\n",
>>>>>>> aad28e2814fe806928e73ec9dee5af3702053854
       "No. Observations:                5603   AIC:                         4.550e+04\n",
       "Df Residuals:                    5588   BIC:                         4.560e+04\n",
       "Df Model:                          14                                         \n",
       "Covariance Type:            nonrobust                                         \n",
       "===================================================================================\n",
       "                      coef    std err          t      P>|t|      [0.025      0.975]\n",
       "-----------------------------------------------------------------------------------\n",
       "const             349.5897     78.361      4.461      0.000     195.972     503.207\n",
       "sex                14.0244      0.375     37.440      0.000      13.290      14.759\n",
       "year               -0.2447      0.052     -4.680      0.000      -0.347      -0.142\n",
       "HDI                41.6010      3.262     12.755      0.000      35.207      47.995\n",
       "gdp_capita         -0.0001   1.33e-05     -8.539      0.000      -0.000   -8.75e-05\n",
       "15-24 years        54.7853     12.428      4.408      0.000      30.422      79.149\n",
       "25-34 years        57.7550     12.651      4.565      0.000      32.953      82.557\n",
       "35-54 years        60.8608     13.207      4.608      0.000      34.970      86.752\n",
       "5-14 years         44.7783     11.966      3.742      0.000      21.321      68.236\n",
       "55-74 years        62.6589     13.904      4.507      0.000      35.402      89.916\n",
       "75+ years          68.7514     14.302      4.807      0.000      40.714      96.789\n",
       "Boomers            56.7900     12.737      4.459      0.000      31.820      81.760\n",
       "G.I. Generation    59.7220     11.424      5.228      0.000      37.327      82.117\n",
       "Generation X       57.6607     13.383      4.309      0.000      31.425      83.896\n",
       "Generation Z       61.1791     14.653      4.175      0.000      32.454      89.905\n",
       "Millenials         58.4584     14.050      4.161      0.000      30.915      86.002\n",
       "Silent             55.7794     12.234      4.559      0.000      31.795      79.763\n",
       "==============================================================================\n",
       "Omnibus:                     3132.930   Durbin-Watson:                   2.008\n",
       "Prob(Omnibus):                  0.000   Jarque-Bera (JB):            35492.784\n",
       "Skew:                           2.463   Prob(JB):                         0.00\n",
       "Kurtosis:                      14.303   Cond. No.                     2.61e+20\n",
       "==============================================================================\n",
       "\n",
       "Warnings:\n",
       "[1] Standard Errors assume that the covariance matrix of the errors is correctly specified.\n",
       "[2] The smallest eigenvalue is 7.64e-29. This might indicate that there are\n",
       "strong multicollinearity problems or that the design matrix is singular.\n",
       "\"\"\""
      ]
     },
     "execution_count": 15,
     "metadata": {},
     "output_type": "execute_result"
    }
   ],
   "source": [
    "#Definindo X sem os valores de população que são maiores que alpha e portanto irrelevante para a análise\n",
    "X = df[[ 'sex', 'year','HDI',\n",
    "'gdp_capita']]\n",
    "X = X.join(pd.get_dummies(df['age']))\n",
    "X = X.join(pd.get_dummies(df['generation']))\n",
    "Y = df['suicides_100k_pop']\n",
    "\n",
    "X_train, X_test, y_train, y_test = train_test_split(\n",
    "X, Y, test_size=0.33, random_state=42)\n",
    "#Repetindo a regressão para nosso novo X\n",
    "results = regress(X_train,y_train)\n",
    "results.summary()"
   ]
  },
  {
   "cell_type": "markdown",
   "metadata": {},
   "source": [
    "Numa análise de Regressão múltipla, retiramos as variáveis que não importam ( ou seja, são menores que alpha), até que só as menores que alpha sejam os parâmetros considerados. No entanto, a única que desconsideramos foi a de população nesse caso."
   ]
  },
  {
   "cell_type": "code",
   "execution_count": null,
   "metadata": {},
   "outputs": [],
   "source": [
    "\n"
   ]
  },
  {
   "cell_type": "code",
   "execution_count": null,
   "metadata": {},
   "outputs": [],
   "source": []
  },
  {
   "cell_type": "markdown",
   "metadata": {},
   "source": [
    "Como podemos observar, os índices que indicam a probabilidade dos resíudos seguirem uma normal (Prob JB e Prob Omnibus), são inferiores a alfa, o que provavelmente significa que os erros são distantes de uma normal. Com isso, concluímos que o modelo de Regressão Linear pode apresentar algumas imprecisões devido a isso, já que ele assume que os erros seguem uma distribuição próxima a uma Normal.\n",
    "A função \"results.resid\" calcula os erros e nos indica seu comportamento, seguindo a seguinte fórmula:\n",
    "$$e_i=y_i-\\hat{y_i}=y_i-(\\hat{\\beta}_0+\\hat{\\beta}_1x_i)$$\n",
    "\n"
   ]
  },
  {
   "cell_type": "markdown",
   "metadata": {},
   "source": [
    "Para ter certeza, vamos plotar um gráficos dos resíduos e compará-los com o comportamento normal:"
   ]
  },
  {
   "cell_type": "code",
   "execution_count": 16,
   "metadata": {},
   "outputs": [
    {
     "data": {
      "image/png": "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\n",
      "text/plain": [
       "<Figure size 432x288 with 1 Axes>"
      ]
     },
     "metadata": {
      "needs_background": "light"
     },
     "output_type": "display_data"
    }
   ],
   "source": [
    "\n",
    "plt.figure()\n",
    "erros=results.resid\n",
    "stats.probplot(erros,dist='norm',plot=plt)\n",
    "plt.title(\"Distribuição de erros\")\n",
    "plt.show()"
   ]
  },
  {
   "cell_type": "markdown",
   "metadata": {},
   "source": [
    "O gráfico acima confirma que os erros não seguem um comportamento normal, principalmente conforme aumentam. Isso significa que nosso modelo provavelmente não predirá de forma precisa o Índice de Suicídios. Vamos confirmar nossa hipótese usando nossa base de testes:"
   ]
  },
  {
   "cell_type": "code",
   "execution_count": 17,
   "metadata": {},
   "outputs": [
    {
     "name": "stdout",
     "output_type": "stream",
     "text": [
      "208.80537062854555\n"
     ]
    }
   ],
   "source": [
    "from sklearn.metrics import mean_squared_error\n",
    "from sklearn.ensemble import RandomForestRegressor \n",
    "results_teste = regress(X_test,y_test)\n",
    "y_pred= results_teste.predict(sm.add_constant(X_test))\n",
    "erro=mean_squared_error(y_test,y_pred)\n",
    "print(erro)\n"
   ]
  },
  {
   "cell_type": "markdown",
   "metadata": {},
   "source": [
    "Vamos comparar nosso erro com o erro se considerarmos também a base de dados que utilizamos para treinar nosso modelo:"
   ]
  },
  {
   "cell_type": "code",
   "execution_count": 18,
   "metadata": {},
   "outputs": [
    {
     "name": "stdout",
     "output_type": "stream",
     "text": [
      "196.66468704470358\n"
<<<<<<< HEAD
=======
     ]
    },
    {
     "name": "stderr",
     "output_type": "stream",
     "text": [
      "C:\\Users\\laura\\Anaconda3\\lib\\site-packages\\numpy\\core\\fromnumeric.py:2389: FutureWarning: Method .ptp is deprecated and will be removed in a future version. Use numpy.ptp instead.\n",
      "  return ptp(axis=axis, out=out, **kwargs)\n"
>>>>>>> aad28e2814fe806928e73ec9dee5af3702053854
     ]
    }
   ],
   "source": [
    "y_pred= results_teste.predict(sm.add_constant(X_train))\n",
    "erro=mean_squared_error(y_train,y_pred)\n",
    "print(erro)"
   ]
  },
  {
   "cell_type": "markdown",
   "metadata": {},
   "source": [
    "O índice de erros diminuiu, mas ainda existe, Algumas explicações para isso podem ser relacionadas ás Inferências que o modelo de Regressão faz.  Dentre elas, estão os erros em distribuição Normal, que como indicado previamente não é uma verdade para esse conjunto específico de dados, se analisarmos o gráfico de Distribuição de erros. Além disso, ele considera que so erros são independentes entre si, o que pode não ser uma verdade também. Outra hipótese é a de que a Correlação entre os índices de GDP e HDI, que já analisamos previamente, pode afetar o modelo, dada que ela quase supera nosso limite, que era 0.8. "
   ]
  },
  {
   "cell_type": "markdown",
   "metadata": {},
   "source": [
    "Se observamos a distribuição da Taxa de suicídios, veremos que 75% está no valor até 15,aproximadamente. Porém, o máximo é 187, o que indica que há valores que descolam muito da maioria (denominados outliars), e que podem estar contribuindo para que o modelo não funcione da forma ideal. Vamos descobrir quem são esses outliars e buscar fazer a regressão apenas com 99% dos valores obtidos, ou seja, taxas correspondentes a 85 ou menos:"
   ]
  },
  {
   "cell_type": "code",
   "execution_count": 19,
   "metadata": {},
   "outputs": [
    {
     "name": "stdout",
     "output_type": "stream",
     "text": [
      "Austria1985\n",
      "Austria1990\n",
      "Austria1995\n",
      "Austria2000\n",
      "Austria2013\n",
      "Belarus2000\n",
      "Belarus2000\n",
      "Belgium1985\n",
      "Belgium1990\n",
      "Bulgaria1985\n",
      "Bulgaria1990\n",
      "Bulgaria1995\n",
      "Bulgaria2000\n",
      "Croatia1995\n",
      "Croatia2000\n",
      "Croatia2005\n",
      "Croatia2010\n",
      "Cuba1995\n",
      "Cuba2000\n",
      "Cuba2011\n",
      "Cuba2012\n",
      "Czech Republic1990\n",
      "Czech Republic1995\n",
      "Estonia1995\n",
      "Estonia1995\n",
      "Estonia1995\n",
      "Estonia2000\n",
      "Finland1990\n",
      "France1985\n",
      "France1990\n",
      "France1995\n",
      "France2000\n",
      "Germany1990\n",
      "Guyana2010\n",
      "Guyana2010\n",
      "Hungary1995\n",
      "Hungary2000\n",
      "Hungary2005\n",
      "Hungary2010\n",
      "Hungary2012\n",
      "Hungary2013\n",
      "Kazakhstan1995\n",
      "Kazakhstan1995\n",
      "Kazakhstan1995\n",
      "Latvia1995\n",
      "Latvia1995\n",
      "Latvia1995\n",
      "Latvia2000\n",
      "Latvia2000\n",
      "Latvia2000\n",
      "Lithuania1995\n",
      "Lithuania1995\n",
      "Lithuania1995\n",
      "Lithuania2000\n",
      "Lithuania2000\n",
      "Lithuania2000\n",
      "Lithuania2005\n",
      "Lithuania2005\n",
      "Lithuania2013\n",
      "Lithuania2014\n",
      "Luxembourg1985\n",
      "Luxembourg2000\n",
      "Serbia2000\n",
      "Serbia2005\n",
      "Serbia2010\n",
      "Serbia2011\n",
      "Serbia2012\n",
      "Singapore1995\n",
      "Slovenia1995\n",
      "Slovenia2000\n",
      "Slovenia2005\n",
      "Slovenia2010\n",
      "Slovenia2011\n",
      "Slovenia2012\n",
      "Slovenia2013\n",
      "Slovenia2014\n",
      "Sri Lanka1985\n",
      "Sri Lanka1985\n",
      "Sri Lanka2000\n",
      "Suriname2010\n",
      "Suriname2011\n",
      "Suriname2012\n",
      "Suriname2014\n",
      "Switzerland1995\n",
      "Ukraine1995\n",
      "Uruguay1995\n",
      "Uruguay2000\n",
      "Uruguay2010\n"
     ]
    },
    {
     "data": {
      "text/plain": [
       "0.00     0.0000\n",
       "0.01     0.0000\n",
       "0.02     0.0000\n",
       "0.03     0.0000\n",
       "0.04     0.0000\n",
       "0.05     0.0000\n",
       "0.06     0.0000\n",
       "0.07     0.0000\n",
       "0.08     0.0000\n",
       "0.09     0.0000\n",
       "0.10     0.0000\n",
       "0.11     0.0000\n",
       "0.12     0.0000\n",
       "0.13     0.0000\n",
       "0.14     0.0600\n",
       "0.15     0.1845\n",
       "0.16     0.2600\n",
       "0.17     0.3200\n",
       "0.18     0.3800\n",
       "0.19     0.4400\n",
       "0.20     0.5200\n",
       "0.21     0.6400\n",
       "0.22     0.7500\n",
       "0.23     0.8500\n",
       "0.24     0.9500\n",
       "0.25     1.0400\n",
       "0.26     1.1600\n",
       "0.27     1.2900\n",
       "0.28     1.4100\n",
       "0.29     1.5600\n",
       "         ...   \n",
       "0.70    12.7500\n",
       "0.71    13.2500\n",
       "0.72    13.8000\n",
       "0.73    14.3700\n",
       "0.74    14.9062\n",
       "0.75    15.4425\n",
       "0.76    16.1500\n",
       "0.77    17.0151\n",
       "0.78    17.6714\n",
       "0.79    18.4800\n",
       "0.80    19.3940\n",
       "0.81    20.2503\n",
       "0.82    21.1700\n",
       "0.83    22.1258\n",
       "0.84    23.1200\n",
       "0.85    24.0610\n",
       "0.86    25.2200\n",
       "0.87    26.2581\n",
       "0.88    27.4900\n",
       "0.89    29.5007\n",
       "0.90    31.3470\n",
       "0.91    33.4533\n",
       "0.92    35.6092\n",
       "0.93    38.3859\n",
       "0.94    41.1664\n",
       "0.95    45.7325\n",
       "0.96    51.8044\n",
       "0.97    58.4631\n",
       "0.98    70.8018\n",
       "0.99    85.5974\n",
       "Name: suicides_100k_pop, Length: 100, dtype: float64"
      ]
     },
     "execution_count": 19,
     "metadata": {},
     "output_type": "execute_result"
    }
   ],
   "source": [
    "\n",
    "df3= dados[[ 'year', 'sex', 'age','suicides_100k_pop', 'population','HDI',\n",
    "'gdp_capita','generation','country-year']].dropna()\n",
    "i=0\n",
    "#printando os países outliars em seus respectivos anos\n",
    "for i in range(len(df3)):\n",
    "    if df3.iloc[i]['suicides_100k_pop']>85:\n",
    "        print(df3.iloc[i]['country-year'])\n",
    "df3.head()\n",
    "faixa= np.arange(0,1,0.01)\n",
    "Y.quantile(faixa)"
   ]
  },
  {
   "cell_type": "markdown",
   "metadata": {},
   "source": [
    "Podemos observar que a Lituânia e outros países nórdicos, como a Estônia e a Eslovênia por exemplo, possuem uma ocorrência mais frequente nesse grupo que se destaca do resto dos dados, ou seja, possuem índices muito mais altos que o comum.  Há diversos motivos apontados por especialistas que explicam isso, mas o principal decorre da ausência de sol na maior parte do ano nesses lugares, o que aumenta a tendência a depressão e, consequentemente, ao suicídio. Outros fatores que também podem ser considerados como problemas socio-econômicos, mudanças radicais no sistema dado ao fim de União Soviética, entre outros."
   ]
  },
  {
   "cell_type": "code",
<<<<<<< HEAD
   "execution_count": 83,
=======
   "execution_count": 20,
>>>>>>> aad28e2814fe806928e73ec9dee5af3702053854
   "metadata": {},
   "outputs": [
    {
     "name": "stderr",
     "output_type": "stream",
     "text": [
      "C:\\Users\\laura\\Anaconda3\\lib\\site-packages\\numpy\\core\\fromnumeric.py:2389: FutureWarning: Method .ptp is deprecated and will be removed in a future version. Use numpy.ptp instead.\n",
      "  return ptp(axis=axis, out=out, **kwargs)\n"
     ]
    },
    {
     "data": {
      "text/html": [
       "<table class=\"simpletable\">\n",
       "<caption>OLS Regression Results</caption>\n",
       "<tr>\n",
       "  <th>Dep. Variable:</th>    <td>suicides_100k_pop</td> <th>  R-squared:         </th> <td>   0.356</td> \n",
       "</tr>\n",
       "<tr>\n",
       "  <th>Model:</th>                   <td>OLS</td>        <th>  Adj. R-squared:    </th> <td>   0.354</td> \n",
       "</tr>\n",
       "<tr>\n",
       "  <th>Method:</th>             <td>Least Squares</td>   <th>  F-statistic:       </th> <td>   203.9</td> \n",
       "</tr>\n",
       "<tr>\n",
       "  <th>Date:</th>             <td>Wed, 10 Jun 2020</td>  <th>  Prob (F-statistic):</th>  <td>  0.00</td>  \n",
       "</tr>\n",
       "<tr>\n",
<<<<<<< HEAD
       "  <th>Time:</th>                 <td>15:01:24</td>      <th>  Log-Likelihood:    </th> <td> -21508.</td> \n",
=======
       "  <th>Time:</th>                 <td>13:31:21</td>      <th>  Log-Likelihood:    </th> <td> -21508.</td> \n",
>>>>>>> aad28e2814fe806928e73ec9dee5af3702053854
       "</tr>\n",
       "<tr>\n",
       "  <th>No. Observations:</th>      <td>  5544</td>       <th>  AIC:               </th> <td>4.305e+04</td>\n",
       "</tr>\n",
       "<tr>\n",
       "  <th>Df Residuals:</th>          <td>  5528</td>       <th>  BIC:               </th> <td>4.315e+04</td>\n",
       "</tr>\n",
       "<tr>\n",
       "  <th>Df Model:</th>              <td>    15</td>       <th>                     </th>     <td> </td>    \n",
       "</tr>\n",
       "<tr>\n",
       "  <th>Covariance Type:</th>      <td>nonrobust</td>     <th>                     </th>     <td> </td>    \n",
       "</tr>\n",
       "</table>\n",
       "<table class=\"simpletable\">\n",
       "<tr>\n",
       "         <td></td>            <th>coef</th>     <th>std err</th>      <th>t</th>      <th>P>|t|</th>  <th>[0.025</th>    <th>0.975]</th>  \n",
       "</tr>\n",
       "<tr>\n",
       "  <th>const</th>           <td>  234.3388</td> <td>   66.381</td> <td>    3.530</td> <td> 0.000</td> <td>  104.206</td> <td>  364.472</td>\n",
       "</tr>\n",
       "<tr>\n",
       "  <th>sex</th>             <td>   12.5764</td> <td>    0.315</td> <td>   39.895</td> <td> 0.000</td> <td>   11.958</td> <td>   13.194</td>\n",
       "</tr>\n",
       "<tr>\n",
       "  <th>year</th>            <td>   -0.1682</td> <td>    0.044</td> <td>   -3.798</td> <td> 0.000</td> <td>   -0.255</td> <td>   -0.081</td>\n",
       "</tr>\n",
       "<tr>\n",
       "  <th>population</th>      <td>-2.355e-08</td> <td> 4.02e-08</td> <td>   -0.586</td> <td> 0.558</td> <td>-1.02e-07</td> <td> 5.52e-08</td>\n",
       "</tr>\n",
       "<tr>\n",
       "  <th>HDI</th>             <td>   41.2634</td> <td>    2.735</td> <td>   15.085</td> <td> 0.000</td> <td>   35.901</td> <td>   46.626</td>\n",
       "</tr>\n",
       "<tr>\n",
       "  <th>gdp_capita</th>      <td>-9.479e-05</td> <td>  1.1e-05</td> <td>   -8.626</td> <td> 0.000</td> <td>   -0.000</td> <td>-7.32e-05</td>\n",
       "</tr>\n",
       "<tr>\n",
       "  <th>15-24 years</th>     <td>   36.9045</td> <td>   10.527</td> <td>    3.506</td> <td> 0.000</td> <td>   16.268</td> <td>   57.541</td>\n",
       "</tr>\n",
       "<tr>\n",
       "  <th>25-34 years</th>     <td>   39.6857</td> <td>   10.713</td> <td>    3.704</td> <td> 0.000</td> <td>   18.684</td> <td>   60.688</td>\n",
       "</tr>\n",
       "<tr>\n",
       "  <th>35-54 years</th>     <td>   41.3886</td> <td>   11.190</td> <td>    3.699</td> <td> 0.000</td> <td>   19.451</td> <td>   63.326</td>\n",
       "</tr>\n",
       "<tr>\n",
       "  <th>5-14 years</th>      <td>   28.2381</td> <td>   10.135</td> <td>    2.786</td> <td> 0.005</td> <td>    8.369</td> <td>   48.107</td>\n",
       "</tr>\n",
       "<tr>\n",
       "  <th>55-74 years</th>     <td>   42.0541</td> <td>   11.782</td> <td>    3.569</td> <td> 0.000</td> <td>   18.956</td> <td>   65.152</td>\n",
       "</tr>\n",
       "<tr>\n",
       "  <th>75+ years</th>       <td>   46.0679</td> <td>   12.114</td> <td>    3.803</td> <td> 0.000</td> <td>   22.319</td> <td>   69.817</td>\n",
       "</tr>\n",
       "<tr>\n",
       "  <th>Boomers</th>         <td>   39.1770</td> <td>   10.784</td> <td>    3.633</td> <td> 0.000</td> <td>   18.036</td> <td>   60.318</td>\n",
       "</tr>\n",
       "<tr>\n",
       "  <th>G.I. Generation</th> <td>   39.9628</td> <td>    9.677</td> <td>    4.130</td> <td> 0.000</td> <td>   20.992</td> <td>   58.934</td>\n",
       "</tr>\n",
       "<tr>\n",
       "  <th>Generation X</th>    <td>   38.7124</td> <td>   11.334</td> <td>    3.416</td> <td> 0.001</td> <td>   16.494</td> <td>   60.931</td>\n",
       "</tr>\n",
       "<tr>\n",
       "  <th>Generation Z</th>    <td>   39.5592</td> <td>   12.416</td> <td>    3.186</td> <td> 0.001</td> <td>   15.218</td> <td>   63.900</td>\n",
       "</tr>\n",
       "<tr>\n",
       "  <th>Millenials</th>      <td>   38.3361</td> <td>   11.901</td> <td>    3.221</td> <td> 0.001</td> <td>   15.006</td> <td>   61.666</td>\n",
       "</tr>\n",
       "<tr>\n",
       "  <th>Silent</th>          <td>   38.5913</td> <td>   10.369</td> <td>    3.722</td> <td> 0.000</td> <td>   18.264</td> <td>   58.919</td>\n",
       "</tr>\n",
       "</table>\n",
       "<table class=\"simpletable\">\n",
       "<tr>\n",
       "  <th>Omnibus:</th>       <td>2144.625</td> <th>  Durbin-Watson:     </th> <td>   2.020</td> \n",
       "</tr>\n",
       "<tr>\n",
       "  <th>Prob(Omnibus):</th>  <td> 0.000</td>  <th>  Jarque-Bera (JB):  </th> <td>10828.145</td>\n",
       "</tr>\n",
       "<tr>\n",
       "  <th>Skew:</th>           <td> 1.805</td>  <th>  Prob(JB):          </th> <td>    0.00</td> \n",
       "</tr>\n",
       "<tr>\n",
       "  <th>Kurtosis:</th>       <td> 8.817</td>  <th>  Cond. No.          </th> <td>5.89e+22</td> \n",
       "</tr>\n",
       "</table><br/><br/>Warnings:<br/>[1] Standard Errors assume that the covariance matrix of the errors is correctly specified.<br/>[2] The smallest eigenvalue is 3.16e-29. This might indicate that there are<br/>strong multicollinearity problems or that the design matrix is singular."
      ],
      "text/plain": [
       "<class 'statsmodels.iolib.summary.Summary'>\n",
       "\"\"\"\n",
       "                            OLS Regression Results                            \n",
       "==============================================================================\n",
       "Dep. Variable:      suicides_100k_pop   R-squared:                       0.356\n",
       "Model:                            OLS   Adj. R-squared:                  0.354\n",
       "Method:                 Least Squares   F-statistic:                     203.9\n",
       "Date:                Wed, 10 Jun 2020   Prob (F-statistic):               0.00\n",
<<<<<<< HEAD
       "Time:                        15:01:24   Log-Likelihood:                -21508.\n",
=======
       "Time:                        13:31:21   Log-Likelihood:                -21508.\n",
>>>>>>> aad28e2814fe806928e73ec9dee5af3702053854
       "No. Observations:                5544   AIC:                         4.305e+04\n",
       "Df Residuals:                    5528   BIC:                         4.315e+04\n",
       "Df Model:                          15                                         \n",
       "Covariance Type:            nonrobust                                         \n",
       "===================================================================================\n",
       "                      coef    std err          t      P>|t|      [0.025      0.975]\n",
       "-----------------------------------------------------------------------------------\n",
       "const             234.3388     66.381      3.530      0.000     104.206     364.472\n",
       "sex                12.5764      0.315     39.895      0.000      11.958      13.194\n",
       "year               -0.1682      0.044     -3.798      0.000      -0.255      -0.081\n",
       "population      -2.355e-08   4.02e-08     -0.586      0.558   -1.02e-07    5.52e-08\n",
       "HDI                41.2634      2.735     15.085      0.000      35.901      46.626\n",
       "gdp_capita      -9.479e-05    1.1e-05     -8.626      0.000      -0.000   -7.32e-05\n",
       "15-24 years        36.9045     10.527      3.506      0.000      16.268      57.541\n",
       "25-34 years        39.6857     10.713      3.704      0.000      18.684      60.688\n",
       "35-54 years        41.3886     11.190      3.699      0.000      19.451      63.326\n",
       "5-14 years         28.2381     10.135      2.786      0.005       8.369      48.107\n",
       "55-74 years        42.0541     11.782      3.569      0.000      18.956      65.152\n",
       "75+ years          46.0679     12.114      3.803      0.000      22.319      69.817\n",
       "Boomers            39.1770     10.784      3.633      0.000      18.036      60.318\n",
       "G.I. Generation    39.9628      9.677      4.130      0.000      20.992      58.934\n",
       "Generation X       38.7124     11.334      3.416      0.001      16.494      60.931\n",
       "Generation Z       39.5592     12.416      3.186      0.001      15.218      63.900\n",
       "Millenials         38.3361     11.901      3.221      0.001      15.006      61.666\n",
       "Silent             38.5913     10.369      3.722      0.000      18.264      58.919\n",
       "==============================================================================\n",
       "Omnibus:                     2144.625   Durbin-Watson:                   2.020\n",
       "Prob(Omnibus):                  0.000   Jarque-Bera (JB):            10828.145\n",
       "Skew:                           1.805   Prob(JB):                         0.00\n",
       "Kurtosis:                       8.817   Cond. No.                     5.89e+22\n",
       "==============================================================================\n",
       "\n",
       "Warnings:\n",
       "[1] Standard Errors assume that the covariance matrix of the errors is correctly specified.\n",
       "[2] The smallest eigenvalue is 3.16e-29. This might indicate that there are\n",
       "strong multicollinearity problems or that the design matrix is singular.\n",
       "\"\"\""
      ]
     },
<<<<<<< HEAD
     "execution_count": 83,
=======
     "execution_count": 20,
>>>>>>> aad28e2814fe806928e73ec9dee5af3702053854
     "metadata": {},
     "output_type": "execute_result"
    }
   ],
   "source": [
    "df4= df[df['suicides_100k_pop']<85].copy()\n",
    "X4 = df4[[ 'sex', 'year', 'population','HDI',\n",
    "'gdp_capita']]\n",
    "X4 = X4.join(pd.get_dummies(df4['age']))\n",
    "X4 = X4.join(pd.get_dummies(df4['generation']))\n",
    "Y4 = df4['suicides_100k_pop']\n",
    "X4_train, X4_test, y4_train, y4_test = train_test_split(\n",
    "X4, Y4, test_size=0.33, random_state=42)\n",
    "results4 = regress(X4_train,y4_train)\n",
    "results4.summary()"
   ]
  },
  {
   "cell_type": "code",
<<<<<<< HEAD
   "execution_count": 84,
=======
   "execution_count": 21,
>>>>>>> aad28e2814fe806928e73ec9dee5af3702053854
   "metadata": {},
   "outputs": [
    {
     "name": "stdout",
     "output_type": "stream",
     "text": [
      "133.47190063413967\n"
     ]
    }
   ],
   "source": [
    "y_pred4= results4.predict(sm.add_constant(X4_test))\n",
    "erro4=mean_squared_error(y4_test,y_pred4)\n",
    "print(erro4)"
   ]
  },
  {
   "cell_type": "markdown",
   "metadata": {},
   "source": [
    "Podemos observar que nosso erro caiu consideravelmente, de 208 para 133 ( se compararmos o erro relativo aos testes, ou seja sem o viés dado pelos dados de treinamento). Podemos concluir portanto que os pontos muito acima do esperado ( que representavam apenas 1% de nossos dados) estavam fazendo com que nosso modelo fosse mais impreciso. Ao excluírmos estes pontos, podemos analisar de forma mais precisa e ponderada nossos dados."
   ]
  },
  {
   "cell_type": "markdown",
   "metadata": {},
   "source": [
    "Como existem ainda assim inferências que o nosso modelo não corresponde, como os erros seguindo uma normal, vamos testar outros modelos de Aprendizagem supervisionada ( ou seja, um aprendizado na qual já possuímos um conjunto de resultados que queremos nos aproximar), como o Forest Regression e o Gradient Boost Regressor."
   ]
  },
  {
   "cell_type": "markdown",
   "metadata": {},
   "source": [
    "## 5- Modelo de Regressão Random Forest"
   ]
  },
  {
   "cell_type": "markdown",
   "metadata": {},
   "source": [
    "Agora vamos utilizar outro modelo de Regressão denominado Random Forest, e ver como o erro deste se compara ao anterior. O método interpreta de uma maneira aleatória, vários modelos diferentes ,estabelecendo  regras de tomadas de decisões, buscando melhores condições para a análise. Geralmente, o que se busca fazer é encontrar a variável mais relevante para nossa saída Y, e com isso os valores que nos dão o conjunto populacional com menos diferenças, ou seja, mais homogêneo possível. A vantagem do Random Forest é que ele tende a evitar o overfitting, ou seja, se houvesse muitos dados a serem considerados, nosso modelo poderia perder a capacidade de generalização."
   ]
  },
  {
   "cell_type": "markdown",
   "metadata": {},
   "source": [
    "O que o Random Forest faz para evitar isso é formar conjuntos menores de  features (característica aleatórias para avaliar), selecionar os que melhor representam um \"Nó raíz\", ou seja, um nó que depois será divido em em outros, como se fossem ramos, por isso o nome Forest. Depoi o algorítimo cria os nós filhos, ou seja, os que são derivados do nó raíz, e repete isso sucessivamente. Ao final, o modelo compara as votações de cada mini ramo, e a decisão mais votada é a tomada de decisão."
   ]
  },
  {
   "cell_type": "markdown",
   "metadata": {},
   "source": [
    "O parâmetro \"random_state\", apenas garante que todas as vezes que rodarmos a regressão com esse mesmo número, iremos obter os mesmos resultados, já que este é um modelo aleatório e poderia fornecer diferentes resultados cada vez que o rodássemos."
   ]
  },
  {
   "cell_type": "code",
<<<<<<< HEAD
   "execution_count": 85,
=======
   "execution_count": 22,
>>>>>>> aad28e2814fe806928e73ec9dee5af3702053854
   "metadata": {},
   "outputs": [
    {
     "name": "stdout",
     "output_type": "stream",
     "text": [
      "114.52385862303784\n"
     ]
    }
   ],
   "source": [
    "from sklearn.metrics import mean_squared_error\n",
    "from sklearn.ensemble import RandomForestRegressor \n",
    "  \n",
    " # criando o objeto da regressão\n",
    "regressor = RandomForestRegressor(n_estimators = 200, random_state = 0) \n",
    "# fazendo o fit da regressão com nosso x e y de treinamento\n",
    "regressor.fit(X_train, y_train)   \n",
    "y_pred= regressor.predict(X_test)\n",
    "erro=mean_squared_error(y_test,y_pred)\n",
    "print(erro)"
   ]
  },
  {
   "cell_type": "markdown",
   "metadata": {},
   "source": [
    "Podemos observar que esse erro é bem menor que o anterior dado pela regressão linear, o que significa que ele é mais eficaz nesse caso e mais adequado para o comportamento de nossos dados. Vale ressaltar que o parâmetro \"n_estimator\" corresponde ao números de \"árvores\", ou seja, quanto maior for mais precisa tende a ser a análise, já que levaremos mais variáveis como Nó raíz em conta ( e algumas vezes até sub divisões dentre variáveis). No entanto, há um limite em que o erro se mantém muito parecido a partir de certo número, nesse caso, um parâmetro maior que 200 mantinha o erro de 89 e toma um tempo maior para ser estimado."
   ]
  },
  {
   "cell_type": "markdown",
   "metadata": {},
   "source": [
    "Vamos comparar nosso erro com o erro se considerarmos também a base de dados que utilizamos para treinar nosso modelo:"
   ]
  },
  {
   "cell_type": "code",
   "execution_count": 23,
   "metadata": {},
   "outputs": [
    {
     "name": "stdout",
     "output_type": "stream",
     "text": [
      "15.66119864761066\n"
     ]
    }
   ],
   "source": [
    "\n",
    "y_pred= regressor.predict(X_train)\n",
    "erro=mean_squared_error(y_train,y_pred)\n",
    "print(erro)"
   ]
  },
  {
   "cell_type": "markdown",
   "metadata": {},
   "source": [
    "O erro diminui bastante ao fazermos isso, uma vez que a base inclui também os dados utilizados para ensinar o modelo a avaliar as variáveis"
   ]
  },
  {
   "cell_type": "markdown",
   "metadata": {},
   "source": [
    "Agora vamos fazer o que fizemos com a regressão linear no que se refere a excluir os dados que saem muito do esperado, os outliars. O que esperamos fazer com isso é aumentar a precisão de nosso modelo para que ele preveja com menos erros nosso Y:"
   ]
  },
  {
   "cell_type": "code",
<<<<<<< HEAD
   "execution_count": 86,
=======
   "execution_count": 24,
>>>>>>> aad28e2814fe806928e73ec9dee5af3702053854
   "metadata": {},
   "outputs": [
    {
     "name": "stdout",
     "output_type": "stream",
     "text": [
      "54.138296722404846\n"
     ]
    }
   ],
   "source": [
    "regressor.fit(X4_train, y4_train)   \n",
    "y5_pred= regressor.predict(X4_test)\n",
    "erro_semoutliar=mean_squared_error(y4_test,y5_pred)\n",
    "print(erro_semoutliar)"
   ]
  },
  {
   "cell_type": "markdown",
   "metadata": {},
   "source": [
    "Podemos observar uma queda significativa no erro, de 89 para 54, o que nos prova que a exclusão de outliars nos ajudou a tornar nosso modelo mais preciso. Agora, da mesma forma vamos ver o que acontece quando levamos em consideração nossa base de treinamento:"
   ]
  },
  {
   "cell_type": "code",
<<<<<<< HEAD
   "execution_count": 87,
=======
   "execution_count": 25,
>>>>>>> aad28e2814fe806928e73ec9dee5af3702053854
   "metadata": {},
   "outputs": [
    {
     "name": "stdout",
     "output_type": "stream",
     "text": [
      "7.725189901732951\n"
     ]
    }
   ],
   "source": [
    "y_predtrain= regressor.predict(X4_train)\n",
    "erro_teste=mean_squared_error(y4_train,y_predtrain)\n",
    "print(erro_teste)"
   ]
  },
  {
   "cell_type": "markdown",
   "metadata": {},
   "source": [
    "Os erros diminuem mais ainda,como previsto, porque agora estamos utilizando o treinamento para verificar nosso modelo. Como ele foi treinado com essa base de dados, a chance do modelo acertar aumenta."
   ]
  },
  {
   "cell_type": "markdown",
   "metadata": {},
   "source": [
    "## 6- Gradient Boost Regressor"
   ]
  },
  {
   "cell_type": "markdown",
   "metadata": {},
   "source": [
    "Por último, vamos utilizar o modelo Gradient Boost Regressor (GBR), que é bem semelhante ao Forest Regression, porque consiste na ideia de Árvore de Decisões. A diferença é que o GBR utiliza resíduos para montar sua árvore de decisão, e monta a próxima árvore baseada na anterior ( por isso o nome Boosting), diferentemente do Forest Regression, que monta diversas árvores de forma aleatória e independentes entre si. O algoritmo segue algumas etapas básicas para sua decisão final. Na primeira, ele calcula uma média geral de nossa variável independente, que nesse caso são os índices de suicídio por 100 mil habitantes. Depois, calculados o resíduo para cada valor Y, ou seja, a distância entre cada uma das taxas para a média geral, é montada uma árvore de decisão que prediz o resíduo para o Y, não o Y em si, a partir de todas as árvores formadas por esse conjunto. Vale ressaltar que quando há mais resíduos que folhas, é feita uma média de ambos, e que o parâmetro max-depth indica o número de divisões, ou seja folhas, em cada árvore."
   ]
  },
  {
   "cell_type": "markdown",
   "metadata": {},
   "source": [
    "Depois, esses erros são multiplicado por uma taxa, denominada Learning Rate, um parâmetro que força o modelo a fazer mais iterações quanto menor for, ou seja, aumenta a precisão do modelo quando diminui. Isso se dá porque ele define o quão importante será a árvore para a tomada de decisão, portanto se essa importância for pequena, o algoritmo precisará iterar mais vezes. Essa multiplicação é o que será somado a média, e  essa soma final é o valor predito de Y. O modelo fará esse processo de subtrair resíduos dos valores originais de Y com os valores novos preditos da última árvore formada, que serão novamente utilizados para formar uma nova árvore, e assim sucessivamente, até atingir o n_estimators máximo que é um parâmetro especificado pelo usuário. "
   ]
  },
  {
   "cell_type": "code",
   "execution_count": 26,
   "metadata": {},
   "outputs": [],
   "source": [
    "from sklearn.ensemble import GradientBoostingRegressor\n",
    "from sklearn.metrics import mean_squared_error\n",
    "from sklearn.datasets import load_boston\n",
    "from sklearn.metrics import mean_absolute_error\n"
   ]
  },
  {
   "cell_type": "code",
   "execution_count": 27,
   "metadata": {},
   "outputs": [
    {
     "data": {
      "text/plain": [
<<<<<<< HEAD
       "8.33477963301601"
=======
       "8.334779633016005"
>>>>>>> aad28e2814fe806928e73ec9dee5af3702053854
      ]
     },
     "execution_count": 27,
     "metadata": {},
     "output_type": "execute_result"
    }
   ],
   "source": [
    "\n",
    "regressor = GradientBoostingRegressor( max_depth=2,n_estimators=2, learning_rate=1.0)\n",
    "regressor.fit(X_train, y_train)\n",
    "y_pred = regressor.predict(X_test)\n",
    "mean_absolute_error(y_test, y_pred)"
   ]
  },
  {
   "cell_type": "markdown",
   "metadata": {},
   "source": [
    "Agora vamos tentar diminuir o Learning Rate, que corresponde a um fator que indica a importância de cada árvore para o resultado final, ou seja, quanto menor for maior o número de iterações e mais preciso será nosso modelo. Para diminuir ainda mais os erros e deixá-lo ainda mais preciso, vamos aumentar os parâmetros max-depth e n_estimator, que são o número de folhas e árvores, respectivamente."
   ]
  },
  {
   "cell_type": "code",
   "execution_count": 28,
   "metadata": {},
   "outputs": [
    {
     "data": {
      "text/plain": [
       "7.651390739532603"
      ]
     },
     "execution_count": 28,
     "metadata": {},
     "output_type": "execute_result"
    }
   ],
   "source": [
    "regressor = GradientBoostingRegressor( max_depth=4,n_estimators=4, learning_rate=0.5)\n",
    "regressor.fit(X_train, y_train)\n",
    "y_pred = regressor.predict(X_test)\n",
    "mean_absolute_error(y_test, y_pred)\n"
   ]
  },
  {
   "cell_type": "markdown",
   "metadata": {},
   "source": [
    "Podemos observar que nosso erro diminuiu de 8,3 para 7,6, uma vez que a mudança em nossos parâmetros fazem com que o modelo fique mais preciso. "
   ]
  },
  {
   "cell_type": "markdown",
   "metadata": {},
   "source": [
    "Se aplicarmos nosso modelo para a base de dados que não possui os outliars, ele provavelmente ficará com um erro menor ainda, como foi o caso da Regressão e do Forest Regression. Vamos testar:"
   ]
  },
  {
   "cell_type": "code",
   "execution_count": 29,
   "metadata": {},
   "outputs": [
    {
     "data": {
      "text/plain": [
       "6.566556174973814"
      ]
     },
     "execution_count": 29,
     "metadata": {},
     "output_type": "execute_result"
    }
   ],
   "source": [
    "regressor = GradientBoostingRegressor( max_depth=4,n_estimators=4, learning_rate=0.5)\n",
    "regressor.fit(X4_train, y4_train)\n",
    "y_pred = regressor.predict(X4_test)\n",
    "mean_absolute_error(y4_test, y_pred)\n"
   ]
  },
  {
   "cell_type": "markdown",
   "metadata": {},
   "source": [
    "Como esperado, o erro diminui bastante sem os outliars, e fica bem mais preciso, uma vez que há menos variação e discrepâcias dentro dos dados escolhidos."
   ]
  },
  {
   "cell_type": "code",
   "execution_count": null,
   "metadata": {},
   "outputs": [],
   "source": []
  },
  {
   "cell_type": "code",
   "execution_count": null,
   "metadata": {},
   "outputs": [],
   "source": []
  },
  {
   "cell_type": "markdown",
   "metadata": {},
   "source": [
    "# Conclusão"
   ]
  },
  {
   "cell_type": "markdown",
   "metadata": {},
   "source": [
    "Nossa pergunta inicial era como os índices de suicídio são afetados por Índice de Desenvolvimento Humano, PIB ber Capita, sexo, geração, idade. No nosso modelo mais preciso, e portanto provavelmente o que modela nossos dados da melhor forma (Gradient Boost Regression) ,temos que os features mais relevantes para a tomada de decisão, ou seja, os que possuem mais relevância para predizer o Índice de Suicídio são os seguintes, em ordem crescente:"
   ]
  },
  {
   "cell_type": "code",
   "execution_count": 30,
   "metadata": {},
   "outputs": [
    {
     "name": "stdout",
     "output_type": "stream",
     "text": [
      "[0.38595534 0.00811451 0.07211367 0.08775592 0.03575432 0.02707369\n",
      " 0.         0.         0.27961192 0.00489489 0.06313196 0.00330669\n",
      " 0.00639359 0.         0.         0.02589349 0.        ]\n"
     ]
    },
    {
     "data": {
      "text/plain": [
       "Text(0.5, 1.0, 'Feature Importance (MDI)')"
      ]
     },
     "execution_count": 30,
     "metadata": {},
     "output_type": "execute_result"
    },
    {
     "data": {
      "image/png": "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\n",
      "text/plain": [
       "<Figure size 864x432 with 1 Axes>"
      ]
     },
     "metadata": {
      "needs_background": "light"
     },
     "output_type": "display_data"
    }
   ],
   "source": [
    "feature_importance = regressor.feature_importances_\n",
    "print(feature_importance)\n",
    "sorted_idx = np.argsort(feature_importance)\n",
    "pos = np.arange(sorted_idx.shape[0]) + .5\n",
    "fig = plt.figure(figsize=(12, 6))\n",
    "plt.subplot(1, 2, 1)\n",
    "plt.barh(X4_train.columns[sorted_idx], feature_importance[sorted_idx], align='center')\n",
    "plt.title('Feature Importance (MDI)')\n",
    "\n"
   ]
  },
  {
   "cell_type": "markdown",
   "metadata": {},
   "source": [
    "Podemos concluir portanto, que o elemento que mais tem importância para determinar as taxas de suicídio de um país é o gênero, o que faz sentido, uma vez que se voltarmos a nossa Análise descritiva, esse era um fator muito importante, dado que quase 80% da população que se suicida é masculina. Outras variáveis importantes são Índice de desenvolvimento humano e idade, que também demonstraram relevância na análise descritiva."
   ]
  },
  {
   "cell_type": "markdown",
   "metadata": {},
   "source": [
    "# Modelo Interativo"
   ]
  },
  {
   "cell_type": "markdown",
   "metadata": {},
   "source": [
    "Agora vamos supor que você queira calcular a taxa de suicídio para um grupo de pessoas de mesmo sexo, ou para um indivíduo. O modelo a seguir permite que o usuário utilize os próprios dados para realizar esse cálculo, a partir do modelo que foi mais preciso e com menor erro (Gradient Boost Regressor). Para isso, deve-se ter os dados de gênero desse grupo ( se são homens ou mulheres), idade média, população do país aonde esse grupo mora, o Índice de Desenvolvimento e  PIB de seu país. Para o gênero, considere 0= mulher e 1=homem. "
   ]
  },
  {
   "cell_type": "code",
   "execution_count": 110,
   "metadata": {},
   "outputs": [
    {
     "data": {
      "text/html": [
       "<div>\n",
       "<style scoped>\n",
       "    .dataframe tbody tr th:only-of-type {\n",
       "        vertical-align: middle;\n",
       "    }\n",
       "\n",
       "    .dataframe tbody tr th {\n",
       "        vertical-align: top;\n",
       "    }\n",
       "\n",
       "    .dataframe thead th {\n",
       "        text-align: right;\n",
       "    }\n",
       "</style>\n",
       "<table border=\"1\" class=\"dataframe\">\n",
       "  <thead>\n",
       "    <tr style=\"text-align: right;\">\n",
       "      <th></th>\n",
       "      <th>sex</th>\n",
       "      <th>population</th>\n",
       "      <th>HDI</th>\n",
       "      <th>gdp_capita</th>\n",
       "      <th>15-24 years</th>\n",
       "      <th>25-34 years</th>\n",
       "      <th>35-54 years</th>\n",
       "      <th>5-14 years</th>\n",
       "      <th>55-74 years</th>\n",
       "      <th>75+ years</th>\n",
       "    </tr>\n",
       "  </thead>\n",
       "  <tbody>\n",
       "    <tr>\n",
       "      <th>72</th>\n",
       "      <td>1</td>\n",
       "      <td>232900</td>\n",
       "      <td>0.619</td>\n",
       "      <td>835</td>\n",
       "      <td>0</td>\n",
       "      <td>1</td>\n",
       "      <td>0</td>\n",
       "      <td>0</td>\n",
       "      <td>0</td>\n",
       "      <td>0</td>\n",
       "    </tr>\n",
       "    <tr>\n",
       "      <th>73</th>\n",
       "      <td>1</td>\n",
       "      <td>178000</td>\n",
       "      <td>0.619</td>\n",
       "      <td>835</td>\n",
       "      <td>0</td>\n",
       "      <td>0</td>\n",
       "      <td>0</td>\n",
       "      <td>0</td>\n",
       "      <td>1</td>\n",
       "      <td>0</td>\n",
       "    </tr>\n",
       "    <tr>\n",
       "      <th>74</th>\n",
       "      <td>0</td>\n",
       "      <td>40800</td>\n",
       "      <td>0.619</td>\n",
       "      <td>835</td>\n",
       "      <td>0</td>\n",
       "      <td>0</td>\n",
       "      <td>0</td>\n",
       "      <td>0</td>\n",
       "      <td>0</td>\n",
       "      <td>1</td>\n",
       "    </tr>\n",
       "    <tr>\n",
       "      <th>75</th>\n",
       "      <td>0</td>\n",
       "      <td>283500</td>\n",
       "      <td>0.619</td>\n",
       "      <td>835</td>\n",
       "      <td>1</td>\n",
       "      <td>0</td>\n",
       "      <td>0</td>\n",
       "      <td>0</td>\n",
       "      <td>0</td>\n",
       "      <td>0</td>\n",
       "    </tr>\n",
       "    <tr>\n",
       "      <th>76</th>\n",
       "      <td>1</td>\n",
       "      <td>241200</td>\n",
       "      <td>0.619</td>\n",
       "      <td>835</td>\n",
       "      <td>1</td>\n",
       "      <td>0</td>\n",
       "      <td>0</td>\n",
       "      <td>0</td>\n",
       "      <td>0</td>\n",
       "      <td>0</td>\n",
       "    </tr>\n",
       "  </tbody>\n",
       "</table>\n",
       "</div>"
      ],
      "text/plain": [
       "    sex  population    HDI  gdp_capita  15-24 years  25-34 years  35-54 years  \\\n",
       "72    1      232900  0.619         835            0            1            0   \n",
       "73    1      178000  0.619         835            0            0            0   \n",
       "74    0       40800  0.619         835            0            0            0   \n",
       "75    0      283500  0.619         835            1            0            0   \n",
       "76    1      241200  0.619         835            1            0            0   \n",
       "\n",
       "    5-14 years  55-74 years  75+ years  \n",
       "72           0            0          0  \n",
       "73           0            1          0  \n",
       "74           0            0          1  \n",
       "75           0            0          0  \n",
       "76           0            0          0  "
      ]
     },
     "execution_count": 110,
     "metadata": {},
     "output_type": "execute_result"
    }
   ],
   "source": [
    "df5= df[df['suicides_100k_pop']<85].copy()\n",
    "X5 = df5[[ 'sex','population','HDI',\n",
    "'gdp_capita']]\n",
    "X5 = X5.join(pd.get_dummies(df5['age']))\n",
    "Y5 = df5['suicides_100k_pop']\n",
    "X5.head()"
   ]
  },
  {
   "cell_type": "code",
   "execution_count": 117,
   "metadata": {},
   "outputs": [
    {
     "data": {
      "text/plain": [
       "GradientBoostingRegressor(alpha=0.9, criterion='friedman_mse', init=None,\n",
       "             learning_rate=0.5, loss='ls', max_depth=4, max_features=None,\n",
       "             max_leaf_nodes=None, min_impurity_decrease=0.0,\n",
       "             min_impurity_split=None, min_samples_leaf=1,\n",
       "             min_samples_split=2, min_weight_fraction_leaf=0.0,\n",
       "             n_estimators=4, n_iter_no_change=None, presort='auto',\n",
       "             random_state=None, subsample=1.0, tol=0.0001,\n",
       "             validation_fraction=0.1, verbose=0, warm_start=False)"
      ]
     },
     "execution_count": 117,
     "metadata": {},
     "output_type": "execute_result"
    }
   ],
   "source": [
    "X5_train, X5_test, y5_train, y5_test = train_test_split(\n",
    "X5, Y5, test_size=0.33, random_state=42)\n",
    "X5.head()\n",
    "regressor2 = GradientBoostingRegressor( max_depth=4,n_estimators=4, learning_rate=0.5)\n",
    "regressor2.fit(X5_train, y5_train)"
   ]
  },
  {
   "cell_type": "code",
<<<<<<< HEAD
   "execution_count": 193,
=======
   "execution_count": null,
   "metadata": {},
   "outputs": [],
   "source": []
  },
  {
   "cell_type": "code",
   "execution_count": 43,
>>>>>>> aad28e2814fe806928e73ec9dee5af3702053854
   "metadata": {},
   "outputs": [],
   "source": [
    "import ipywidgets as wid\n",
<<<<<<< HEAD
    "def classifica(sex,idade,populacao,HDI,gdp_capita):\n",
=======
    "def classifica(sex,year,HDI,gdp_capita,idade):\n",
>>>>>>> aad28e2814fe806928e73ec9dee5af3702053854
    "    dumb75=0\n",
    "    dumb5=0\n",
    "    dumb55=0\n",
    "    dumb24=0\n",
    "    dumb34=0\n",
    "    dumb14=0\n",
    "    if idade>=75:\n",
    "        dumb75=1\n",
    "    if idade>=5 and idade<=14:\n",
    "        dumb5=1\n",
    "    if idade>=15 and idade<=24:\n",
    "        dumb14=1\n",
    "    if idade>24 and idade<=35:\n",
    "        dumb24=1\n",
    "    if idade>35 and idade<55:\n",
    "        dumb34=1\n",
    "    if idade>=55 and idade<75:\n",
    "        dumb55=1\n",
    "    dt= {'sex':[sex],'populacao':[populacao],'HDI':[HDI],'gdp_capita':[gdp_capita],'15-24 years':[dumb14],'25-34 years':[dumb24],'35-54 years':[dumb34],'5-14 years':[dumb5], '55-74 years':[dumb55], '75+ years':[dumb75]}\n",
    "    X= pd.DataFrame(data=dt)\n",
    "    predicao=regressor2.predict(X)\n",
    "    print('A probabilidade de suicídio nesse caso é: {0}'.format(predicao))\n",
    "\n",
    "    \n",
<<<<<<< HEAD
    "    \n"
=======
    "    X= pd.DataFrame([sex,year,HDI,gdp_capita])\n",
    "    regressor.predict(X)\n",
    "    print(idade)"
>>>>>>> aad28e2814fe806928e73ec9dee5af3702053854
   ]
  },
  {
   "cell_type": "code",
<<<<<<< HEAD
   "execution_count": 190,
   "metadata": {},
   "outputs": [
    {
     "data": {
      "text/html": [
       "<div>\n",
       "<style scoped>\n",
       "    .dataframe tbody tr th:only-of-type {\n",
       "        vertical-align: middle;\n",
       "    }\n",
       "\n",
       "    .dataframe tbody tr th {\n",
       "        vertical-align: top;\n",
       "    }\n",
       "\n",
       "    .dataframe thead th {\n",
       "        text-align: right;\n",
       "    }\n",
       "</style>\n",
       "<table border=\"1\" class=\"dataframe\">\n",
       "  <thead>\n",
       "    <tr style=\"text-align: right;\">\n",
       "      <th></th>\n",
       "      <th>sex</th>\n",
       "      <th>population</th>\n",
       "      <th>HDI</th>\n",
       "      <th>gdp_capita</th>\n",
       "      <th>15-24 years</th>\n",
       "      <th>25-34 years</th>\n",
       "      <th>35-54 years</th>\n",
       "      <th>5-14 years</th>\n",
       "      <th>55-74 years</th>\n",
       "      <th>75+ years</th>\n",
       "    </tr>\n",
       "  </thead>\n",
       "  <tbody>\n",
       "    <tr>\n",
       "      <th>22158</th>\n",
       "      <td>1</td>\n",
       "      <td>358022</td>\n",
       "      <td>0.771</td>\n",
       "      <td>6662</td>\n",
       "      <td>0</td>\n",
       "      <td>0</td>\n",
       "      <td>0</td>\n",
       "      <td>1</td>\n",
       "      <td>0</td>\n",
       "      <td>0</td>\n",
       "    </tr>\n",
       "    <tr>\n",
       "      <th>12909</th>\n",
       "      <td>1</td>\n",
       "      <td>5785158</td>\n",
       "      <td>0.799</td>\n",
       "      <td>21625</td>\n",
       "      <td>0</td>\n",
       "      <td>0</td>\n",
       "      <td>0</td>\n",
       "      <td>0</td>\n",
       "      <td>1</td>\n",
       "      <td>0</td>\n",
       "    </tr>\n",
       "    <tr>\n",
       "      <th>10332</th>\n",
       "      <td>0</td>\n",
       "      <td>510970</td>\n",
       "      <td>0.867</td>\n",
       "      <td>27886</td>\n",
       "      <td>0</td>\n",
       "      <td>0</td>\n",
       "      <td>0</td>\n",
       "      <td>1</td>\n",
       "      <td>0</td>\n",
       "      <td>0</td>\n",
       "    </tr>\n",
       "    <tr>\n",
       "      <th>8039</th>\n",
       "      <td>0</td>\n",
       "      <td>863112</td>\n",
       "      <td>0.730</td>\n",
       "      <td>6769</td>\n",
       "      <td>0</td>\n",
       "      <td>0</td>\n",
       "      <td>0</td>\n",
       "      <td>0</td>\n",
       "      <td>1</td>\n",
       "      <td>0</td>\n",
       "    </tr>\n",
       "    <tr>\n",
       "      <th>13347</th>\n",
       "      <td>0</td>\n",
       "      <td>163081</td>\n",
       "      <td>0.727</td>\n",
       "      <td>5100</td>\n",
       "      <td>0</td>\n",
       "      <td>0</td>\n",
       "      <td>0</td>\n",
       "      <td>0</td>\n",
       "      <td>1</td>\n",
       "      <td>0</td>\n",
       "    </tr>\n",
       "  </tbody>\n",
       "</table>\n",
       "</div>"
      ],
      "text/plain": [
       "       sex  population    HDI  gdp_capita  15-24 years  25-34 years  \\\n",
       "22158    1      358022  0.771        6662            0            0   \n",
       "12909    1     5785158  0.799       21625            0            0   \n",
       "10332    0      510970  0.867       27886            0            0   \n",
       "8039     0      863112  0.730        6769            0            0   \n",
       "13347    0      163081  0.727        5100            0            0   \n",
       "\n",
       "       35-54 years  5-14 years  55-74 years  75+ years  \n",
       "22158            0           1            0          0  \n",
       "12909            0           0            1          0  \n",
       "10332            0           1            0          0  \n",
       "8039             0           0            1          0  \n",
       "13347            0           0            1          0  "
      ]
     },
     "execution_count": 190,
     "metadata": {},
     "output_type": "execute_result"
=======
   "execution_count": 44,
   "metadata": {},
   "outputs": [
    {
     "ename": "NameError",
     "evalue": "name 'X_train' is not defined",
     "output_type": "error",
     "traceback": [
      "\u001b[1;31m---------------------------------------------------------------------------\u001b[0m",
      "\u001b[1;31mNameError\u001b[0m                                 Traceback (most recent call last)",
      "\u001b[1;32m<ipython-input-44-73020798007e>\u001b[0m in \u001b[0;36m<module>\u001b[1;34m\u001b[0m\n\u001b[1;32m----> 1\u001b[1;33m \u001b[0mX_train\u001b[0m\u001b[1;33m.\u001b[0m\u001b[0mhead\u001b[0m\u001b[1;33m(\u001b[0m\u001b[1;33m)\u001b[0m\u001b[1;33m\u001b[0m\u001b[1;33m\u001b[0m\u001b[0m\n\u001b[0m",
      "\u001b[1;31mNameError\u001b[0m: name 'X_train' is not defined"
     ]
    }
   ],
   "source": [
    "X_train.head()"
   ]
  },
  {
   "cell_type": "code",
   "execution_count": 46,
   "metadata": {},
   "outputs": [
    {
     "ename": "AttributeError",
     "evalue": "module 'ipywidgets' has no attribute 'floatSlider'",
     "output_type": "error",
     "traceback": [
      "\u001b[1;31m---------------------------------------------------------------------------\u001b[0m",
      "\u001b[1;31mAttributeError\u001b[0m                            Traceback (most recent call last)",
      "\u001b[1;32m<ipython-input-46-e882351869d1>\u001b[0m in \u001b[0;36m<module>\u001b[1;34m\u001b[0m\n\u001b[0;32m      2\u001b[0m \u001b[0mw\u001b[0m \u001b[1;33m=\u001b[0m \u001b[0mwid\u001b[0m\u001b[1;33m.\u001b[0m\u001b[0mIntSlider\u001b[0m\u001b[1;33m(\u001b[0m\u001b[1;33m)\u001b[0m\u001b[1;33m\u001b[0m\u001b[1;33m\u001b[0m\u001b[0m\n\u001b[0;32m      3\u001b[0m \u001b[0my\u001b[0m\u001b[1;33m=\u001b[0m\u001b[0mwid\u001b[0m\u001b[1;33m.\u001b[0m\u001b[0mIntSlider\u001b[0m\u001b[1;33m(\u001b[0m\u001b[1;33m)\u001b[0m\u001b[1;33m\u001b[0m\u001b[1;33m\u001b[0m\u001b[0m\n\u001b[1;32m----> 4\u001b[1;33m \u001b[0mhdi\u001b[0m\u001b[1;33m=\u001b[0m \u001b[0mwid\u001b[0m\u001b[1;33m.\u001b[0m\u001b[0mfloatSlider\u001b[0m\u001b[1;33m(\u001b[0m\u001b[1;33m)\u001b[0m\u001b[1;33m\u001b[0m\u001b[1;33m\u001b[0m\u001b[0m\n\u001b[0m\u001b[0;32m      5\u001b[0m \u001b[0mgd\u001b[0m\u001b[1;33m=\u001b[0m\u001b[0mwid\u001b[0m\u001b[1;33m.\u001b[0m\u001b[0mfloatSlider\u001b[0m\u001b[1;33m(\u001b[0m\u001b[1;33m)\u001b[0m\u001b[1;33m\u001b[0m\u001b[1;33m\u001b[0m\u001b[0m\n\u001b[0;32m      6\u001b[0m \u001b[0midade\u001b[0m\u001b[1;33m=\u001b[0m\u001b[0mwid\u001b[0m\u001b[1;33m.\u001b[0m\u001b[0mintSlider\u001b[0m\u001b[1;33m(\u001b[0m\u001b[1;33m)\u001b[0m\u001b[1;33m\u001b[0m\u001b[1;33m\u001b[0m\u001b[0m\n",
      "\u001b[1;31mAttributeError\u001b[0m: module 'ipywidgets' has no attribute 'floatSlider'"
     ]
>>>>>>> aad28e2814fe806928e73ec9dee5af3702053854
    }
   ],
   "source": [
    "X5_train.head()"
   ]
  },
  {
   "cell_type": "code",
   "execution_count": 194,
   "metadata": {},
   "outputs": [],
   "source": [
    "from IPython.display import display\n",
<<<<<<< HEAD
    "w = wid.IntSlider(min=0,max=1,step=1) #lembrando que 1=homem e 0=mulher\n",
    "hdi= wid.FloatSlider(min=0,max=1,step=0.001)\n",
    "gd=wid.IntSlider(min=1000,max=100000,step=1)\n",
    "y=wid.IntSlider(min=5,max=100,step=1)\n",
    "pop= wid.IntSlider(min=0,max=2000000000,step=1)"
=======
    "w = wid.IntSlider()\n",
    "y=wid.IntSlider()\n",
    "hdi= wid.floatSlider()\n",
    "gd=wid.floatSlider()\n",
    "idade=wid.intSlider()\n",
    "\n",
    "display(w)\n"
>>>>>>> aad28e2814fe806928e73ec9dee5af3702053854
   ]
  },
  {
   "cell_type": "code",
<<<<<<< HEAD
   "execution_count": 195,
=======
   "execution_count": 33,
>>>>>>> aad28e2814fe806928e73ec9dee5af3702053854
   "metadata": {},
   "outputs": [
    {
     "data": {
      "application/vnd.jupyter.widget-view+json": {
<<<<<<< HEAD
       "model_id": "6abaee4e4ced4ed3a9ef56ce57d8aac7",
=======
       "model_id": "7046f9f7dbfe49939676d13b50a370ee",
>>>>>>> aad28e2814fe806928e73ec9dee5af3702053854
       "version_major": 2,
       "version_minor": 0
      },
      "text/plain": [
       "interactive(children=(IntSlider(value=0, description='sex', max=1), IntSlider(value=5, description='idade', mi…"
      ]
     },
     "metadata": {},
     "output_type": "display_data"
<<<<<<< HEAD
=======
    },
    {
     "data": {
      "text/plain": [
       "<function __main__.classifica(idade, HDI)>"
      ]
     },
     "execution_count": 33,
     "metadata": {},
     "output_type": "execute_result"
>>>>>>> aad28e2814fe806928e73ec9dee5af3702053854
    }
   ],
   "source": [
    "wid.interact(classifica,\n",
<<<<<<< HEAD
    "            sex=w,HDI=hdi,gdp_capita=gd,idade=y,populacao=pop);"
=======
    "            sex=w,year=y,HDI=hdi,gdp_capital=gd)"
>>>>>>> aad28e2814fe806928e73ec9dee5af3702053854
   ]
  },
  {
   "cell_type": "code",
   "execution_count": null,
   "metadata": {},
   "outputs": [],
   "source": []
  },
  {
   "cell_type": "markdown",
   "metadata": {},
   "source": [
    "## Bibliografia"
   ]
  },
  {
   "cell_type": "markdown",
   "metadata": {},
   "source": [
    "https://theculturetrip.com/europe/lithuania/articles/this-country-has-among-the-highest-suicide-rates-in-the-world/"
   ]
  },
  {
   "cell_type": "markdown",
   "metadata": {},
   "source": [
    "Slides da aula 22 e 23 de Ciência dos Dados"
   ]
  },
  {
   "cell_type": "markdown",
   "metadata": {},
   "source": [
    "#### Montegomery e Runger (2018), Seção 11-2"
   ]
  },
  {
   "cell_type": "code",
   "execution_count": null,
   "metadata": {},
   "outputs": [],
   "source": []
  },
  {
   "cell_type": "code",
   "execution_count": null,
   "metadata": {},
   "outputs": [],
   "source": []
  }
 ],
 "metadata": {
  "kernelspec": {
   "display_name": "Python 3",
   "language": "python",
   "name": "python3"
  },
  "language_info": {
   "codemirror_mode": {
    "name": "ipython",
    "version": 3
   },
   "file_extension": ".py",
   "mimetype": "text/x-python",
   "name": "python",
   "nbconvert_exporter": "python",
   "pygments_lexer": "ipython3",
   "version": "3.7.3"
  }
 },
 "nbformat": 4,
 "nbformat_minor": 2
}
