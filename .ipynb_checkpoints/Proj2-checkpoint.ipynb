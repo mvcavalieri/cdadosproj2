{
 "cells": [
  {
   "cell_type": "markdown",
   "metadata": {},
   "source": [
    "#                                 Projeto 2- Ciência dos Dados\n"
   ]
  },
  {
   "cell_type": "markdown",
   "metadata": {},
   "source": [
    "##### Como os índices de suicídio são afetados por Índice de Desenvolvimento Humano, PIB ber Capita, sexo, geração, idade e país\n",
    "Maria Victória Cavalieri e Laura Perim"
   ]
  },
  {
   "cell_type": "markdown",
   "metadata": {},
   "source": [
    "## Introdução"
   ]
  },
  {
   "cell_type": "markdown",
   "metadata": {},
   "source": [
    "Na atualidade, um dos assuntos mais comentados e discutidos é o suicídio. O intuito principal desse projeto é analisar uma base de dados que contém a variação da taxa de suicídios dentre diversos países, desde 10985"
   ]
  },
  {
   "cell_type": "markdown",
   "metadata": {},
   "source": [
    "## 1- Importando e limpando os dados\n",
    "Ness etapa, importamos a base de dados obtida no Kaggle, e a limpamos para podermos analisá-la com grau elevado de autonomia."
   ]
  },
  {
   "cell_type": "code",
   "execution_count": null,
   "metadata": {},
   "outputs": [],
   "source": []
  },
  {
   "cell_type": "code",
   "execution_count": 8,
   "metadata": {},
   "outputs": [],
   "source": [
    "%matplotlib notebook\n",
    "%matplotlib inline\n",
    "%reset -f\n",
    "from sklearn.model_selection import train_test_split\n",
    "from scipy import stats\n",
    "import pandas as pd\n",
    "import numpy as np\n",
    "from scipy.stats import norm, probplot\n",
    "import statsmodels.api as sm\n",
    "import matplotlib.pyplot as plt\n",
    "from mpl_toolkits.mplot3d import Axes3D\n"
   ]
  },
  {
   "cell_type": "markdown",
   "metadata": {},
   "source": []
  },
  {
   "cell_type": "code",
   "execution_count": 9,
   "metadata": {},
   "outputs": [
    {
     "data": {
      "text/html": [
       "<div>\n",
       "<style scoped>\n",
       "    .dataframe tbody tr th:only-of-type {\n",
       "        vertical-align: middle;\n",
       "    }\n",
       "\n",
       "    .dataframe tbody tr th {\n",
       "        vertical-align: top;\n",
       "    }\n",
       "\n",
       "    .dataframe thead th {\n",
       "        text-align: right;\n",
       "    }\n",
       "</style>\n",
       "<table border=\"1\" class=\"dataframe\">\n",
       "  <thead>\n",
       "    <tr style=\"text-align: right;\">\n",
       "      <th></th>\n",
       "      <th>country</th>\n",
       "      <th>year</th>\n",
       "      <th>sex</th>\n",
       "      <th>age</th>\n",
       "      <th>suicides_no</th>\n",
       "      <th>population</th>\n",
       "      <th>suicides_100k_pop</th>\n",
       "      <th>country-year</th>\n",
       "      <th>HDI</th>\n",
       "      <th>gdp_for_year ($)</th>\n",
       "      <th>gdp_capita</th>\n",
       "      <th>generation</th>\n",
       "    </tr>\n",
       "  </thead>\n",
       "  <tbody>\n",
       "    <tr>\n",
       "      <th>0</th>\n",
       "      <td>Albania</td>\n",
       "      <td>1987</td>\n",
       "      <td>male</td>\n",
       "      <td>15-24 years</td>\n",
       "      <td>21</td>\n",
       "      <td>312900</td>\n",
       "      <td>6.71</td>\n",
       "      <td>Albania1987</td>\n",
       "      <td>NaN</td>\n",
       "      <td>2,156,624,900</td>\n",
       "      <td>796</td>\n",
       "      <td>Generation X</td>\n",
       "    </tr>\n",
       "    <tr>\n",
       "      <th>1</th>\n",
       "      <td>Albania</td>\n",
       "      <td>1987</td>\n",
       "      <td>male</td>\n",
       "      <td>35-54 years</td>\n",
       "      <td>16</td>\n",
       "      <td>308000</td>\n",
       "      <td>5.19</td>\n",
       "      <td>Albania1987</td>\n",
       "      <td>NaN</td>\n",
       "      <td>2,156,624,900</td>\n",
       "      <td>796</td>\n",
       "      <td>Silent</td>\n",
       "    </tr>\n",
       "    <tr>\n",
       "      <th>2</th>\n",
       "      <td>Albania</td>\n",
       "      <td>1987</td>\n",
       "      <td>female</td>\n",
       "      <td>15-24 years</td>\n",
       "      <td>14</td>\n",
       "      <td>289700</td>\n",
       "      <td>4.83</td>\n",
       "      <td>Albania1987</td>\n",
       "      <td>NaN</td>\n",
       "      <td>2,156,624,900</td>\n",
       "      <td>796</td>\n",
       "      <td>Generation X</td>\n",
       "    </tr>\n",
       "    <tr>\n",
       "      <th>3</th>\n",
       "      <td>Albania</td>\n",
       "      <td>1987</td>\n",
       "      <td>male</td>\n",
       "      <td>75+ years</td>\n",
       "      <td>1</td>\n",
       "      <td>21800</td>\n",
       "      <td>4.59</td>\n",
       "      <td>Albania1987</td>\n",
       "      <td>NaN</td>\n",
       "      <td>2,156,624,900</td>\n",
       "      <td>796</td>\n",
       "      <td>G.I. Generation</td>\n",
       "    </tr>\n",
       "    <tr>\n",
       "      <th>4</th>\n",
       "      <td>Albania</td>\n",
       "      <td>1987</td>\n",
       "      <td>male</td>\n",
       "      <td>25-34 years</td>\n",
       "      <td>9</td>\n",
       "      <td>274300</td>\n",
       "      <td>3.28</td>\n",
       "      <td>Albania1987</td>\n",
       "      <td>NaN</td>\n",
       "      <td>2,156,624,900</td>\n",
       "      <td>796</td>\n",
       "      <td>Boomers</td>\n",
       "    </tr>\n",
       "  </tbody>\n",
       "</table>\n",
       "</div>"
      ],
      "text/plain": [
       "   country  year     sex          age  suicides_no  population  \\\n",
       "0  Albania  1987    male  15-24 years           21      312900   \n",
       "1  Albania  1987    male  35-54 years           16      308000   \n",
       "2  Albania  1987  female  15-24 years           14      289700   \n",
       "3  Albania  1987    male    75+ years            1       21800   \n",
       "4  Albania  1987    male  25-34 years            9      274300   \n",
       "\n",
       "   suicides_100k_pop country-year  HDI  gdp_for_year ($)   gdp_capita  \\\n",
       "0               6.71  Albania1987  NaN      2,156,624,900         796   \n",
       "1               5.19  Albania1987  NaN      2,156,624,900         796   \n",
       "2               4.83  Albania1987  NaN      2,156,624,900         796   \n",
       "3               4.59  Albania1987  NaN      2,156,624,900         796   \n",
       "4               3.28  Albania1987  NaN      2,156,624,900         796   \n",
       "\n",
       "        generation  \n",
       "0     Generation X  \n",
       "1           Silent  \n",
       "2     Generation X  \n",
       "3  G.I. Generation  \n",
       "4          Boomers  "
      ]
     },
     "execution_count": 9,
     "metadata": {},
     "output_type": "execute_result"
    }
   ],
   "source": [
    " #Abrindo o documento e renomeando as colunas de alguns elementos das colunas\n",
    "dados= pd.read_csv('suicide_.csv')\n",
    "dados.rename(columns={'gdp_per_capita ($)':'gdp_capita'}, inplace=True)\n",
    "dados.rename(columns={'HDI for year':'HDI'}, inplace=True)\n",
    "dados.rename(columns={'suicides/100k pop' :'suicides_100k_pop'}, inplace=True)\n",
    "dados.head()"
   ]
  },
  {
   "cell_type": "code",
   "execution_count": 10,
   "metadata": {},
   "outputs": [],
   "source": [
    "def regress(X,Y):\n",
    "    '''\n",
    "    X: coluna(s) do DataFrame que serão utilizadas como variável(is) preditoras/explicativas (independente(s))\n",
    "    Y: coluna do DataFrame que será utilizada como variável resposta (dependente)\n",
    "    '''\n",
    "    X_cp = sm.add_constant(X)\n",
    "    model = sm.OLS(Y,X_cp)\n",
    "    results = model.fit()\n",
    "    return results\n",
    "df = dados[[ 'year', 'sex', 'age','suicides_100k_pop', 'population','HDI',\n",
    "'gdp_capita','generation']].dropna()\n"
   ]
  },
  {
   "cell_type": "code",
   "execution_count": 11,
   "metadata": {},
   "outputs": [
    {
     "data": {
      "text/html": [
       "<div>\n",
       "<style scoped>\n",
       "    .dataframe tbody tr th:only-of-type {\n",
       "        vertical-align: middle;\n",
       "    }\n",
       "\n",
       "    .dataframe tbody tr th {\n",
       "        vertical-align: top;\n",
       "    }\n",
       "\n",
       "    .dataframe thead th {\n",
       "        text-align: right;\n",
       "    }\n",
       "</style>\n",
       "<table border=\"1\" class=\"dataframe\">\n",
       "  <thead>\n",
       "    <tr style=\"text-align: right;\">\n",
       "      <th></th>\n",
       "      <th>year</th>\n",
       "      <th>suicides_100k_pop</th>\n",
       "      <th>population</th>\n",
       "      <th>HDI</th>\n",
       "      <th>gdp_capita</th>\n",
       "    </tr>\n",
       "  </thead>\n",
       "  <tbody>\n",
       "    <tr>\n",
       "      <th>count</th>\n",
       "      <td>8364.000000</td>\n",
       "      <td>8364.000000</td>\n",
       "      <td>8.364000e+03</td>\n",
       "      <td>8364.000000</td>\n",
       "      <td>8364.000000</td>\n",
       "    </tr>\n",
       "    <tr>\n",
       "      <th>mean</th>\n",
       "      <td>2005.348637</td>\n",
       "      <td>11.991936</td>\n",
       "      <td>1.852173e+06</td>\n",
       "      <td>0.776601</td>\n",
       "      <td>21074.371593</td>\n",
       "    </tr>\n",
       "    <tr>\n",
       "      <th>std</th>\n",
       "      <td>8.803020</td>\n",
       "      <td>17.361772</td>\n",
       "      <td>3.969754e+06</td>\n",
       "      <td>0.093367</td>\n",
       "      <td>22579.186968</td>\n",
       "    </tr>\n",
       "    <tr>\n",
       "      <th>min</th>\n",
       "      <td>1985.000000</td>\n",
       "      <td>0.000000</td>\n",
       "      <td>8.750000e+02</td>\n",
       "      <td>0.483000</td>\n",
       "      <td>313.000000</td>\n",
       "    </tr>\n",
       "    <tr>\n",
       "      <th>25%</th>\n",
       "      <td>2000.000000</td>\n",
       "      <td>1.040000</td>\n",
       "      <td>1.216425e+05</td>\n",
       "      <td>0.713000</td>\n",
       "      <td>4862.000000</td>\n",
       "    </tr>\n",
       "    <tr>\n",
       "      <th>50%</th>\n",
       "      <td>2010.000000</td>\n",
       "      <td>5.720000</td>\n",
       "      <td>4.722505e+05</td>\n",
       "      <td>0.779000</td>\n",
       "      <td>12584.000000</td>\n",
       "    </tr>\n",
       "    <tr>\n",
       "      <th>75%</th>\n",
       "      <td>2012.000000</td>\n",
       "      <td>15.442500</td>\n",
       "      <td>1.500290e+06</td>\n",
       "      <td>0.855000</td>\n",
       "      <td>30271.000000</td>\n",
       "    </tr>\n",
       "    <tr>\n",
       "      <th>max</th>\n",
       "      <td>2014.000000</td>\n",
       "      <td>187.060000</td>\n",
       "      <td>4.350934e+07</td>\n",
       "      <td>0.944000</td>\n",
       "      <td>126352.000000</td>\n",
       "    </tr>\n",
       "  </tbody>\n",
       "</table>\n",
       "</div>"
      ],
      "text/plain": [
       "              year  suicides_100k_pop    population          HDI  \\\n",
       "count  8364.000000        8364.000000  8.364000e+03  8364.000000   \n",
       "mean   2005.348637          11.991936  1.852173e+06     0.776601   \n",
       "std       8.803020          17.361772  3.969754e+06     0.093367   \n",
       "min    1985.000000           0.000000  8.750000e+02     0.483000   \n",
       "25%    2000.000000           1.040000  1.216425e+05     0.713000   \n",
       "50%    2010.000000           5.720000  4.722505e+05     0.779000   \n",
       "75%    2012.000000          15.442500  1.500290e+06     0.855000   \n",
       "max    2014.000000         187.060000  4.350934e+07     0.944000   \n",
       "\n",
       "          gdp_capita  \n",
       "count    8364.000000  \n",
       "mean    21074.371593  \n",
       "std     22579.186968  \n",
       "min       313.000000  \n",
       "25%      4862.000000  \n",
       "50%     12584.000000  \n",
       "75%     30271.000000  \n",
       "max    126352.000000  "
      ]
     },
     "execution_count": 11,
     "metadata": {},
     "output_type": "execute_result"
    }
   ],
   "source": [
    "df.describe()"
   ]
  },
  {
   "cell_type": "markdown",
   "metadata": {},
   "source": [
    "## 2- Preparando os dados para análise\n",
    "Aqui, tivemos que substituir palavras ( variáveis qualitativas) por binários, como 1= homem e 0=mulher. Isso será feito mais pra frente com os países e com as faixa etárias, que se tornarão variáveis denominadas \"dummies\". Basicamente elas também se tornam variáveis binárias, mas como há mais de uma categoria, só uma torna-se 1, enquanto todo o resto se torna 0 a cada linha."
   ]
  },
  {
   "cell_type": "code",
   "execution_count": 12,
   "metadata": {},
   "outputs": [
    {
     "data": {
      "text/html": [
       "<div>\n",
       "<style scoped>\n",
       "    .dataframe tbody tr th:only-of-type {\n",
       "        vertical-align: middle;\n",
       "    }\n",
       "\n",
       "    .dataframe tbody tr th {\n",
       "        vertical-align: top;\n",
       "    }\n",
       "\n",
       "    .dataframe thead th {\n",
       "        text-align: right;\n",
       "    }\n",
       "</style>\n",
       "<table border=\"1\" class=\"dataframe\">\n",
       "  <thead>\n",
       "    <tr style=\"text-align: right;\">\n",
       "      <th></th>\n",
       "      <th>year</th>\n",
       "      <th>sex</th>\n",
       "      <th>age</th>\n",
       "      <th>suicides_100k_pop</th>\n",
       "      <th>population</th>\n",
       "      <th>HDI</th>\n",
       "      <th>gdp_capita</th>\n",
       "      <th>generation</th>\n",
       "    </tr>\n",
       "  </thead>\n",
       "  <tbody>\n",
       "    <tr>\n",
       "      <th>72</th>\n",
       "      <td>1995</td>\n",
       "      <td>1</td>\n",
       "      <td>25-34 years</td>\n",
       "      <td>5.58</td>\n",
       "      <td>232900</td>\n",
       "      <td>0.619</td>\n",
       "      <td>835</td>\n",
       "      <td>Generation X</td>\n",
       "    </tr>\n",
       "    <tr>\n",
       "      <th>73</th>\n",
       "      <td>1995</td>\n",
       "      <td>1</td>\n",
       "      <td>55-74 years</td>\n",
       "      <td>5.06</td>\n",
       "      <td>178000</td>\n",
       "      <td>0.619</td>\n",
       "      <td>835</td>\n",
       "      <td>Silent</td>\n",
       "    </tr>\n",
       "    <tr>\n",
       "      <th>74</th>\n",
       "      <td>1995</td>\n",
       "      <td>0</td>\n",
       "      <td>75+ years</td>\n",
       "      <td>4.90</td>\n",
       "      <td>40800</td>\n",
       "      <td>0.619</td>\n",
       "      <td>835</td>\n",
       "      <td>G.I. Generation</td>\n",
       "    </tr>\n",
       "    <tr>\n",
       "      <th>75</th>\n",
       "      <td>1995</td>\n",
       "      <td>0</td>\n",
       "      <td>15-24 years</td>\n",
       "      <td>4.59</td>\n",
       "      <td>283500</td>\n",
       "      <td>0.619</td>\n",
       "      <td>835</td>\n",
       "      <td>Generation X</td>\n",
       "    </tr>\n",
       "    <tr>\n",
       "      <th>76</th>\n",
       "      <td>1995</td>\n",
       "      <td>1</td>\n",
       "      <td>15-24 years</td>\n",
       "      <td>4.56</td>\n",
       "      <td>241200</td>\n",
       "      <td>0.619</td>\n",
       "      <td>835</td>\n",
       "      <td>Generation X</td>\n",
       "    </tr>\n",
       "  </tbody>\n",
       "</table>\n",
       "</div>"
      ],
      "text/plain": [
       "    year  sex          age  suicides_100k_pop  population    HDI  gdp_capita  \\\n",
       "72  1995    1  25-34 years               5.58      232900  0.619         835   \n",
       "73  1995    1  55-74 years               5.06      178000  0.619         835   \n",
       "74  1995    0    75+ years               4.90       40800  0.619         835   \n",
       "75  1995    0  15-24 years               4.59      283500  0.619         835   \n",
       "76  1995    1  15-24 years               4.56      241200  0.619         835   \n",
       "\n",
       "         generation  \n",
       "72     Generation X  \n",
       "73           Silent  \n",
       "74  G.I. Generation  \n",
       "75     Generation X  \n",
       "76     Generation X  "
      ]
     },
     "execution_count": 12,
     "metadata": {},
     "output_type": "execute_result"
    }
   ],
   "source": [
    "#Separando os sexos masculinos e femininos para a análise de dados, e os nomeando com variáveis binárias para utilizar a função de regressão\n",
    "df.loc[df.sex == 'male', 'sex'] = 1\n",
    "df.loc[df.sex == 'female', 'sex'] = 0\n",
    "df.sex = df.sex.astype('int')\n",
    "df.head()"
   ]
  },
  {
   "cell_type": "markdown",
   "metadata": {},
   "source": [
    "## 3- Análise descritiva\n",
    "Vamos começar fazendo algumas análises básicas dos dados como correlação entre elas. A correlação é um índice que varia de -1 a 1 e indica o quanto uma variável depende da outra. Se a correlação for muito alta, isso pode atrapalhar na análise de regressão. "
   ]
  },
  {
   "cell_type": "code",
   "execution_count": 13,
   "metadata": {},
   "outputs": [
    {
     "name": "stdout",
     "output_type": "stream",
     "text": [
      "                   suicides_100k_pop  population       HDI  gdp_capita\n",
      "suicides_100k_pop           1.000000   -0.023197  0.074279   -0.002339\n",
      "population                 -0.023197    1.000000  0.102943    0.073701\n",
      "HDI                         0.074279    0.102943  1.000000    0.771228\n",
      "gdp_capita                 -0.002339    0.073701  0.771228    1.000000\n"
     ]
    },
    {
     "data": {
      "image/png": "[encoded data removed]",
      "text/plain": [
       "<Figure size 432x288 with 2 Axes>"
      ]
     },
     "metadata": {
      "needs_background": "light"
     },
     "output_type": "display_data"
    }
   ],
   "source": [
    "#Calculando a correlação entre anguns dados da tabela,  e calculando a média entre as faixas etárias \n",
    "df2= df[['suicides_100k_pop', 'population','HDI',\n",
    "'gdp_capita']]\n",
    "correlacao= df2.corr()\n",
    "print(correlacao)\n",
    "import seaborn\n",
    "\n",
    "plt.figure()\n",
    "seaborn.heatmap(df2.corr(), annot=True)\n",
    "plt.show()"
   ]
  },
  {
   "cell_type": "markdown",
   "metadata": {},
   "source": [
    "Apesar de algumas correlações serem razoavelmente altas, como HDI (Índice de desenvolvimento humano) e GDP ( PIB per capita), \n",
    "vamos considerar todas as variáveis como possíveis influentes em nossa análise. Definimos que se a correlção superasse 0,8, ela seria\n",
    "desconsiderada da análise, mas não houve nenhum caso assim."
   ]
  },
  {
   "cell_type": "markdown",
   "metadata": {},
   "source": [
    "Agora, vamos analisar como a média da taxa de suicídios se distribui para cada faixa etária. Para isso, plotaremos um histograma\n",
    "que combina essa média com cada idade representada."
   ]
  },
  {
   "cell_type": "markdown",
   "metadata": {},
   "source": [
    "### Analisando os dados por idade"
   ]
  },
  {
   "cell_type": "code",
   "execution_count": 29,
   "metadata": {},
   "outputs": [
    {
     "data": {
      "image/png": "[encoded data removed]",
      "text/plain": [
       "<Figure size 504x504 with 1 Axes>"
      ]
     },
     "metadata": {
      "needs_background": "light"
     },
     "output_type": "display_data"
    },
    {
     "name": "stdout",
     "output_type": "stream",
     "text": [
      "age\n",
      "15-24 years     8.651736\n",
      "25-34 years    11.467518\n",
      "35-54 years    14.116133\n",
      "5-14 years      0.628623\n",
      "55-74 years    15.143006\n",
      "75+ years      21.944598\n",
      "Name: suicides_100k_pop, dtype: float64\n"
     ]
    },
    {
     "data": {
      "text/plain": [
       "sex\n",
       "0     4.937198\n",
       "1    19.046674\n",
       "Name: suicides_100k_pop, dtype: float64"
      ]
     },
     "execution_count": 29,
     "metadata": {},
     "output_type": "execute_result"
    }
   ],
   "source": [
    "\n",
    "media_gender= df.suicides_100k_pop.groupby(by=df.age).mean()\n",
    "plt.figure(figsize=(7,7))\n",
    "media_gender.plot.bar(rot=45)\n",
    "plt.xlabel(\"Years\",fontsize=10)\n",
    "plt.ylabel(\"Suicide rate per 100k\")\n",
    "plt.title('Suicide rate over age groups')\n",
    "plt.show()\n",
    "\n",
    "print(media_gender)\n",
    "df.suicides_100k_pop.groupby(by=df.sex).mean()"
   ]
  },
  {
   "cell_type": "code",
   "execution_count": null,
   "metadata": {},
   "outputs": [],
   "source": [
    "years= [\"15-24 years\",\"25-34 years\",\"35-54 years\", \"5-14 years\",\"55-74 years\", \"75+ years\"]\n",
    "plt.figure()\n",
    "plt.pie(media_gender,labels=years,autopct='%1.1f%%')\n",
    "plt.title(\"Suicide rates by age\")"
   ]
  },
  {
   "cell_type": "markdown",
   "metadata": {},
   "source": [
    "Podemos observar que a menor taxa se encontra entre crianças de 5-14 anos, e que a maior encontrasse na faixa de 75+ anos. Também podemos observar que as faixas de 35-54\n",
    "e 55-74 anos são bem próximas."
   ]
  },
  {
   "cell_type": "code",
   "execution_count": null,
   "metadata": {},
   "outputs": [],
   "source": []
  },
  {
   "cell_type": "markdown",
   "metadata": {},
   "source": []
  },
  {
   "cell_type": "code",
   "execution_count": null,
   "metadata": {},
   "outputs": [],
   "source": []
  },
  {
   "cell_type": "markdown",
   "metadata": {},
   "source": [
    "### Analisando os dados por sexo"
   ]
  },
  {
   "cell_type": "code",
   "execution_count": 15,
   "metadata": {},
   "outputs": [
    {
     "data": {
      "image/png": "[encoded data removed]",
      "text/plain": [
       "<Figure size 504x504 with 1 Axes>"
      ]
     },
     "metadata": {},
     "output_type": "display_data"
    },
    {
     "data": {
      "text/plain": [
       "<bound method NDFrame.describe of sex\n",
       "0     4.937198\n",
       "1    19.046674\n",
       "Name: suicides_100k_pop, dtype: float64>"
      ]
     },
     "execution_count": 15,
     "metadata": {},
     "output_type": "execute_result"
    }
   ],
   "source": [
    "media= df.suicides_100k_pop.groupby(by=df.sex).mean()\n",
    "plt.figure(figsize=(7,7))\n",
    "labels= [\"Women\",\"Men\"]\n",
    "plt.pie(media,labels=labels,autopct='%1.1f%%')\n",
    "plt.title('Suicide rate over gender')\n",
    "plt.show()\n",
    "media.describe"
   ]
  },
  {
   "cell_type": "markdown",
   "metadata": {},
   "source": [
    "Observa-se que o fator de sexo é um grande influenciador nas taxas de suicídio, uma vez que as mulheres possuem uma taxa consideravelmente menor em relação aos homens."
   ]
  },
  {
   "cell_type": "markdown",
   "metadata": {},
   "source": [
    "### Plotando um histograma para analisar a média por país\n",
    "Agora vamos analisar como a taxa média de suicídios se distribui para cada país."
   ]
  },
  {
   "cell_type": "code",
   "execution_count": 16,
   "metadata": {},
   "outputs": [
    {
     "data": {
      "image/png": "[encoded data removed]",
      "text/plain": [
       "<Figure size 1440x360 with 1 Axes>"
      ]
     },
     "metadata": {
      "needs_background": "light"
     },
     "output_type": "display_data"
    }
   ],
   "source": [
    "df_pais = dados[[ 'country','year', 'sex', 'age','suicides_100k_pop', 'population','HDI',\n",
    "'gdp_capita','generation']]\n",
    "mediaporpais=country_relevance= df_pais.suicides_100k_pop.groupby(by=df_pais.country).mean()\n",
    "plt.figure(figsize=(20,5))\n",
    "mediaporpais.plot.bar()\n",
    "plt.xlabel('Country')\n",
    "plt.ylabel(\"Suicide rate per 100k\")\n",
    "plt.title(\"Suicide rates by country\")\n",
    "plt.show()"
   ]
  },
  {
   "cell_type": "markdown",
   "metadata": {},
   "source": [
    "### Análise dos dados por ano"
   ]
  },
  {
   "cell_type": "markdown",
   "metadata": {},
   "source": [
    "Agora vamos analisar como a taxa de suicídios varia de acordo com o ano, desde 1985 até 2016:"
   ]
  },
  {
   "cell_type": "code",
   "execution_count": 17,
   "metadata": {},
   "outputs": [
    {
     "data": {
      "image/png": "[encoded data removed]",
      "text/plain": [
       "<Figure size 720x360 with 1 Axes>"
      ]
     },
     "metadata": {
      "needs_background": "light"
     },
     "output_type": "display_data"
    }
   ],
   "source": [
    "df_ano = dados[[ 'country','year', 'sex', 'age','suicides_100k_pop', 'population','HDI',\n",
    "'gdp_capita','generation']]\n",
    "mediaporano= df_ano.suicides_100k_pop.groupby(by=df_ano.year).mean()\n",
    "plt.figure(figsize=(10,5))\n",
    "plt.scatter(mediaporano.index,mediaporano)\n",
    "plt.plot(mediaporano.index,mediaporano)\n",
    "plt.xlabel('Year')\n",
    "plt.ylabel(\"Suicide rate per 100k\")\n",
    "plt.title(\"Suicide rates by year\")\n",
    "plt.grid(True)\n",
    "plt.show()"
   ]
  },
  {
   "cell_type": "markdown",
   "metadata": {},
   "source": [
    "Pelo gráfico, observa-se que as taxas de suicídio tendem a crescer, de 1985 a 1995. Esse último ano possui alto índice de  crescimento, que dado a tendência do resto dos dados pode ser dito como anormal em comparação aos demais anos, podendo ser considerado um outliar. A tendência até 2002 é descrescente novamente. Nesse ano, há um pico, que é seguido por um decrescimento até 2016, quando há um segundo pico."
   ]
  },
  {
   "cell_type": "markdown",
   "metadata": {},
   "source": [
    "### Analisando os dados por PIB"
   ]
  },
  {
   "cell_type": "code",
   "execution_count": 67,
   "metadata": {},
   "outputs": [
    {
     "data": {
      "image/png": "[encoded data removed]",
      "text/plain": [
       "<Figure size 1080x360 with 1 Axes>"
      ]
     },
     "metadata": {
      "needs_background": "light"
     },
     "output_type": "display_data"
    }
   ],
   "source": [
    "df_gdp = dados[[ 'country','year', 'sex', 'age','suicides_100k_pop', 'population','HDI',\n",
    "'gdp_capita','generation']]\n",
    "mediaporpib= df_ano.suicides_100k_pop.groupby(by=df_gdp.gdp_capita).mean()\n",
    "plt.figure(figsize=(15,5))\n",
    "plt.scatter(mediaporpib.index,mediaporpib)\n",
    "plt.xlim(0,100000)\n",
    "plt.xlabel('GDP per capita')\n",
    "plt.ylabel(\"Suicide rate per 100k\")\n",
    "plt.title(\"Suicide rates by GDP capita\")\n",
    "plt.grid(True)\n",
    "plt.show()"
   ]
  },
  {
   "cell_type": "markdown",
   "metadata": {},
   "source": [
    "Como indicado no gráfico, há maior concentração de altos índices de suicídio á esquerda do gráfico, o que indica que a probabilidade de uma país com baixo PIB de ter um alto índice de suicídios é maior em comparação a países com maior PIB."
   ]
  },
  {
   "cell_type": "markdown",
   "metadata": {},
   "source": [
    "### Analisando os dados por Índice de Desenvolvimento Humano"
   ]
  },
  {
   "cell_type": "code",
   "execution_count": 82,
   "metadata": {},
   "outputs": [
    {
     "data": {
      "image/png": "[encoded data removed]",
      "text/plain": [
       "<Figure size 720x360 with 1 Axes>"
      ]
     },
     "metadata": {
      "needs_background": "light"
     },
     "output_type": "display_data"
    }
   ],
   "source": [
    "df_hdi = dados[[ 'country','year', 'sex', 'age','suicides_100k_pop', 'population','HDI',\n",
    "'gdp_capita','generation']]\n",
    "mediaporhdi= df_ano.suicides_100k_pop.groupby(by=df_hdi.HDI).mean()\n",
    "plt.figure(figsize=(10,5))\n",
    "plt.scatter(mediaporhdi.index,mediaporhdi)\n",
    "plt.xlim(0.3,1)\n",
    "plt.ylim(-1,40)\n",
    "plt.xlabel('Human Development Index')\n",
    "plt.ylabel(\"Suicide rate per 100k\")\n",
    "plt.title(\"Suicide rates by HDI\")\n",
    "plt.grid(True)\n",
    "plt.show()"
   ]
  },
  {
   "cell_type": "markdown",
   "metadata": {},
   "source": [
    "Podemos observar que não há uma relação clara entre o Índice de Desenvolvimento Humano e as taxas de suicídio, uma vez que os pontos formam uma nuvem distribuída. Apesar disso, é mais difícil encontrar índices mais elevados como mais de 20 em países aonde o Índice é supeior a 0,85, e os que possuem Índice superior a 0.9 não superam a faixa de 15."
   ]
  },
  {
   "cell_type": "markdown",
   "metadata": {},
   "source": [
    "## 4- Análise por Regressão Linear Múltipla"
   ]
  },
  {
   "cell_type": "markdown",
   "metadata": {},
   "source": [
    "Vamos começar a analisar nosso modelo por meio de Regressão Linear. A Regressão Linear consiste em analisar como uma variável se comporta a medida que outra variável sofre alterações. Ela é frequentemente usada em análises metereológicas e na área de marketing, por exemplo, para prever o comportamento do tempo, de ações, entre outros. Nesse modelo, temos uma (ou mais, em nosso caso de Regressão Múltipla temos 7), variáveis dependentes, e nosso objetivo é analisar como estas afetam Y, a variável independente. As variáveis X, para essa análise consistem na idade (age), ano(year),população (population), Índice de desenvolvimento humano (HDI), PIB (gdp per capita), sexo (gender), e geração (generation). Já nossa variável independente (Y), será a taxa de suicídios por 100 mil habitantes. Em resumo, verificaremos qual a relação de nossas variáveis X e como elas afetam Y.\n"
   ]
  },
  {
   "cell_type": "markdown",
   "metadata": {},
   "source": [
    "Para realizar essa tarefa, o modelo de Regressão faz uma média entre os pontos de Y, por meio do Método dos Mínimos Quadrados, que busca minimizar a distância entre os valores de Y o máximo possível, por meio da seguinte fórmula:"
   ]
  },
  {
   "cell_type": "markdown",
   "metadata": {},
   "source": [
    "\n",
    "\n",
    "$$y_i=\\beta_0+\\beta_1x_i+\\varepsilon_i$$\n",
    "\n",
    "Onde:\n",
    "1. $\\beta_i$ são os coeficientes do modelo de regressão;\n",
    "1. $\\varepsilon_i$ representa os **erros aleatórios**. O erro aleatório tem média zero e variância (desconhecida) $\\sigma^2$. Além disso, esses erros aleatórios correspondentes as diferentes observações são também considerados variáveis aleatórias não correlacionadas.\n",
    "\n",
    "Os coeficientes são calculados por meio do Métodos dos Mínimos Quadrados, dado por:\n",
    "\n",
    "$$\\hat{\\beta}_0=\\bar{y}-\\hat{\\beta}_1\\bar{x}$$\n",
    "\n",
    "$$\\hat{\\beta}_1=\\frac{S_{XY}}{S_{XX}}=\\frac{\\sum_{i=1}^n(x_i-\\bar{x})(y_i-\\bar{y})}{\\sum_{i=1}^n(x_i-\\bar{x})^2}$$\n",
    "\n",
    "<div id=\"suposicoes\"></div>"
   ]
  },
  {
   "cell_type": "markdown",
   "metadata": {},
   "source": [
    "Como possuímos mais de um $\\beta_i$ , utilizaremos o modelo de Regressão Linear Múltipla do Python, que calcula esses coeficientes por meio da função OLS, contida no começo deste notebook. \n",
    "Para isso, vamos primeiro dividir nossos dados em X, Y e treinamento e teste. Essa última etapa é importante para testarmos a eficácia de nosso modelo garantindo que ele não estará enviezado."
   ]
  },
  {
   "cell_type": "code",
   "execution_count": 18,
   "metadata": {
    "scrolled": true
   },
   "outputs": [
    {
     "data": {
      "text/html": [
       "<table class=\"simpletable\">\n",
       "<caption>OLS Regression Results</caption>\n",
       "<tr>\n",
       "  <th>Dep. Variable:</th>    <td>suicides_100k_pop</td> <th>  R-squared:         </th> <td>   0.335</td> \n",
       "</tr>\n",
       "<tr>\n",
       "  <th>Model:</th>                   <td>OLS</td>        <th>  Adj. R-squared:    </th> <td>   0.333</td> \n",
       "</tr>\n",
       "<tr>\n",
       "  <th>Method:</th>             <td>Least Squares</td>   <th>  F-statistic:       </th> <td>   187.4</td> \n",
       "</tr>\n",
       "<tr>\n",
       "  <th>Date:</th>             <td>Tue, 09 Jun 2020</td>  <th>  Prob (F-statistic):</th>  <td>  0.00</td>  \n",
       "</tr>\n",
       "<tr>\n",
       "  <th>Time:</th>                 <td>10:31:44</td>      <th>  Log-Likelihood:    </th> <td> -22733.</td> \n",
       "</tr>\n",
       "<tr>\n",
       "  <th>No. Observations:</th>      <td>  5603</td>       <th>  AIC:               </th> <td>4.550e+04</td>\n",
       "</tr>\n",
       "<tr>\n",
       "  <th>Df Residuals:</th>          <td>  5587</td>       <th>  BIC:               </th> <td>4.560e+04</td>\n",
       "</tr>\n",
       "<tr>\n",
       "  <th>Df Model:</th>              <td>    15</td>       <th>                     </th>     <td> </td>    \n",
       "</tr>\n",
       "<tr>\n",
       "  <th>Covariance Type:</th>      <td>nonrobust</td>     <th>                     </th>     <td> </td>    \n",
       "</tr>\n",
       "</table>\n",
       "<table class=\"simpletable\">\n",
       "<tr>\n",
       "         <td></td>            <th>coef</th>     <th>std err</th>      <th>t</th>      <th>P>|t|</th>  <th>[0.025</th>    <th>0.975]</th>  \n",
       "</tr>\n",
       "<tr>\n",
       "  <th>const</th>           <td>  351.3461</td> <td>   78.367</td> <td>    4.483</td> <td> 0.000</td> <td>  197.717</td> <td>  504.975</td>\n",
       "</tr>\n",
       "<tr>\n",
       "  <th>sex</th>             <td>   14.0193</td> <td>    0.375</td> <td>   37.427</td> <td> 0.000</td> <td>   13.285</td> <td>   14.754</td>\n",
       "</tr>\n",
       "<tr>\n",
       "  <th>year</th>            <td>   -0.2459</td> <td>    0.052</td> <td>   -4.703</td> <td> 0.000</td> <td>   -0.348</td> <td>   -0.143</td>\n",
       "</tr>\n",
       "<tr>\n",
       "  <th>population</th>      <td>-6.475e-08</td> <td> 4.87e-08</td> <td>   -1.330</td> <td> 0.184</td> <td> -1.6e-07</td> <td> 3.07e-08</td>\n",
       "</tr>\n",
       "<tr>\n",
       "  <th>HDI</th>             <td>   41.9307</td> <td>    3.271</td> <td>   12.820</td> <td> 0.000</td> <td>   35.519</td> <td>   48.343</td>\n",
       "</tr>\n",
       "<tr>\n",
       "  <th>gdp_capita</th>      <td>   -0.0001</td> <td> 1.33e-05</td> <td>   -8.543</td> <td> 0.000</td> <td>   -0.000</td> <td>-8.75e-05</td>\n",
       "</tr>\n",
       "<tr>\n",
       "  <th>15-24 years</th>     <td>   55.0835</td> <td>   12.429</td> <td>    4.432</td> <td> 0.000</td> <td>   30.718</td> <td>   79.449</td>\n",
       "</tr>\n",
       "<tr>\n",
       "  <th>25-34 years</th>     <td>   58.0441</td> <td>   12.652</td> <td>    4.588</td> <td> 0.000</td> <td>   33.240</td> <td>   82.848</td>\n",
       "</tr>\n",
       "<tr>\n",
       "  <th>35-54 years</th>     <td>   61.2293</td> <td>   13.209</td> <td>    4.635</td> <td> 0.000</td> <td>   35.334</td> <td>   87.124</td>\n",
       "</tr>\n",
       "<tr>\n",
       "  <th>5-14 years</th>      <td>   45.0859</td> <td>   11.967</td> <td>    3.767</td> <td> 0.000</td> <td>   21.626</td> <td>   68.546</td>\n",
       "</tr>\n",
       "<tr>\n",
       "  <th>55-74 years</th>     <td>   62.9450</td> <td>   13.904</td> <td>    4.527</td> <td> 0.000</td> <td>   35.687</td> <td>   90.203</td>\n",
       "</tr>\n",
       "<tr>\n",
       "  <th>75+ years</th>       <td>   68.9584</td> <td>   14.302</td> <td>    4.822</td> <td> 0.000</td> <td>   40.921</td> <td>   96.995</td>\n",
       "</tr>\n",
       "<tr>\n",
       "  <th>Boomers</th>         <td>   57.1011</td> <td>   12.738</td> <td>    4.483</td> <td> 0.000</td> <td>   32.129</td> <td>   82.073</td>\n",
       "</tr>\n",
       "<tr>\n",
       "  <th>G.I. Generation</th> <td>   60.0247</td> <td>   11.425</td> <td>    5.254</td> <td> 0.000</td> <td>   37.627</td> <td>   82.423</td>\n",
       "</tr>\n",
       "<tr>\n",
       "  <th>Generation X</th>    <td>   57.9557</td> <td>   13.384</td> <td>    4.330</td> <td> 0.000</td> <td>   31.718</td> <td>   84.193</td>\n",
       "</tr>\n",
       "<tr>\n",
       "  <th>Generation Z</th>    <td>   61.4361</td> <td>   14.653</td> <td>    4.193</td> <td> 0.000</td> <td>   32.710</td> <td>   90.162</td>\n",
       "</tr>\n",
       "<tr>\n",
       "  <th>Millenials</th>      <td>   58.7499</td> <td>   14.051</td> <td>    4.181</td> <td> 0.000</td> <td>   31.205</td> <td>   86.295</td>\n",
       "</tr>\n",
       "<tr>\n",
       "  <th>Silent</th>          <td>   56.0786</td> <td>   12.236</td> <td>    4.583</td> <td> 0.000</td> <td>   32.092</td> <td>   80.065</td>\n",
       "</tr>\n",
       "</table>\n",
       "<table class=\"simpletable\">\n",
       "<tr>\n",
       "  <th>Omnibus:</th>       <td>3126.243</td> <th>  Durbin-Watson:     </th> <td>   2.008</td> \n",
       "</tr>\n",
       "<tr>\n",
       "  <th>Prob(Omnibus):</th>  <td> 0.000</td>  <th>  Jarque-Bera (JB):  </th> <td>35341.617</td>\n",
       "</tr>\n",
       "<tr>\n",
       "  <th>Skew:</th>           <td> 2.457</td>  <th>  Prob(JB):          </th> <td>    0.00</td> \n",
       "</tr>\n",
       "<tr>\n",
       "  <th>Kurtosis:</th>       <td>14.280</td>  <th>  Cond. No.          </th> <td>5.94e+22</td> \n",
       "</tr>\n",
       "</table><br/><br/>Warnings:<br/>[1] Standard Errors assume that the covariance matrix of the errors is correctly specified.<br/>[2] The smallest eigenvalue is 2.99e-29. This might indicate that there are<br/>strong multicollinearity problems or that the design matrix is singular."
      ],
      "text/plain": [
       "<class 'statsmodels.iolib.summary.Summary'>\n",
       "\"\"\"\n",
       "                            OLS Regression Results                            \n",
       "==============================================================================\n",
       "Dep. Variable:      suicides_100k_pop   R-squared:                       0.335\n",
       "Model:                            OLS   Adj. R-squared:                  0.333\n",
       "Method:                 Least Squares   F-statistic:                     187.4\n",
       "Date:                Tue, 09 Jun 2020   Prob (F-statistic):               0.00\n",
       "Time:                        10:31:44   Log-Likelihood:                -22733.\n",
       "No. Observations:                5603   AIC:                         4.550e+04\n",
       "Df Residuals:                    5587   BIC:                         4.560e+04\n",
       "Df Model:                          15                                         \n",
       "Covariance Type:            nonrobust                                         \n",
       "===================================================================================\n",
       "                      coef    std err          t      P>|t|      [0.025      0.975]\n",
       "-----------------------------------------------------------------------------------\n",
       "const             351.3461     78.367      4.483      0.000     197.717     504.975\n",
       "sex                14.0193      0.375     37.427      0.000      13.285      14.754\n",
       "year               -0.2459      0.052     -4.703      0.000      -0.348      -0.143\n",
       "population      -6.475e-08   4.87e-08     -1.330      0.184    -1.6e-07    3.07e-08\n",
       "HDI                41.9307      3.271     12.820      0.000      35.519      48.343\n",
       "gdp_capita         -0.0001   1.33e-05     -8.543      0.000      -0.000   -8.75e-05\n",
       "15-24 years        55.0835     12.429      4.432      0.000      30.718      79.449\n",
       "25-34 years        58.0441     12.652      4.588      0.000      33.240      82.848\n",
       "35-54 years        61.2293     13.209      4.635      0.000      35.334      87.124\n",
       "5-14 years         45.0859     11.967      3.767      0.000      21.626      68.546\n",
       "55-74 years        62.9450     13.904      4.527      0.000      35.687      90.203\n",
       "75+ years          68.9584     14.302      4.822      0.000      40.921      96.995\n",
       "Boomers            57.1011     12.738      4.483      0.000      32.129      82.073\n",
       "G.I. Generation    60.0247     11.425      5.254      0.000      37.627      82.423\n",
       "Generation X       57.9557     13.384      4.330      0.000      31.718      84.193\n",
       "Generation Z       61.4361     14.653      4.193      0.000      32.710      90.162\n",
       "Millenials         58.7499     14.051      4.181      0.000      31.205      86.295\n",
       "Silent             56.0786     12.236      4.583      0.000      32.092      80.065\n",
       "==============================================================================\n",
       "Omnibus:                     3126.243   Durbin-Watson:                   2.008\n",
       "Prob(Omnibus):                  0.000   Jarque-Bera (JB):            35341.617\n",
       "Skew:                           2.457   Prob(JB):                         0.00\n",
       "Kurtosis:                      14.280   Cond. No.                     5.94e+22\n",
       "==============================================================================\n",
       "\n",
       "Warnings:\n",
       "[1] Standard Errors assume that the covariance matrix of the errors is correctly specified.\n",
       "[2] The smallest eigenvalue is 2.99e-29. This might indicate that there are\n",
       "strong multicollinearity problems or that the design matrix is singular.\n",
       "\"\"\""
      ]
     },
     "execution_count": 18,
     "metadata": {},
     "output_type": "execute_result"
    }
   ],
   "source": [
    "X = df[[ 'sex', 'year', 'population','HDI',\n",
    "'gdp_capita']]\n",
    "X = X.join(pd.get_dummies(df['age']))\n",
    "X = X.join(pd.get_dummies(df['generation']))\n",
    "Y = df['suicides_100k_pop']\n",
    "\n",
    "X_train, X_test, y_train, y_test = train_test_split(\n",
    "X, Y, test_size=0.33, random_state=42)\n",
    "results = regress(X_train,y_train)\n",
    "results.summary()"
   ]
  },
  {
   "cell_type": "markdown",
   "metadata": {},
   "source": [
    "A coluna P>t nos indica o quão relevante aquela variável é para a nossa variável Y independente. Nesse caso, considerando alpha=10%, todas tem relevância exceto a variável de população. "
   ]
  },
  {
   "cell_type": "markdown",
   "metadata": {},
   "source": []
  },
  {
   "cell_type": "code",
   "execution_count": 32,
   "metadata": {},
   "outputs": [
    {
     "data": {
      "text/html": [
       "<table class=\"simpletable\">\n",
       "<caption>OLS Regression Results</caption>\n",
       "<tr>\n",
       "  <th>Dep. Variable:</th>    <td>suicides_100k_pop</td> <th>  R-squared:         </th> <td>   0.335</td> \n",
       "</tr>\n",
       "<tr>\n",
       "  <th>Model:</th>                   <td>OLS</td>        <th>  Adj. R-squared:    </th> <td>   0.333</td> \n",
       "</tr>\n",
       "<tr>\n",
       "  <th>Method:</th>             <td>Least Squares</td>   <th>  F-statistic:       </th> <td>   200.6</td> \n",
       "</tr>\n",
       "<tr>\n",
       "  <th>Date:</th>             <td>Tue, 09 Jun 2020</td>  <th>  Prob (F-statistic):</th>  <td>  0.00</td>  \n",
       "</tr>\n",
       "<tr>\n",
       "  <th>Time:</th>                 <td>11:41:54</td>      <th>  Log-Likelihood:    </th> <td> -22734.</td> \n",
       "</tr>\n",
       "<tr>\n",
       "  <th>No. Observations:</th>      <td>  5603</td>       <th>  AIC:               </th> <td>4.550e+04</td>\n",
       "</tr>\n",
       "<tr>\n",
       "  <th>Df Residuals:</th>          <td>  5588</td>       <th>  BIC:               </th> <td>4.560e+04</td>\n",
       "</tr>\n",
       "<tr>\n",
       "  <th>Df Model:</th>              <td>    14</td>       <th>                     </th>     <td> </td>    \n",
       "</tr>\n",
       "<tr>\n",
       "  <th>Covariance Type:</th>      <td>nonrobust</td>     <th>                     </th>     <td> </td>    \n",
       "</tr>\n",
       "</table>\n",
       "<table class=\"simpletable\">\n",
       "<tr>\n",
       "         <td></td>            <th>coef</th>     <th>std err</th>      <th>t</th>      <th>P>|t|</th>  <th>[0.025</th>    <th>0.975]</th>  \n",
       "</tr>\n",
       "<tr>\n",
       "  <th>const</th>           <td>  349.5897</td> <td>   78.361</td> <td>    4.461</td> <td> 0.000</td> <td>  195.972</td> <td>  503.207</td>\n",
       "</tr>\n",
       "<tr>\n",
       "  <th>sex</th>             <td>   14.0244</td> <td>    0.375</td> <td>   37.440</td> <td> 0.000</td> <td>   13.290</td> <td>   14.759</td>\n",
       "</tr>\n",
       "<tr>\n",
       "  <th>year</th>            <td>   -0.2447</td> <td>    0.052</td> <td>   -4.680</td> <td> 0.000</td> <td>   -0.347</td> <td>   -0.142</td>\n",
       "</tr>\n",
       "<tr>\n",
       "  <th>HDI</th>             <td>   41.6010</td> <td>    3.262</td> <td>   12.755</td> <td> 0.000</td> <td>   35.207</td> <td>   47.995</td>\n",
       "</tr>\n",
       "<tr>\n",
       "  <th>gdp_capita</th>      <td>   -0.0001</td> <td> 1.33e-05</td> <td>   -8.539</td> <td> 0.000</td> <td>   -0.000</td> <td>-8.75e-05</td>\n",
       "</tr>\n",
       "<tr>\n",
       "  <th>15-24 years</th>     <td>   54.7853</td> <td>   12.428</td> <td>    4.408</td> <td> 0.000</td> <td>   30.422</td> <td>   79.149</td>\n",
       "</tr>\n",
       "<tr>\n",
       "  <th>25-34 years</th>     <td>   57.7550</td> <td>   12.651</td> <td>    4.565</td> <td> 0.000</td> <td>   32.953</td> <td>   82.557</td>\n",
       "</tr>\n",
       "<tr>\n",
       "  <th>35-54 years</th>     <td>   60.8608</td> <td>   13.207</td> <td>    4.608</td> <td> 0.000</td> <td>   34.970</td> <td>   86.752</td>\n",
       "</tr>\n",
       "<tr>\n",
       "  <th>5-14 years</th>      <td>   44.7783</td> <td>   11.966</td> <td>    3.742</td> <td> 0.000</td> <td>   21.321</td> <td>   68.236</td>\n",
       "</tr>\n",
       "<tr>\n",
       "  <th>55-74 years</th>     <td>   62.6589</td> <td>   13.904</td> <td>    4.507</td> <td> 0.000</td> <td>   35.402</td> <td>   89.916</td>\n",
       "</tr>\n",
       "<tr>\n",
       "  <th>75+ years</th>       <td>   68.7514</td> <td>   14.302</td> <td>    4.807</td> <td> 0.000</td> <td>   40.714</td> <td>   96.789</td>\n",
       "</tr>\n",
       "<tr>\n",
       "  <th>Boomers</th>         <td>   56.7900</td> <td>   12.737</td> <td>    4.459</td> <td> 0.000</td> <td>   31.820</td> <td>   81.760</td>\n",
       "</tr>\n",
       "<tr>\n",
       "  <th>G.I. Generation</th> <td>   59.7220</td> <td>   11.424</td> <td>    5.228</td> <td> 0.000</td> <td>   37.327</td> <td>   82.117</td>\n",
       "</tr>\n",
       "<tr>\n",
       "  <th>Generation X</th>    <td>   57.6607</td> <td>   13.383</td> <td>    4.309</td> <td> 0.000</td> <td>   31.425</td> <td>   83.896</td>\n",
       "</tr>\n",
       "<tr>\n",
       "  <th>Generation Z</th>    <td>   61.1791</td> <td>   14.653</td> <td>    4.175</td> <td> 0.000</td> <td>   32.454</td> <td>   89.905</td>\n",
       "</tr>\n",
       "<tr>\n",
       "  <th>Millenials</th>      <td>   58.4584</td> <td>   14.050</td> <td>    4.161</td> <td> 0.000</td> <td>   30.915</td> <td>   86.002</td>\n",
       "</tr>\n",
       "<tr>\n",
       "  <th>Silent</th>          <td>   55.7794</td> <td>   12.234</td> <td>    4.559</td> <td> 0.000</td> <td>   31.795</td> <td>   79.763</td>\n",
       "</tr>\n",
       "</table>\n",
       "<table class=\"simpletable\">\n",
       "<tr>\n",
       "  <th>Omnibus:</th>       <td>3132.930</td> <th>  Durbin-Watson:     </th> <td>   2.008</td> \n",
       "</tr>\n",
       "<tr>\n",
       "  <th>Prob(Omnibus):</th>  <td> 0.000</td>  <th>  Jarque-Bera (JB):  </th> <td>35492.784</td>\n",
       "</tr>\n",
       "<tr>\n",
       "  <th>Skew:</th>           <td> 2.463</td>  <th>  Prob(JB):          </th> <td>    0.00</td> \n",
       "</tr>\n",
       "<tr>\n",
       "  <th>Kurtosis:</th>       <td>14.303</td>  <th>  Cond. No.          </th> <td>2.61e+20</td> \n",
       "</tr>\n",
       "</table><br/><br/>Warnings:<br/>[1] Standard Errors assume that the covariance matrix of the errors is correctly specified.<br/>[2] The smallest eigenvalue is 7.64e-29. This might indicate that there are<br/>strong multicollinearity problems or that the design matrix is singular."
      ],
      "text/plain": [
       "<class 'statsmodels.iolib.summary.Summary'>\n",
       "\"\"\"\n",
       "                            OLS Regression Results                            \n",
       "==============================================================================\n",
       "Dep. Variable:      suicides_100k_pop   R-squared:                       0.335\n",
       "Model:                            OLS   Adj. R-squared:                  0.333\n",
       "Method:                 Least Squares   F-statistic:                     200.6\n",
       "Date:                Tue, 09 Jun 2020   Prob (F-statistic):               0.00\n",
       "Time:                        11:41:54   Log-Likelihood:                -22734.\n",
       "No. Observations:                5603   AIC:                         4.550e+04\n",
       "Df Residuals:                    5588   BIC:                         4.560e+04\n",
       "Df Model:                          14                                         \n",
       "Covariance Type:            nonrobust                                         \n",
       "===================================================================================\n",
       "                      coef    std err          t      P>|t|      [0.025      0.975]\n",
       "-----------------------------------------------------------------------------------\n",
       "const             349.5897     78.361      4.461      0.000     195.972     503.207\n",
       "sex                14.0244      0.375     37.440      0.000      13.290      14.759\n",
       "year               -0.2447      0.052     -4.680      0.000      -0.347      -0.142\n",
       "HDI                41.6010      3.262     12.755      0.000      35.207      47.995\n",
       "gdp_capita         -0.0001   1.33e-05     -8.539      0.000      -0.000   -8.75e-05\n",
       "15-24 years        54.7853     12.428      4.408      0.000      30.422      79.149\n",
       "25-34 years        57.7550     12.651      4.565      0.000      32.953      82.557\n",
       "35-54 years        60.8608     13.207      4.608      0.000      34.970      86.752\n",
       "5-14 years         44.7783     11.966      3.742      0.000      21.321      68.236\n",
       "55-74 years        62.6589     13.904      4.507      0.000      35.402      89.916\n",
       "75+ years          68.7514     14.302      4.807      0.000      40.714      96.789\n",
       "Boomers            56.7900     12.737      4.459      0.000      31.820      81.760\n",
       "G.I. Generation    59.7220     11.424      5.228      0.000      37.327      82.117\n",
       "Generation X       57.6607     13.383      4.309      0.000      31.425      83.896\n",
       "Generation Z       61.1791     14.653      4.175      0.000      32.454      89.905\n",
       "Millenials         58.4584     14.050      4.161      0.000      30.915      86.002\n",
       "Silent             55.7794     12.234      4.559      0.000      31.795      79.763\n",
       "==============================================================================\n",
       "Omnibus:                     3132.930   Durbin-Watson:                   2.008\n",
       "Prob(Omnibus):                  0.000   Jarque-Bera (JB):            35492.784\n",
       "Skew:                           2.463   Prob(JB):                         0.00\n",
       "Kurtosis:                      14.303   Cond. No.                     2.61e+20\n",
       "==============================================================================\n",
       "\n",
       "Warnings:\n",
       "[1] Standard Errors assume that the covariance matrix of the errors is correctly specified.\n",
       "[2] The smallest eigenvalue is 7.64e-29. This might indicate that there are\n",
       "strong multicollinearity problems or that the design matrix is singular.\n",
       "\"\"\""
      ]
     },
     "execution_count": 32,
     "metadata": {},
     "output_type": "execute_result"
    }
   ],
   "source": [
    "X = df[[ 'sex', 'year','HDI',\n",
    "'gdp_capita']]\n",
    "X = X.join(pd.get_dummies(df['age']))\n",
    "X = X.join(pd.get_dummies(df['generation']))\n",
    "Y = df['suicides_100k_pop']\n",
    "\n",
    "X_train, X_test, y_train, y_test = train_test_split(\n",
    "X, Y, test_size=0.33, random_state=42)\n",
    "results = regress(X_train,y_train)\n",
    "results.summary()"
   ]
  },
  {
   "cell_type": "markdown",
   "metadata": {},
   "source": [
    "Numa análise de Regressão múltipla, retiramos as variáveis que não importam ( ou seja, são menores que alpha), até que só as menores que alpha sejam os parâmetros considerados. No entanto, a única que desconsideramos foi a de população nesse caso."
   ]
  },
  {
   "cell_type": "code",
   "execution_count": null,
   "metadata": {},
   "outputs": [],
   "source": [
    "\n"
   ]
  },
  {
   "cell_type": "code",
   "execution_count": null,
   "metadata": {},
   "outputs": [],
   "source": []
  },
  {
   "cell_type": "markdown",
   "metadata": {},
   "source": [
    "Como podemos observar, os índices que indicam a probabilidade dos resíudos seguirem uma normal (Prob JB e Prob Omnibus), são inferiores a alfa, o que provavelmente significa que os erros são distantes de uma normal. Com isso, concluímos que o modelo de Regressão Linear pode apresentar algumas imprecisões devido a isso, já que ele assume que os erros seguem uma distribuição próxima a uma Normal.\n",
    "A função \"results.resid\" calcula os erros e nos indica seu comportamento, seguindo a seguinte fórmula:\n",
    "$$e_i=y_i-\\hat{y_i}=y_i-(\\hat{\\beta}_0+\\hat{\\beta}_1x_i)$$\n",
    "\n"
   ]
  },
  {
   "cell_type": "markdown",
   "metadata": {},
   "source": [
    "Para ter certeza, vamos plotar um gráficos dos resíduos e compará-los com o comportamento normal:"
   ]
  },
  {
   "cell_type": "code",
   "execution_count": 34,
   "metadata": {},
   "outputs": [
    {
     "data": {
      "image/png": "[encoded data removed]",
      "text/plain": [
       "<Figure size 432x288 with 1 Axes>"
      ]
     },
     "metadata": {
      "needs_background": "light"
     },
     "output_type": "display_data"
    }
   ],
   "source": [
    "\n",
    "plt.figure()\n",
    "erros=results.resid\n",
    "stats.probplot(erros,dist='norm',plot=plt)\n",
    "plt.title(\"Distribuição de erros\")\n",
    "plt.show()"
   ]
  },
  {
   "cell_type": "markdown",
   "metadata": {},
   "source": [
    "O gráfico acima confirma que os erros não seguem um comportamento normal, principalmente conforme aumentam. Isso significa que nosso modelo provavelmente não predirá de forma precisa o Índice de Suicídios. Vamos confirmar nossa hipótese usando nossa base de testes:"
   ]
  },
  {
   "cell_type": "code",
   "execution_count": 20,
   "metadata": {},
   "outputs": [
    {
     "name": "stdout",
     "output_type": "stream",
     "text": [
      "208.75099730214632\n"
     ]
    }
   ],
   "source": [
    "from sklearn.metrics import mean_squared_error\n",
    "from sklearn.ensemble import RandomForestRegressor \n",
    "results_teste = regress(X_test,y_test)\n",
    "y_pred= results_teste.predict(sm.add_constant(X_test))\n",
    "erro=mean_squared_error(y_test,y_pred)\n",
    "print(erro)\n"
   ]
  },
  {
   "cell_type": "markdown",
   "metadata": {},
   "source": [
    "Vamos comparar nosso erro com o erro se considerarmos também a base de dados que utilizamos para treinar nosso modelo:"
   ]
  },
  {
   "cell_type": "code",
   "execution_count": 21,
   "metadata": {},
   "outputs": [
    {
     "name": "stdout",
     "output_type": "stream",
     "text": [
      "196.60646626886785\n"
     ]
    }
   ],
   "source": [
    "y_pred= results_teste.predict(sm.add_constant(X_train))\n",
    "erro=mean_squared_error(y_train,y_pred)\n",
    "print(erro)"
   ]
  },
  {
   "cell_type": "markdown",
   "metadata": {},
   "source": [
    "O índice de erros diminuiu, mas ainda existe, Algumas explicações para isso podem ser relacionadas ás Inferências que o modelo de Regressão faz.  Dentre elas, estão os erros em distribuição Normal, que como indicado previamente não é uma verdade para esse conjunto específico de dados, se analisarmos o gráfico de Distribuição de erros. Além disso, ele considera que so erros são independentes entre si, o que pode não ser uma verdade também. Outra hipótese é a de que a Correlação entre os índices de GDP e HDI, que já analisamos previamente, pode afetar o modelo, dada que ela quase supera nosso limite, que era 0.8. "
   ]
  },
  {
   "cell_type": "markdown",
   "metadata": {},
   "source": [
    "Se observamos a distribuição da Taxa de suicídios, veremos que 75% está no valor até 15,aproximadamente. Porém, o máximo é 187, o que indica que há valores que descolam muito da maioria (denominados outliars), e que podem estar contribuindo para que o modelo não funcione da forma ideal. Vamos descobrir quem são esses outliars e buscar fazer a regressão apenas com 99% dos valores obtidos, ou seja, taxas correspondentes a 85 ou menos:"
   ]
  },
  {
   "cell_type": "code",
   "execution_count": 22,
   "metadata": {},
   "outputs": [
    {
     "name": "stdout",
     "output_type": "stream",
     "text": [
      "Austria1985\n",
      "Austria1990\n",
      "Austria1995\n",
      "Austria2000\n",
      "Austria2013\n",
      "Belarus2000\n",
      "Belarus2000\n",
      "Belgium1985\n",
      "Belgium1990\n",
      "Bulgaria1985\n",
      "Bulgaria1990\n",
      "Bulgaria1995\n",
      "Bulgaria2000\n",
      "Croatia1995\n",
      "Croatia2000\n",
      "Croatia2005\n",
      "Croatia2010\n",
      "Cuba1995\n",
      "Cuba2000\n",
      "Cuba2011\n",
      "Cuba2012\n",
      "Czech Republic1990\n",
      "Czech Republic1995\n",
      "Estonia1995\n",
      "Estonia1995\n",
      "Estonia1995\n",
      "Estonia2000\n",
      "Finland1990\n",
      "France1985\n",
      "France1990\n",
      "France1995\n",
      "France2000\n",
      "Germany1990\n",
      "Guyana2010\n",
      "Guyana2010\n",
      "Hungary1995\n",
      "Hungary2000\n",
      "Hungary2005\n",
      "Hungary2010\n",
      "Hungary2012\n",
      "Hungary2013\n",
      "Kazakhstan1995\n",
      "Kazakhstan1995\n",
      "Kazakhstan1995\n",
      "Latvia1995\n",
      "Latvia1995\n",
      "Latvia1995\n",
      "Latvia2000\n",
      "Latvia2000\n",
      "Latvia2000\n",
      "Lithuania1995\n",
      "Lithuania1995\n",
      "Lithuania1995\n",
      "Lithuania2000\n",
      "Lithuania2000\n",
      "Lithuania2000\n",
      "Lithuania2005\n",
      "Lithuania2005\n",
      "Lithuania2013\n",
      "Lithuania2014\n",
      "Luxembourg1985\n",
      "Luxembourg2000\n",
      "Serbia2000\n",
      "Serbia2005\n",
      "Serbia2010\n",
      "Serbia2011\n",
      "Serbia2012\n",
      "Singapore1995\n",
      "Slovenia1995\n",
      "Slovenia2000\n",
      "Slovenia2005\n",
      "Slovenia2010\n",
      "Slovenia2011\n",
      "Slovenia2012\n",
      "Slovenia2013\n",
      "Slovenia2014\n",
      "Sri Lanka1985\n",
      "Sri Lanka1985\n",
      "Sri Lanka2000\n",
      "Suriname2010\n",
      "Suriname2011\n",
      "Suriname2012\n",
      "Suriname2014\n",
      "Switzerland1995\n",
      "Ukraine1995\n",
      "Uruguay1995\n",
      "Uruguay2000\n",
      "Uruguay2010\n"
     ]
    },
    {
     "data": {
      "text/plain": [
       "0.00     0.0000\n",
       "0.01     0.0000\n",
       "0.02     0.0000\n",
       "0.03     0.0000\n",
       "0.04     0.0000\n",
       "0.05     0.0000\n",
       "0.06     0.0000\n",
       "0.07     0.0000\n",
       "0.08     0.0000\n",
       "0.09     0.0000\n",
       "0.10     0.0000\n",
       "0.11     0.0000\n",
       "0.12     0.0000\n",
       "0.13     0.0000\n",
       "0.14     0.0600\n",
       "0.15     0.1845\n",
       "0.16     0.2600\n",
       "0.17     0.3200\n",
       "0.18     0.3800\n",
       "0.19     0.4400\n",
       "0.20     0.5200\n",
       "0.21     0.6400\n",
       "0.22     0.7500\n",
       "0.23     0.8500\n",
       "0.24     0.9500\n",
       "0.25     1.0400\n",
       "0.26     1.1600\n",
       "0.27     1.2900\n",
       "0.28     1.4100\n",
       "0.29     1.5600\n",
       "         ...   \n",
       "0.70    12.7500\n",
       "0.71    13.2500\n",
       "0.72    13.8000\n",
       "0.73    14.3700\n",
       "0.74    14.9062\n",
       "0.75    15.4425\n",
       "0.76    16.1500\n",
       "0.77    17.0151\n",
       "0.78    17.6714\n",
       "0.79    18.4800\n",
       "0.80    19.3940\n",
       "0.81    20.2503\n",
       "0.82    21.1700\n",
       "0.83    22.1258\n",
       "0.84    23.1200\n",
       "0.85    24.0610\n",
       "0.86    25.2200\n",
       "0.87    26.2581\n",
       "0.88    27.4900\n",
       "0.89    29.5007\n",
       "0.90    31.3470\n",
       "0.91    33.4533\n",
       "0.92    35.6092\n",
       "0.93    38.3859\n",
       "0.94    41.1664\n",
       "0.95    45.7325\n",
       "0.96    51.8044\n",
       "0.97    58.4631\n",
       "0.98    70.8018\n",
       "0.99    85.5974\n",
       "Name: suicides_100k_pop, Length: 100, dtype: float64"
      ]
     },
     "execution_count": 22,
     "metadata": {},
     "output_type": "execute_result"
    }
   ],
   "source": [
    "\n",
    "df3= dados[[ 'year', 'sex', 'age','suicides_100k_pop', 'population','HDI',\n",
    "'gdp_capita','generation','country-year']].dropna()\n",
    "i=0\n",
    "#printando os países outliars em seus respectivos anos\n",
    "for i in range(len(df3)):\n",
    "    if df3.iloc[i]['suicides_100k_pop']>85:\n",
    "        print(df3.iloc[i]['country-year'])\n",
    "df3.head()\n",
    "faixa= np.arange(0,1,0.01)\n",
    "Y.quantile(faixa)"
   ]
  },
  {
   "cell_type": "markdown",
   "metadata": {},
   "source": [
    "Podemos observar que a Lituânia e outros países nórdicos, como a Estônia e a Eslovênia por exemplo, possuem uma ocorrência mais frequente nesse grupo que se destaca do resto dos dados, ou seja, possuem índices muito mais altos que o comum.  Há diversos motivos apontados por especialistas que explicam isso, mas o principal decorre da ausência de sol na maior parte do ano nesses lugares, o que aumenta a tendência a depressão e, consequentemente, ao suicídio. Outros fatores que também podem ser considerados como problemas socio-econômicos, mudanças radicais no sistema dado ao fim de União Soviética, entre outros."
   ]
  },
  {
   "cell_type": "code",
   "execution_count": 23,
   "metadata": {},
   "outputs": [
    {
     "data": {
      "text/html": [
       "<table class=\"simpletable\">\n",
       "<caption>OLS Regression Results</caption>\n",
       "<tr>\n",
       "  <th>Dep. Variable:</th>    <td>suicides_100k_pop</td> <th>  R-squared:         </th> <td>   0.356</td> \n",
       "</tr>\n",
       "<tr>\n",
       "  <th>Model:</th>                   <td>OLS</td>        <th>  Adj. R-squared:    </th> <td>   0.354</td> \n",
       "</tr>\n",
       "<tr>\n",
       "  <th>Method:</th>             <td>Least Squares</td>   <th>  F-statistic:       </th> <td>   203.9</td> \n",
       "</tr>\n",
       "<tr>\n",
       "  <th>Date:</th>             <td>Tue, 09 Jun 2020</td>  <th>  Prob (F-statistic):</th>  <td>  0.00</td>  \n",
       "</tr>\n",
       "<tr>\n",
       "  <th>Time:</th>                 <td>10:31:49</td>      <th>  Log-Likelihood:    </th> <td> -21508.</td> \n",
       "</tr>\n",
       "<tr>\n",
       "  <th>No. Observations:</th>      <td>  5544</td>       <th>  AIC:               </th> <td>4.305e+04</td>\n",
       "</tr>\n",
       "<tr>\n",
       "  <th>Df Residuals:</th>          <td>  5528</td>       <th>  BIC:               </th> <td>4.315e+04</td>\n",
       "</tr>\n",
       "<tr>\n",
       "  <th>Df Model:</th>              <td>    15</td>       <th>                     </th>     <td> </td>    \n",
       "</tr>\n",
       "<tr>\n",
       "  <th>Covariance Type:</th>      <td>nonrobust</td>     <th>                     </th>     <td> </td>    \n",
       "</tr>\n",
       "</table>\n",
       "<table class=\"simpletable\">\n",
       "<tr>\n",
       "         <td></td>            <th>coef</th>     <th>std err</th>      <th>t</th>      <th>P>|t|</th>  <th>[0.025</th>    <th>0.975]</th>  \n",
       "</tr>\n",
       "<tr>\n",
       "  <th>const</th>           <td>  234.3388</td> <td>   66.381</td> <td>    3.530</td> <td> 0.000</td> <td>  104.206</td> <td>  364.472</td>\n",
       "</tr>\n",
       "<tr>\n",
       "  <th>sex</th>             <td>   12.5764</td> <td>    0.315</td> <td>   39.895</td> <td> 0.000</td> <td>   11.958</td> <td>   13.194</td>\n",
       "</tr>\n",
       "<tr>\n",
       "  <th>year</th>            <td>   -0.1682</td> <td>    0.044</td> <td>   -3.798</td> <td> 0.000</td> <td>   -0.255</td> <td>   -0.081</td>\n",
       "</tr>\n",
       "<tr>\n",
       "  <th>population</th>      <td>-2.355e-08</td> <td> 4.02e-08</td> <td>   -0.586</td> <td> 0.558</td> <td>-1.02e-07</td> <td> 5.52e-08</td>\n",
       "</tr>\n",
       "<tr>\n",
       "  <th>HDI</th>             <td>   41.2634</td> <td>    2.735</td> <td>   15.085</td> <td> 0.000</td> <td>   35.901</td> <td>   46.626</td>\n",
       "</tr>\n",
       "<tr>\n",
       "  <th>gdp_capita</th>      <td>-9.479e-05</td> <td>  1.1e-05</td> <td>   -8.626</td> <td> 0.000</td> <td>   -0.000</td> <td>-7.32e-05</td>\n",
       "</tr>\n",
       "<tr>\n",
       "  <th>15-24 years</th>     <td>   36.9045</td> <td>   10.527</td> <td>    3.506</td> <td> 0.000</td> <td>   16.268</td> <td>   57.541</td>\n",
       "</tr>\n",
       "<tr>\n",
       "  <th>25-34 years</th>     <td>   39.6857</td> <td>   10.713</td> <td>    3.704</td> <td> 0.000</td> <td>   18.684</td> <td>   60.688</td>\n",
       "</tr>\n",
       "<tr>\n",
       "  <th>35-54 years</th>     <td>   41.3886</td> <td>   11.190</td> <td>    3.699</td> <td> 0.000</td> <td>   19.451</td> <td>   63.326</td>\n",
       "</tr>\n",
       "<tr>\n",
       "  <th>5-14 years</th>      <td>   28.2381</td> <td>   10.135</td> <td>    2.786</td> <td> 0.005</td> <td>    8.369</td> <td>   48.107</td>\n",
       "</tr>\n",
       "<tr>\n",
       "  <th>55-74 years</th>     <td>   42.0541</td> <td>   11.782</td> <td>    3.569</td> <td> 0.000</td> <td>   18.956</td> <td>   65.152</td>\n",
       "</tr>\n",
       "<tr>\n",
       "  <th>75+ years</th>       <td>   46.0679</td> <td>   12.114</td> <td>    3.803</td> <td> 0.000</td> <td>   22.319</td> <td>   69.817</td>\n",
       "</tr>\n",
       "<tr>\n",
       "  <th>Boomers</th>         <td>   39.1770</td> <td>   10.784</td> <td>    3.633</td> <td> 0.000</td> <td>   18.036</td> <td>   60.318</td>\n",
       "</tr>\n",
       "<tr>\n",
       "  <th>G.I. Generation</th> <td>   39.9628</td> <td>    9.677</td> <td>    4.130</td> <td> 0.000</td> <td>   20.992</td> <td>   58.934</td>\n",
       "</tr>\n",
       "<tr>\n",
       "  <th>Generation X</th>    <td>   38.7124</td> <td>   11.334</td> <td>    3.416</td> <td> 0.001</td> <td>   16.494</td> <td>   60.931</td>\n",
       "</tr>\n",
       "<tr>\n",
       "  <th>Generation Z</th>    <td>   39.5592</td> <td>   12.416</td> <td>    3.186</td> <td> 0.001</td> <td>   15.218</td> <td>   63.900</td>\n",
       "</tr>\n",
       "<tr>\n",
       "  <th>Millenials</th>      <td>   38.3361</td> <td>   11.901</td> <td>    3.221</td> <td> 0.001</td> <td>   15.006</td> <td>   61.666</td>\n",
       "</tr>\n",
       "<tr>\n",
       "  <th>Silent</th>          <td>   38.5913</td> <td>   10.369</td> <td>    3.722</td> <td> 0.000</td> <td>   18.264</td> <td>   58.919</td>\n",
       "</tr>\n",
       "</table>\n",
       "<table class=\"simpletable\">\n",
       "<tr>\n",
       "  <th>Omnibus:</th>       <td>2144.625</td> <th>  Durbin-Watson:     </th> <td>   2.020</td> \n",
       "</tr>\n",
       "<tr>\n",
       "  <th>Prob(Omnibus):</th>  <td> 0.000</td>  <th>  Jarque-Bera (JB):  </th> <td>10828.145</td>\n",
       "</tr>\n",
       "<tr>\n",
       "  <th>Skew:</th>           <td> 1.805</td>  <th>  Prob(JB):          </th> <td>    0.00</td> \n",
       "</tr>\n",
       "<tr>\n",
       "  <th>Kurtosis:</th>       <td> 8.817</td>  <th>  Cond. No.          </th> <td>5.89e+22</td> \n",
       "</tr>\n",
       "</table><br/><br/>Warnings:<br/>[1] Standard Errors assume that the covariance matrix of the errors is correctly specified.<br/>[2] The smallest eigenvalue is 3.16e-29. This might indicate that there are<br/>strong multicollinearity problems or that the design matrix is singular."
      ],
      "text/plain": [
       "<class 'statsmodels.iolib.summary.Summary'>\n",
       "\"\"\"\n",
       "                            OLS Regression Results                            \n",
       "==============================================================================\n",
       "Dep. Variable:      suicides_100k_pop   R-squared:                       0.356\n",
       "Model:                            OLS   Adj. R-squared:                  0.354\n",
       "Method:                 Least Squares   F-statistic:                     203.9\n",
       "Date:                Tue, 09 Jun 2020   Prob (F-statistic):               0.00\n",
       "Time:                        10:31:49   Log-Likelihood:                -21508.\n",
       "No. Observations:                5544   AIC:                         4.305e+04\n",
       "Df Residuals:                    5528   BIC:                         4.315e+04\n",
       "Df Model:                          15                                         \n",
       "Covariance Type:            nonrobust                                         \n",
       "===================================================================================\n",
       "                      coef    std err          t      P>|t|      [0.025      0.975]\n",
       "-----------------------------------------------------------------------------------\n",
       "const             234.3388     66.381      3.530      0.000     104.206     364.472\n",
       "sex                12.5764      0.315     39.895      0.000      11.958      13.194\n",
       "year               -0.1682      0.044     -3.798      0.000      -0.255      -0.081\n",
       "population      -2.355e-08   4.02e-08     -0.586      0.558   -1.02e-07    5.52e-08\n",
       "HDI                41.2634      2.735     15.085      0.000      35.901      46.626\n",
       "gdp_capita      -9.479e-05    1.1e-05     -8.626      0.000      -0.000   -7.32e-05\n",
       "15-24 years        36.9045     10.527      3.506      0.000      16.268      57.541\n",
       "25-34 years        39.6857     10.713      3.704      0.000      18.684      60.688\n",
       "35-54 years        41.3886     11.190      3.699      0.000      19.451      63.326\n",
       "5-14 years         28.2381     10.135      2.786      0.005       8.369      48.107\n",
       "55-74 years        42.0541     11.782      3.569      0.000      18.956      65.152\n",
       "75+ years          46.0679     12.114      3.803      0.000      22.319      69.817\n",
       "Boomers            39.1770     10.784      3.633      0.000      18.036      60.318\n",
       "G.I. Generation    39.9628      9.677      4.130      0.000      20.992      58.934\n",
       "Generation X       38.7124     11.334      3.416      0.001      16.494      60.931\n",
       "Generation Z       39.5592     12.416      3.186      0.001      15.218      63.900\n",
       "Millenials         38.3361     11.901      3.221      0.001      15.006      61.666\n",
       "Silent             38.5913     10.369      3.722      0.000      18.264      58.919\n",
       "==============================================================================\n",
       "Omnibus:                     2144.625   Durbin-Watson:                   2.020\n",
       "Prob(Omnibus):                  0.000   Jarque-Bera (JB):            10828.145\n",
       "Skew:                           1.805   Prob(JB):                         0.00\n",
       "Kurtosis:                       8.817   Cond. No.                     5.89e+22\n",
       "==============================================================================\n",
       "\n",
       "Warnings:\n",
       "[1] Standard Errors assume that the covariance matrix of the errors is correctly specified.\n",
       "[2] The smallest eigenvalue is 3.16e-29. This might indicate that there are\n",
       "strong multicollinearity problems or that the design matrix is singular.\n",
       "\"\"\""
      ]
     },
     "execution_count": 23,
     "metadata": {},
     "output_type": "execute_result"
    }
   ],
   "source": [
    "df4= df[df['suicides_100k_pop']<85].copy()\n",
    "X4 = df4[[ 'sex', 'year', 'population','HDI',\n",
    "'gdp_capita']]\n",
    "X4 = X4.join(pd.get_dummies(df['age']))\n",
    "X4 = X4.join(pd.get_dummies(df['generation']))\n",
    "Y4 = df4['suicides_100k_pop']\n",
    "X4_train, X4_test, y4_train, y4_test = train_test_split(\n",
    "X4, Y4, test_size=0.33, random_state=42)\n",
    "results4 = regress(X4_train,y4_train)\n",
    "results4.summary()"
   ]
  },
  {
   "cell_type": "code",
   "execution_count": 24,
   "metadata": {},
   "outputs": [
    {
     "name": "stdout",
     "output_type": "stream",
     "text": [
      "133.47190063413967\n"
     ]
    }
   ],
   "source": [
    "y_pred4= results4.predict(sm.add_constant(X4_test))\n",
    "erro4=mean_squared_error(y4_test,y_pred4)\n",
    "print(erro4)"
   ]
  },
  {
   "cell_type": "markdown",
   "metadata": {},
   "source": [
    "Podemos observar que nosso erro caiu consideravelmente, de 208 para 133 ( se compararmos o erro relativo aos testes, ou seja sem o viés dado pelos dados de treinamento). Podemos concluir portanto que os pontos muito acima do esperado ( que representavam apenas 1% de nossos dados) estavam fazendo com que nosso modelo fosse mais impreciso. Ao excluírmos estes pontos, podemos analisar de forma mais precisa e ponderada nossos dados."
   ]
  },
  {
   "cell_type": "code",
   "execution_count": null,
   "metadata": {},
   "outputs": [],
   "source": []
  },
  {
   "cell_type": "markdown",
   "metadata": {},
   "source": [
    "## 5- Modelo de Regressão Random Forest"
   ]
  },
  {
   "cell_type": "markdown",
   "metadata": {},
   "source": [
    "Agora vamos utilizar outro modelo de Regressão denominado Random Forest, e ver como o erro deste se compara ao anterior. O método interpreta de uma maneira aleatória, vários modelos diferentes ,estabelecendo  regras de tomadas de decisões, buscando melhores condições para a análise. Geralmente, o que se busca fazer é encontrar a variável mais relevante para nossa saída Y, e com isso os valores que nos dão o conjunto populacional com menos diferenças, ou seja, mais homogêneo possível. A vantagem do Random Forest é que ele tende a evitar o overfitting, ou seja, quando há muitos dados a serem considerados, nosso modelo poderia perder a capacidade de generalização."
   ]
  },
  {
   "cell_type": "markdown",
   "metadata": {},
   "source": [
    "O que o Random Forest faz para evitar isso é formar conjuntos menores de  features (característica aleatórias para avaliar), selecionar os que melhor representam um \"Nó raíz\", ou seja, um nó que depois será divido em em outros, como se fossem ramos, por isso o nome Forest. Depoi o algorítimo cria os nós filhos, ou seja, os que são derivados do nó raíz, e repete isso sucessivamente. Ao final, o modelo compara as votações de cada mini ramo, e a decisão mais votada é a tomada de decisão."
   ]
  },
  {
   "cell_type": "markdown",
   "metadata": {},
   "source": [
    "Já o parâmetro \"random_state\", apenas garante que todas as vezes que rodarmos a regressão com esse mesmo número, iremos obter os mesmos resultados, já que este é um modelo aleatório e poderia fornecer diferentes resultados cada vez que o rodássemos."
   ]
  },
  {
   "cell_type": "code",
   "execution_count": 25,
   "metadata": {},
   "outputs": [
    {
     "name": "stdout",
     "output_type": "stream",
     "text": [
      "89.57007397661356\n"
     ]
    }
   ],
   "source": [
    "from sklearn.metrics import mean_squared_error\n",
    "from sklearn.ensemble import RandomForestRegressor \n",
    "  \n",
    " # criando o objeto da regressão\n",
    "regressor = RandomForestRegressor(n_estimators = 200, random_state = 0) \n",
    "# fazendo o fit da regressão com nosso x e y de treinamento\n",
    "regressor.fit(X_train, y_train)   \n",
    "y_pred= regressor.predict(X_test)\n",
    "erro=mean_squared_error(y_test,y_pred)\n",
    "print(erro)"
   ]
  },
  {
   "cell_type": "markdown",
   "metadata": {},
   "source": [
    "Podemos observar que esse erro é bem menor que o anterior dado pela regressão linear, o que significa que ele é mais eficaz nesse caso. Vale ressaltar que o parâmetro \"n_estimator\" corresponde ao números de \"árvores\", ou seja, quanto maior for mais precisa tende a ser a análise, já que levaremos mais variáveis em conta. No entanto, há um limite em que o erro se mantém muito parecido a partir de certo número, nesse caso, um parâmetro maior que 200 mantinha o erro de 89 e toma um tempo maior para ser estimado."
   ]
  },
  {
   "cell_type": "markdown",
   "metadata": {},
   "source": [
    "Vamos comparar nosso erro com o erro se considerarmos também a base de dados que utilizamos para treinar nosso modelo:"
   ]
  },
  {
   "cell_type": "code",
   "execution_count": 26,
   "metadata": {},
   "outputs": [
    {
     "name": "stdout",
     "output_type": "stream",
     "text": [
      "12.574727275978493\n"
     ]
    }
   ],
   "source": [
    "\n",
    "y_pred= regressor.predict(X_train)\n",
    "erro=mean_squared_error(y_train,y_pred)\n",
    "print(erro)"
   ]
  },
  {
   "cell_type": "markdown",
   "metadata": {},
   "source": [
    "O erro diminui bastante ao fazermos isso, uma vez que a base inclui também os dados utilizados para ensinar o modelo a avaliar as variáveis"
   ]
  },
  {
   "cell_type": "markdown",
   "metadata": {},
   "source": [
    "Agora vamos fazer o que fizemos com a regressão linear no que se refere a excluir os dados que saem muito do esperado, os outliars. O que esperamos fazer com isso é aumentar a precisão de nosso modelo para que ele preveja com menos erros nosso Y:"
   ]
  },
  {
   "cell_type": "code",
   "execution_count": 27,
   "metadata": {},
   "outputs": [
    {
     "name": "stdout",
     "output_type": "stream",
     "text": [
      "54.138296722404846\n"
     ]
    }
   ],
   "source": [
    "regressor.fit(X4_train, y4_train)   \n",
    "y5_pred= regressor.predict(X4_test)\n",
    "erro_semoutliar=mean_squared_error(y4_test,y5_pred)\n",
    "print(erro_semoutliar)"
   ]
  },
  {
   "cell_type": "markdown",
   "metadata": {},
   "source": [
    "Podemos observar uma queda significativa no erro, de 89 para 54, o que nos prova que a exclusão de outliars nos ajudou a tornar nosso modelo mais preciso. Agora, da mesma forma vamos ver o que acontece quando levamos em consideração nossa base de treinamento:"
   ]
  },
  {
   "cell_type": "code",
   "execution_count": 28,
   "metadata": {},
   "outputs": [
    {
     "name": "stdout",
     "output_type": "stream",
     "text": [
      "7.725189901732951\n"
     ]
    }
   ],
   "source": [
    "y_predtrain= regressor.predict(X4_train)\n",
    "erro_teste=mean_squared_error(y4_train,y_predtrain)\n",
    "print(erro_teste)"
   ]
  },
  {
   "cell_type": "code",
   "execution_count": 54,
   "metadata": {},
   "outputs": [],
   "source": [
    "from sklearn.ensemble import GradientBoostingRegressor\n",
    "import numpy as np\n",
    "import pandas as pd\n",
    "from sklearn.model_selection import train_test_split\n",
    "from sklearn.metrics import mean_squared_error\n",
    "from sklearn.datasets import load_boston\n",
    "from sklearn.metrics import mean_absolute_error"
   ]
  },
  {
   "cell_type": "code",
   "execution_count": 83,
   "metadata": {},
   "outputs": [],
   "source": [
    "from sklearn.ensemble import GradientBoostingRegressor\n",
    "#regressor = GradientBoostingRegressor(\n",
    "  #  max_depth=2,\n",
    "   # n_estimators=3,\n",
    "    #learning_rate=1.0\n",
    "#)\n",
    "#regressor.fit(X_train, y_train)\n",
    "#erro_2=mean_squared_error(y_test,y_pred)"
   ]
  },
  {
   "cell_type": "code",
   "execution_count": null,
   "metadata": {},
   "outputs": [],
   "source": [
    "\n"
   ]
  },
  {
   "cell_type": "code",
   "execution_count": null,
   "metadata": {},
   "outputs": [],
   "source": []
  },
  {
   "cell_type": "markdown",
   "metadata": {},
   "source": [
    "## Bibliografia"
   ]
  },
  {
   "cell_type": "markdown",
   "metadata": {},
   "source": [
    "https://theculturetrip.com/europe/lithuania/articles/this-country-has-among-the-highest-suicide-rates-in-the-world/"
   ]
  },
  {
   "cell_type": "code",
   "execution_count": null,
   "metadata": {},
   "outputs": [],
   "source": []
  }
 ],
 "metadata": {
  "kernelspec": {
   "display_name": "Python 3",
   "language": "python",
   "name": "python3"
  },
  "language_info": {
   "codemirror_mode": {
    "name": "ipython",
    "version": 3
   },
   "file_extension": ".py",
   "mimetype": "text/x-python",
   "name": "python",
   "nbconvert_exporter": "python",
   "pygments_lexer": "ipython3",
   "version": "3.7.1"
  }
 },
 "nbformat": 4,
 "nbformat_minor": 2
}
